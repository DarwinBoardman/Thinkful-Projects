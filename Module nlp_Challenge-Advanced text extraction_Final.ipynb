{
 "cells": [
  {
   "cell_type": "markdown",
   "metadata": {},
   "source": [
    "# Challenge: advanced text extraction"
   ]
  },
  {
   "cell_type": "markdown",
   "metadata": {},
   "source": [
    "Take the well-known [20 newsgroups dataset](http://qwone.com/~jason/20Newsgroups/) and use each of the methods on it. Your goal is to determine which method, if any, best reproduces the topics represented by the newsgroups. Write up a report where you evaluate each method in light of the 'ground truth'- the known source of each newsgroup post. Which works best, and why do you think this is the case?"
   ]
  },
  {
   "cell_type": "markdown",
   "metadata": {},
   "source": [
    "Example code with this data set can be found at [this github](https://github.com/gokriznastic/20-newsgroups_text-classification/blob/master/Multinomial%20Naive%20Bayes-%20BOW%20with%20TF.ipynb). It was helpful to learn how to handle folders, subfolders, and files. "
   ]
  },
  {
   "cell_type": "code",
   "execution_count": 1,
   "metadata": {},
   "outputs": [],
   "source": [
    "# preprocessing tar files, organizing sub-folders and thier files\n",
    "import tarfile\n",
    "from os import listdir\n",
    "from os.path import isfile, join\n",
    "import string\n",
    "\n",
    "import numpy as np\n",
    "import pandas as pd\n",
    "import scipy\n",
    "import matplotlib.pyplot as plt\n",
    "import seaborn as sns\n",
    "%matplotlib inline\n",
    "\n",
    "# nlp parser\n",
    "import spacy\n",
    "\n",
    "import re\n",
    "\n",
    "# vectorizing tfidf \n",
    "from sklearn.feature_extraction.text import TfidfVectorizer"
   ]
  },
  {
   "cell_type": "code",
   "execution_count": 1,
   "metadata": {},
   "outputs": [],
   "source": [
    "# commented out because it only needs to be run once on a single machine\n",
    "\n",
    "#fname='20_newsgroups (1).tar.gz'\n",
    "#if fname.endswith(\"tar.gz\"):\n",
    "#    tar = tarfile.open(fname, \"r:gz\")\n",
    "#    tar.extractall(path='C:/mypath/myfolder')\n",
    "#    tar.close()\n",
    "#elif fname.endswith(\"tar\"):\n",
    "#    tar = tarfile.open(fname, \"r:\")\n",
    "#    tar.extractall(path='C:/mypath/myfolder')\n",
    "#    tar.close()"
   ]
  },
  {
   "cell_type": "code",
   "execution_count": 2,
   "metadata": {},
   "outputs": [],
   "source": [
    "my_path = '20_Newsgroups_Output/20_newsgroups'\n",
    "\n",
    "#creating a list of folder names to make valid pathnames later\n",
    "folders = [f for f in listdir(my_path)]"
   ]
  },
  {
   "cell_type": "code",
   "execution_count": 3,
   "metadata": {
    "scrolled": true
   },
   "outputs": [
    {
     "data": {
      "text/plain": [
       "['alt.atheism',\n",
       " 'comp.graphics',\n",
       " 'comp.os.ms-windows.misc',\n",
       " 'comp.sys.ibm.pc.hardware',\n",
       " 'comp.sys.mac.hardware',\n",
       " 'comp.windows.x',\n",
       " 'misc.forsale',\n",
       " 'rec.autos',\n",
       " 'rec.motorcycles',\n",
       " 'rec.sport.baseball',\n",
       " 'rec.sport.hockey',\n",
       " 'sci.crypt',\n",
       " 'sci.electronics',\n",
       " 'sci.med',\n",
       " 'sci.space',\n",
       " 'soc.religion.christian',\n",
       " 'talk.politics.guns',\n",
       " 'talk.politics.mideast',\n",
       " 'talk.politics.misc',\n",
       " 'talk.religion.misc']"
      ]
     },
     "execution_count": 3,
     "metadata": {},
     "output_type": "execute_result"
    }
   ],
   "source": [
    "folders"
   ]
  },
  {
   "cell_type": "code",
   "execution_count": 4,
   "metadata": {},
   "outputs": [
    {
     "data": {
      "text/plain": [
       "20"
      ]
     },
     "execution_count": 4,
     "metadata": {},
     "output_type": "execute_result"
    }
   ],
   "source": [
    "len(folders)"
   ]
  },
  {
   "cell_type": "code",
   "execution_count": 5,
   "metadata": {},
   "outputs": [],
   "source": [
    "#creating a 2D list to store list of all files in different folders\n",
    "\n",
    "files = []\n",
    "for folder_name in folders:\n",
    "    folder_path = join(my_path, folder_name)\n",
    "    files.append([f for f in listdir(folder_path)])"
   ]
  },
  {
   "cell_type": "code",
   "execution_count": 6,
   "metadata": {},
   "outputs": [
    {
     "data": {
      "text/plain": [
       "19997"
      ]
     },
     "execution_count": 6,
     "metadata": {},
     "output_type": "execute_result"
    }
   ],
   "source": [
    "#checking total no. of files gathered\n",
    "\n",
    "sum(len(files[i]) for i in range(len(files)))"
   ]
  },
  {
   "cell_type": "code",
   "execution_count": 7,
   "metadata": {},
   "outputs": [],
   "source": [
    "#creating a list of pathnames of all the documents\n",
    "#this would serve to split our dataset into train & test later without any bias\n",
    "\n",
    "pathname_list = []\n",
    "for fo in range(len(folders)):\n",
    "    for fi in files[fo]:\n",
    "        pathname_list.append(join(my_path, join(folders[fo], fi)))"
   ]
  },
  {
   "cell_type": "code",
   "execution_count": 8,
   "metadata": {},
   "outputs": [
    {
     "data": {
      "text/plain": [
       "19997"
      ]
     },
     "execution_count": 8,
     "metadata": {},
     "output_type": "execute_result"
    }
   ],
   "source": [
    "len(pathname_list)"
   ]
  },
  {
   "cell_type": "code",
   "execution_count": 9,
   "metadata": {},
   "outputs": [],
   "source": [
    "#making an array containing the classes each of the documents belong to\n",
    "\n",
    "Y = []\n",
    "for folder_name in folders:\n",
    "    folder_path = join(my_path, folder_name)\n",
    "    num_of_files= len(listdir(folder_path))\n",
    "    for i in range(num_of_files):\n",
    "        Y.append(folder_name)"
   ]
  },
  {
   "cell_type": "code",
   "execution_count": 10,
   "metadata": {},
   "outputs": [
    {
     "data": {
      "text/plain": [
       "19997"
      ]
     },
     "execution_count": 10,
     "metadata": {},
     "output_type": "execute_result"
    }
   ],
   "source": [
    "len(Y)"
   ]
  },
  {
   "cell_type": "markdown",
   "metadata": {},
   "source": [
    "### Functions for word extraction from documents"
   ]
  },
  {
   "cell_type": "code",
   "execution_count": 12,
   "metadata": {},
   "outputs": [],
   "source": [
    "#function to preprocess the words list to remove punctuations\n",
    "\n",
    "def preprocess(words):\n",
    "    #we'll make use of python's translate function,that maps one set of characters to another\n",
    "    #we create an empty mapping table, the third argument allows us to list all of the characters \n",
    "    #to remove during the translation process\n",
    "    \n",
    "    #first we will try to filter out some  unnecessary data like tabs\n",
    "    table = str.maketrans('', '', '\\t')\n",
    "    words = [word.translate(table) for word in words]\n",
    "    \n",
    "    punctuations = (string.punctuation).replace(\"'\", \"\") \n",
    "    # the character: ' appears in a lot of stopwords and changes meaning of words if removed\n",
    "    #hence it is removed from the list of symbols that are to be discarded from the documents\n",
    "    trans_table = str.maketrans('', '', punctuations)\n",
    "    stripped_words = [word.translate(trans_table) for word in words]\n",
    "    \n",
    "    #some white spaces may be added to the list of words, due to the translate function & nature of our documents\n",
    "    #we remove them below\n",
    "    words = [str for str in stripped_words if str]\n",
    "    \n",
    "    #some words are quoted in the documents & as we have not removed ' to maintain the integrity of some stopwords\n",
    "    #we try to unquote such words below\n",
    "    p_words = []\n",
    "    for word in words:\n",
    "        if (word[0] and word[len(word)-1] == \"'\"):\n",
    "            word = word[1:len(word)-1]\n",
    "        elif(word[0] == \"'\"):\n",
    "            word = word[1:len(word)]\n",
    "        else:\n",
    "            word = word\n",
    "        p_words.append(word)\n",
    "    \n",
    "    words = p_words.copy()\n",
    "        \n",
    "    #we will also remove just-numeric strings as they do not have any significant meaning in text classification\n",
    "    words = [word for word in words if not word.isdigit()]\n",
    "    \n",
    "    #we will also remove single character strings\n",
    "    words = [word for word in words if not len(word) == 1]\n",
    "    \n",
    "    #after removal of so many characters it may happen that some strings have become blank, we remove those\n",
    "    words = [str for str in words if str]\n",
    "    \n",
    "    #we also normalize the cases of our words\n",
    "    words = [word.lower() for word in words]\n",
    "    \n",
    "    #we try to remove words with only 2 characters\n",
    "    words = [word for word in words if len(word) > 2]\n",
    "    \n",
    "    return words"
   ]
  },
  {
   "cell_type": "code",
   "execution_count": 13,
   "metadata": {},
   "outputs": [],
   "source": [
    "# create stop words list\n",
    "nlp = spacy.load('en')\n",
    "\n",
    "stopwords = nlp.Defaults.stop_words"
   ]
  },
  {
   "cell_type": "code",
   "execution_count": 14,
   "metadata": {},
   "outputs": [],
   "source": [
    "#function to remove stopwords\n",
    "\n",
    "def remove_stopwords(words):\n",
    "    words = [word for word in words if not word in stopwords]\n",
    "    return words"
   ]
  },
  {
   "cell_type": "code",
   "execution_count": 15,
   "metadata": {},
   "outputs": [],
   "source": [
    "#function to convert a sentence into list of words\n",
    "\n",
    "def tokenize_sentence(line):\n",
    "    words = line[0:len(line)-1].strip().split(\" \")\n",
    "    words = preprocess(words)\n",
    "    words = remove_stopwords(words)\n",
    "    \n",
    "    return words"
   ]
  },
  {
   "cell_type": "code",
   "execution_count": 16,
   "metadata": {},
   "outputs": [],
   "source": [
    "#function to remove metadata\n",
    "\n",
    "def remove_metadata(lines):\n",
    "    for i in range(len(lines)):\n",
    "        if(lines[i] == '\\n'):\n",
    "            start = i+1\n",
    "            break\n",
    "    new_lines = lines[start:]\n",
    "    return new_lines"
   ]
  },
  {
   "cell_type": "code",
   "execution_count": 17,
   "metadata": {},
   "outputs": [],
   "source": [
    "\n",
    "#function to convert a document into list of words\n",
    "\n",
    "def tokenize(path):\n",
    "    #load document as a list of lines\n",
    "    f = open(path, 'r')\n",
    "    text_lines = f.readlines()\n",
    "    \n",
    "    #removing the meta-data at the top of each document\n",
    "    text_lines = remove_metadata(text_lines)\n",
    "    \n",
    "    #initiazing an array to hold all the words in a document\n",
    "    doc_words = []\n",
    "    \n",
    "    #traverse over all the lines and tokenize each one with the help of helper function: tokenize_sentence\n",
    "    for line in text_lines:\n",
    "        doc_words.append(tokenize_sentence(line))\n",
    "\n",
    "    return doc_words"
   ]
  },
  {
   "cell_type": "code",
   "execution_count": 18,
   "metadata": {},
   "outputs": [],
   "source": [
    "#a simple helper function to convert a 2D array to 1D, without using numpy\n",
    "\n",
    "def flatten(list):\n",
    "    new_list = []\n",
    "    for i in list:\n",
    "        for j in i:\n",
    "            new_list.append(j)\n",
    "    return new_list"
   ]
  },
  {
   "cell_type": "code",
   "execution_count": 19,
   "metadata": {},
   "outputs": [],
   "source": [
    "# create list of words by applying a for loop and calling the flatten and tokenize functions\n",
    "list_of_words = []\n",
    "\n",
    "# results in lists of individual words inside lists for each document\n",
    "for document in pathname_list:\n",
    "        list_of_words.append(flatten(tokenize(document)))"
   ]
  },
  {
   "cell_type": "code",
   "execution_count": 20,
   "metadata": {},
   "outputs": [
    {
     "data": {
      "text/plain": [
       "19997"
      ]
     },
     "execution_count": 20,
     "metadata": {},
     "output_type": "execute_result"
    }
   ],
   "source": [
    "len(list_of_words)"
   ]
  },
  {
   "cell_type": "code",
   "execution_count": 21,
   "metadata": {},
   "outputs": [],
   "source": [
    "# combine the words in the sub lists and store as strings \n",
    "# necessary to run text extraction model\n",
    "sentences = []\n",
    "\n",
    "for word_list in list_of_words:\n",
    "    str1= \" \"\n",
    "    \n",
    "    sentence = str1.join(word_list)\n",
    "    sentences.append(sentence)\n"
   ]
  },
  {
   "cell_type": "code",
   "execution_count": 22,
   "metadata": {},
   "outputs": [
    {
     "data": {
      "text/plain": [
       "19997"
      ]
     },
     "execution_count": 22,
     "metadata": {},
     "output_type": "execute_result"
    }
   ],
   "source": [
    "len(sentences)"
   ]
  },
  {
   "cell_type": "markdown",
   "metadata": {},
   "source": [
    "# Comparing LSA, LDA, and NNMF\n",
    "\n",
    "We'll be looking at interpretability, speed, and consistency across these text extraction methods.  The goal is to identify common themes in sentences on a per-document basis.  We won't be using pLSA as sklearn does not support it.\n",
    "\n",
    "To do this, we will:\n",
    "\n",
    "1. Parse and process the data into a tf-idf matrix.\n",
    "2. Fit LSA, LDA, and NNMF models with 5 topics each.\n",
    "4. Extract the words that best describe each topic.\n",
    "5. Examine the topic relationships for the words 'god', 'thanks', 'people', and 'writes'.\n",
    "\n",
    "## Generating the tfidf matrix"
   ]
  },
  {
   "cell_type": "code",
   "execution_count": 24,
   "metadata": {
    "scrolled": true
   },
   "outputs": [],
   "source": [
    "# Creating the tf-idf matrix.\n",
    "vectorizer = TfidfVectorizer(stop_words='english')\n",
    "sentences_tfidf=vectorizer.fit_transform(sentences)\n",
    "\n",
    "# Getting the word list.\n",
    "terms = vectorizer.get_feature_names()\n",
    "\n",
    "# Number of topics.\n",
    "ntopics=5\n",
    "\n",
    "# Linking words to topics\n",
    "def word_topic(tfidf,solution, wordlist):\n",
    "    \n",
    "    # Loading scores for each word on each topic/component.\n",
    "    words_by_topic=tfidf.T * solution\n",
    "\n",
    "    # Linking the loadings to the words in an easy-to-read way.\n",
    "    components=pd.DataFrame(words_by_topic,index=wordlist)\n",
    "    \n",
    "    return components\n",
    "\n",
    "# Extracts the top N words and their loadings for each topic.\n",
    "def top_words(components, n_top_words):\n",
    "    n_topics = range(components.shape[1])\n",
    "    index= np.repeat(n_topics, n_top_words, axis=0)\n",
    "    topwords=pd.Series(index=index)\n",
    "    for column in range(components.shape[1]):\n",
    "        # Sort the column so that highest loadings are at the top.\n",
    "        sortedwords=components.iloc[:,column].sort_values(ascending=False)\n",
    "        # Choose the N highest loadings.\n",
    "        chosen=sortedwords[:n_top_words]\n",
    "        # Combine loading and index into a string.\n",
    "        chosenlist=chosen.index +\" \"+round(chosen,2).map(str) \n",
    "        topwords.loc[column]=[x for x in chosenlist]\n",
    "    return(topwords)\n",
    "\n",
    "# Number of words to look at for each topic.\n",
    "n_top_words = 10\n"
   ]
  },
  {
   "cell_type": "markdown",
   "metadata": {},
   "source": [
    "In addition to creating the tfidf matrix, there are two convenience functions that will help keep the code tidy when comparing models.  The first provides a list of the words that are paired with each topic.  The second gives us the best words for each topic so we can compare across methods.\n",
    "\n",
    "## Fitting the three topic extraction models"
   ]
  },
  {
   "cell_type": "code",
   "execution_count": 25,
   "metadata": {},
   "outputs": [
    {
     "name": "stderr",
     "output_type": "stream",
     "text": [
      "C:\\Users\\User\\Anaconda3\\lib\\site-packages\\ipykernel_launcher.py:28: DeprecationWarning: The default dtype for empty Series will be 'object' instead of 'float64' in a future version. Specify a dtype explicitly to silence this warning.\n"
     ]
    }
   ],
   "source": [
    "# LSA\n",
    "\n",
    "from sklearn.decomposition import TruncatedSVD\n",
    "from sklearn.pipeline import make_pipeline\n",
    "from sklearn.preprocessing import Normalizer\n",
    "\n",
    "svd= TruncatedSVD(ntopics)\n",
    "lsa = make_pipeline(svd, Normalizer(copy=False))\n",
    "sentences_lsa = lsa.fit_transform(sentences_tfidf)\n",
    "\n",
    "components_lsa = word_topic(sentences_tfidf, sentences_lsa, terms)\n",
    "\n",
    "topwords=pd.DataFrame()\n",
    "topwords['LSA']=top_words(components_lsa, n_top_words)     "
   ]
  },
  {
   "cell_type": "code",
   "execution_count": 26,
   "metadata": {},
   "outputs": [
    {
     "name": "stderr",
     "output_type": "stream",
     "text": [
      "C:\\Users\\User\\Anaconda3\\lib\\site-packages\\ipykernel_launcher.py:28: DeprecationWarning: The default dtype for empty Series will be 'object' instead of 'float64' in a future version. Specify a dtype explicitly to silence this warning.\n"
     ]
    }
   ],
   "source": [
    "# LDA\n",
    "from sklearn.decomposition import LatentDirichletAllocation as LDA\n",
    "\n",
    "lda = LDA(n_components=ntopics, # n_topics is depreciated\n",
    "          doc_topic_prior=None, # Prior = 1/n_documents\n",
    "          topic_word_prior=1/ntopics,\n",
    "          learning_decay=0.7, # Convergence rate.\n",
    "          learning_offset=10.0, # Causes earlier iterations to have less influence on the learning\n",
    "          max_iter=10, # when to stop even if the model is not converging (to prevent running forever)\n",
    "          evaluate_every=-1, # Do not evaluate perplexity, as it slows training time.\n",
    "          mean_change_tol=0.001, # Stop updating the document topic distribution in the E-step when mean change is < tol\n",
    "          max_doc_update_iter=100, # When to stop updating the document topic distribution in the E-step even if tol is not reached\n",
    "          n_jobs=-1, # Use all available CPUs to speed up processing time.\n",
    "          verbose=0, # amount of output to give while iterating\n",
    "          random_state=0\n",
    "         )\n",
    "\n",
    "sentences_lda = lda.fit_transform(sentences_tfidf) \n",
    "\n",
    "components_lda = word_topic(sentences_tfidf, sentences_lda, terms)\n",
    "\n",
    "topwords['LDA']=top_words(components_lda, n_top_words)"
   ]
  },
  {
   "cell_type": "code",
   "execution_count": 27,
   "metadata": {},
   "outputs": [
    {
     "name": "stderr",
     "output_type": "stream",
     "text": [
      "C:\\Users\\User\\Anaconda3\\lib\\site-packages\\ipykernel_launcher.py:28: DeprecationWarning: The default dtype for empty Series will be 'object' instead of 'float64' in a future version. Specify a dtype explicitly to silence this warning.\n"
     ]
    }
   ],
   "source": [
    "# NNMF\n",
    "\n",
    "from sklearn.decomposition import NMF\n",
    "\n",
    "nmf = NMF(alpha=0.0, \n",
    "          init='nndsvdar', # how starting value are calculated\n",
    "          l1_ratio=0.0, # Sets whether regularization is L2 (0), L1 (1), or a combination (values between 0 and 1)\n",
    "          max_iter=200, # when to stop even if the model is not converging (to prevent running forever)\n",
    "          n_components=ntopics, \n",
    "          random_state=0, \n",
    "          solver='cd', # Use Coordinate Descent to solve\n",
    "          tol=0.0001, # model will stop if tfidf-WH <= tol\n",
    "          verbose=0 # amount of output to give while iterating\n",
    "         )\n",
    "sentences_nmf = nmf.fit_transform(sentences_tfidf) \n",
    "\n",
    "components_nmf = word_topic(sentences_tfidf, sentences_nmf, terms)\n",
    "\n",
    "topwords['NNMF']=top_words(components_nmf, n_top_words)"
   ]
  },
  {
   "cell_type": "markdown",
   "metadata": {},
   "source": [
    "We are mostly using the default settings for each method, but explicitly printing them so it is clear what is going on and how each model can be modified.  sklearn has such nice parallel structure for its various topic extraction methods that we could probably have abstracted the code even further."
   ]
  },
  {
   "cell_type": "code",
   "execution_count": 28,
   "metadata": {
    "scrolled": true
   },
   "outputs": [
    {
     "name": "stdout",
     "output_type": "stream",
     "text": [
      "Topic 0:\n",
      "              LSA             LDA             NNMF\n",
      "0   writes 287.51   thanks 108.55      people 7.65\n",
      "0  article 263.32  windows 103.83      writes 6.31\n",
      "0      don 223.32      know 85.47     article 5.94\n",
      "0     like 219.94     email 85.15         don 5.58\n",
      "0     know 214.55       use 83.89  government 4.91\n",
      "0   people 206.75     drive 82.31        like 4.71\n",
      "0    think 179.47      card 77.94        think 4.6\n",
      "0      use 150.74      like 76.12        know 4.03\n",
      "0     good 148.02    writes 69.45       right 3.81\n",
      "0     time 146.76   article 63.45        time 3.32\n",
      "Topic 1:\n",
      "              LSA           LDA          NNMF\n",
      "1   thanks 101.78   writes 9.82  windows 7.51\n",
      "1   windows 88.78  article 9.11   thanks 6.26\n",
      "1      email 76.1     know 8.34    drive 6.01\n",
      "1      card 67.28   thanks 8.33     card 5.26\n",
      "1     drive 64.51     like 7.45      use 5.02\n",
      "1       use 53.07      don 7.06     know 4.94\n",
      "1      file 50.26    email 6.83    email 4.86\n",
      "1  software 48.72    people 6.0     like 4.49\n",
      "1   program 48.05    think 5.56      file 4.1\n",
      "1       dos 44.43      new 5.39  problem 3.79\n",
      "Topic 2:\n",
      "               LSA           LDA             NNMF\n",
      "2        god 95.54  writes 10.72        god 15.98\n",
      "2    windows 41.36  article 9.69       jesus 5.81\n",
      "2      jesus 34.46   thanks 9.15       bible 3.91\n",
      "2     thanks 32.25     know 8.28      people 3.61\n",
      "2       card 26.86     like 7.81     believe 3.54\n",
      "2      bible 24.68      don 7.31      christ 3.16\n",
      "2      drive 22.06    email 6.53   christian 3.07\n",
      "2       file 21.53       ax 6.37       faith 3.05\n",
      "2        dos 20.59   people 6.02  christians 2.82\n",
      "2  christian 19.67     think 5.6         don 2.81\n",
      "Topic 3:\n",
      "                LSA             LDA           NNMF\n",
      "3  government 46.36   writes 252.04       game 9.4\n",
      "3         key 36.91  article 229.51      team 6.52\n",
      "3         chip 29.4   people 205.88     games 5.59\n",
      "3  encryption 28.62       don 190.5      year 4.37\n",
      "3     clipper 26.08     like 171.14    hockey 4.08\n",
      "3      people 25.51    think 163.89    writes 3.76\n",
      "3      israel 24.08     know 157.06       don 3.65\n",
      "3         law 22.27      god 146.13  baseball 3.44\n",
      "3        keys 21.08     good 124.89   article 3.33\n",
      "3          fbi 20.9     time 124.26     think 3.29\n",
      "Topic 4:\n",
      "               LSA            LDA            NNMF\n",
      "4      drive 52.35   writes 12.42  objective 9.08\n",
      "4  objective 43.42  article 11.07   morality 4.55\n",
      "4       scsi 27.82     know 10.11     values 4.43\n",
      "4      frank 24.36   thanks 10.07      frank 4.32\n",
      "4   morality 24.13       don 9.26      dwyer 4.19\n",
      "4     writes 22.38      like 8.66      moral 3.93\n",
      "4      moral 22.09      think 7.5    science 3.65\n",
      "4    article 21.78       new 6.81     writes 3.64\n",
      "4       dwyer 20.4     email 6.72      value 3.49\n",
      "4     values 19.92    people 6.34    article 3.41\n"
     ]
    }
   ],
   "source": [
    "for topic in range(ntopics):\n",
    "    print('Topic {}:'.format(topic))\n",
    "    print(topwords.loc[topic])"
   ]
  },
  {
   "cell_type": "markdown",
   "metadata": {},
   "source": [
    "A number of things are clear.  First, some topics are shared, though the order of topics varies- the 'writes' topic is first for LSA, but second for LDA.  And second, the content of some of the topics varies considerably across methods.  This is a clear argument for using multiple methods when exploring topics.\n",
    "\n",
    "# Sparsity\n",
    "\n",
    "Now let's examine sparsity by looking at the distributions of loadings for the words 'god', 'thanks', 'people', and 'writes' across the methods:"
   ]
  },
  {
   "cell_type": "code",
   "execution_count": 29,
   "metadata": {
    "scrolled": true
   },
   "outputs": [
    {
     "data": {
      "image/png": "[encoded data removed]",
      "text/plain": [
       "<Figure size 432x288 with 1 Axes>"
      ]
     },
     "metadata": {},
     "output_type": "display_data"
    },
    {
     "data": {
      "image/png": "[encoded data removed]",
      "text/plain": [
       "<Figure size 432x288 with 1 Axes>"
      ]
     },
     "metadata": {},
     "output_type": "display_data"
    },
    {
     "data": {
      "image/png": "[encoded data removed]",
      "text/plain": [
       "<Figure size 432x288 with 1 Axes>"
      ]
     },
     "metadata": {},
     "output_type": "display_data"
    },
    {
     "data": {
      "image/png": "[encoded data removed]",
      "text/plain": [
       "<Figure size 432x288 with 1 Axes>"
      ]
     },
     "metadata": {},
     "output_type": "display_data"
    }
   ],
   "source": [
    "# The words to look at.\n",
    "targetwords=['god','thanks','people','writes']\n",
    "\n",
    "# Storing the loadings.\n",
    "wordloadings=pd.DataFrame(columns=targetwords)\n",
    "\n",
    "# For each word, extracting and string the loadings for each method.\n",
    "for word in targetwords:\n",
    "    loadings=components_lsa.loc[word].append(\n",
    "        components_lda.loc[word]).append(\n",
    "            components_nmf.loc[word])\n",
    "    wordloadings[word]=loadings\n",
    "\n",
    "# Labeling the data by method and providing an ordering variable for graphing purposes. \n",
    "wordloadings['method']=np.repeat(['LSA','LDA','NNMF'], 5, axis=0)\n",
    "wordloadings['loading']=[0,1,2,3,4]*3\n",
    "\n",
    "sns.set(style=\"darkgrid\")\n",
    "\n",
    "for word in targetwords:\n",
    "    sns.barplot(x=\"method\", y=word, hue=\"loading\", data=wordloadings)\n",
    "    plt.title(word)\n",
    "    plt.ylabel(\"\")\n",
    "    plt.show()"
   ]
  },
  {
   "cell_type": "markdown",
   "metadata": {},
   "source": [
    "LSA is the method most likely to have high loadings on more than one topic for the same word, and negative loadings.  LDA tends to have one high loading and some lower loadings.  Loadings for NNMF are lower all around, and the most sparse, with some of the topics having loadings of zero on each word."
   ]
  },
  {
   "cell_type": "code",
   "execution_count": null,
   "metadata": {},
   "outputs": [],
   "source": []
  }
 ],
 "metadata": {
  "kernelspec": {
   "display_name": "Python 3",
   "language": "python",
   "name": "python3"
  },
  "language_info": {
   "codemirror_mode": {
    "name": "ipython",
    "version": 3
   },
   "file_extension": ".py",
   "mimetype": "text/x-python",
   "name": "python",
   "nbconvert_exporter": "python",
   "pygments_lexer": "ipython3",
   "version": "3.7.3"
  }
 },
 "nbformat": 4,
 "nbformat_minor": 4
}
