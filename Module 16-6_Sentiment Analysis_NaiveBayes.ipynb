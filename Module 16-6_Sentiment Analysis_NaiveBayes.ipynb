{
 "cells": [
  {
   "cell_type": "markdown",
   "metadata": {},
   "source": [
    "## Challenge: Module 16-6 Sentiment Analysis with Naive Bayes\n",
    "We've mentioned that Naive Bayes is particularly good for text classification problems. Before we made a spam filter. Now we'll perform a sentiment analysis, classifying whether feedback left on a website is either positive or negative.\n",
    "\n",
    "Again the UCI Machine Learning database has a nice labeled dataset of sentiment labelled sentences for us to use. This dataset was created for the paper From Group to Individual Labels using Deep Features, Kotzias et. al., KDD 2015.\n",
    "\n",
    "Pick one of the company data files and build your own classifier. When you're satisfied with its performance (at this point just using the accuracy measure shown in the example), test it on one of the other datasets to see how well these kinds of classifiers translate from one context to another.\n",
    "\n",
    "Include your model and a brief writeup of your feature engineering and selection process to submit and review with your mentor."
   ]
  },
  {
   "cell_type": "code",
   "execution_count": 1,
   "metadata": {},
   "outputs": [],
   "source": [
    "# import packages\n",
    "%matplotlib inline\n",
    "import numpy as np\n",
    "import pandas as pd\n",
    "import scipy\n",
    "import sklearn\n",
    "from scipy.stats import zscore\n",
    "import scipy.stats as stats\n",
    "import matplotlib.pyplot as plt\n",
    "import seaborn as sns\n",
    "from collections import Counter"
   ]
  },
  {
   "cell_type": "code",
   "execution_count": 2,
   "metadata": {},
   "outputs": [
    {
     "data": {
      "text/html": [
       "<div>\n",
       "<style scoped>\n",
       "    .dataframe tbody tr th:only-of-type {\n",
       "        vertical-align: middle;\n",
       "    }\n",
       "\n",
       "    .dataframe tbody tr th {\n",
       "        vertical-align: top;\n",
       "    }\n",
       "\n",
       "    .dataframe thead th {\n",
       "        text-align: right;\n",
       "    }\n",
       "</style>\n",
       "<table border=\"1\" class=\"dataframe\">\n",
       "  <thead>\n",
       "    <tr style=\"text-align: right;\">\n",
       "      <th></th>\n",
       "      <th>customer_comments</th>\n",
       "      <th>customer_rank</th>\n",
       "    </tr>\n",
       "  </thead>\n",
       "  <tbody>\n",
       "    <tr>\n",
       "      <th>0</th>\n",
       "      <td>Wow... Loved this place.</td>\n",
       "      <td>1</td>\n",
       "    </tr>\n",
       "    <tr>\n",
       "      <th>1</th>\n",
       "      <td>Crust is not good.</td>\n",
       "      <td>0</td>\n",
       "    </tr>\n",
       "    <tr>\n",
       "      <th>2</th>\n",
       "      <td>Not tasty and the texture was just nasty.</td>\n",
       "      <td>0</td>\n",
       "    </tr>\n",
       "    <tr>\n",
       "      <th>3</th>\n",
       "      <td>Stopped by during the late May bank holiday of...</td>\n",
       "      <td>1</td>\n",
       "    </tr>\n",
       "    <tr>\n",
       "      <th>4</th>\n",
       "      <td>The selection on the menu was great and so wer...</td>\n",
       "      <td>1</td>\n",
       "    </tr>\n",
       "  </tbody>\n",
       "</table>\n",
       "</div>"
      ],
      "text/plain": [
       "                                   customer_comments  customer_rank\n",
       "0                           Wow... Loved this place.              1\n",
       "1                                 Crust is not good.              0\n",
       "2          Not tasty and the texture was just nasty.              0\n",
       "3  Stopped by during the late May bank holiday of...              1\n",
       "4  The selection on the menu was great and so wer...              1"
      ]
     },
     "execution_count": 2,
     "metadata": {},
     "output_type": "execute_result"
    }
   ],
   "source": [
    "# import text file and assigning separator based on raw file\n",
    "df_yelp = pd.read_csv('yelp_labelled.txt', sep='\\t', header=None )\n",
    "df_yelp.columns = [\"customer_comments\", \"customer_rank\"] # assigning column names\n",
    "df_yelp.head()"
   ]
  },
  {
   "cell_type": "code",
   "execution_count": 3,
   "metadata": {},
   "outputs": [],
   "source": [
    "# create new dataframe to preserve original\n",
    "df_yelp_2 = df_yelp.copy()"
   ]
  },
  {
   "cell_type": "code",
   "execution_count": 4,
   "metadata": {},
   "outputs": [],
   "source": [
    "# general clean up script that was used in previous exercise. Formats strings to be similar style\n",
    "spec_chars = ['__', ',', '(', ')', '/', '.', '\"', '-','_', '  ' ]\n",
    "\n",
    "# fewer required characters with for loop vs method chaining\n",
    "for char in spec_chars:\n",
    "    df_yelp_2['customer_comments'] = df_yelp_2['customer_comments'].str.strip().str.replace(char, ' ')"
   ]
  },
  {
   "cell_type": "code",
   "execution_count": 5,
   "metadata": {
    "scrolled": true
   },
   "outputs": [
    {
     "name": "stdout",
     "output_type": "stream",
     "text": [
      "<class 'pandas.core.frame.DataFrame'>\n",
      "RangeIndex: 1000 entries, 0 to 999\n",
      "Data columns (total 2 columns):\n",
      "customer_comments    1000 non-null object\n",
      "customer_rank        1000 non-null int64\n",
      "dtypes: int64(1), object(1)\n",
      "memory usage: 15.7+ KB\n"
     ]
    }
   ],
   "source": [
    "df_yelp.info() # double checking nulls"
   ]
  },
  {
   "cell_type": "code",
   "execution_count": 6,
   "metadata": {},
   "outputs": [
    {
     "data": {
      "text/html": [
       "<div>\n",
       "<style scoped>\n",
       "    .dataframe tbody tr th:only-of-type {\n",
       "        vertical-align: middle;\n",
       "    }\n",
       "\n",
       "    .dataframe tbody tr th {\n",
       "        vertical-align: top;\n",
       "    }\n",
       "\n",
       "    .dataframe thead th {\n",
       "        text-align: right;\n",
       "    }\n",
       "</style>\n",
       "<table border=\"1\" class=\"dataframe\">\n",
       "  <thead>\n",
       "    <tr style=\"text-align: right;\">\n",
       "      <th></th>\n",
       "      <th>customer_comments</th>\n",
       "      <th>customer_rank</th>\n",
       "      <th>positive</th>\n",
       "    </tr>\n",
       "  </thead>\n",
       "  <tbody>\n",
       "    <tr>\n",
       "      <th>0</th>\n",
       "      <td>Wow  Loved this place</td>\n",
       "      <td>1</td>\n",
       "      <td>True</td>\n",
       "    </tr>\n",
       "    <tr>\n",
       "      <th>1</th>\n",
       "      <td>Crust is not good</td>\n",
       "      <td>0</td>\n",
       "      <td>False</td>\n",
       "    </tr>\n",
       "    <tr>\n",
       "      <th>2</th>\n",
       "      <td>Not tasty and the texture was just nasty</td>\n",
       "      <td>0</td>\n",
       "      <td>False</td>\n",
       "    </tr>\n",
       "    <tr>\n",
       "      <th>3</th>\n",
       "      <td>Stopped by during the late May bank holiday of...</td>\n",
       "      <td>1</td>\n",
       "      <td>True</td>\n",
       "    </tr>\n",
       "    <tr>\n",
       "      <th>4</th>\n",
       "      <td>The selection on the menu was great and so wer...</td>\n",
       "      <td>1</td>\n",
       "      <td>True</td>\n",
       "    </tr>\n",
       "  </tbody>\n",
       "</table>\n",
       "</div>"
      ],
      "text/plain": [
       "                                   customer_comments  customer_rank  positive\n",
       "0                              Wow  Loved this place              1      True\n",
       "1                                  Crust is not good              0     False\n",
       "2           Not tasty and the texture was just nasty              0     False\n",
       "3  Stopped by during the late May bank holiday of...              1      True\n",
       "4  The selection on the menu was great and so wer...              1      True"
      ]
     },
     "execution_count": 6,
     "metadata": {},
     "output_type": "execute_result"
    }
   ],
   "source": [
    "# creating new boolean column of True/False.... we have a column of 1 and 0, but the example shows to do this in general cases.\n",
    "df_yelp_2['positive'] = (df_yelp_2['customer_rank'] == 1)\n",
    "\n",
    "# Note that if you run this cell a second time everything will become false.\n",
    "# So... Don't.\n",
    "\n",
    "df_yelp_2.head()"
   ]
  },
  {
   "cell_type": "code",
   "execution_count": 7,
   "metadata": {},
   "outputs": [
    {
     "name": "stdout",
     "output_type": "stream",
     "text": [
      "(500, 2)\n",
      "(500, 2)\n"
     ]
    }
   ],
   "source": [
    "# confirming how many positive reviews there are\n",
    "df_yelp_pos = df_yelp_2[['customer_comments','customer_rank']].filter(df_yelp['customer_rank'] == 1)\n",
    "df_yelp_pos = df_yelp_2[df_yelp.customer_rank !=0][['customer_comments','customer_rank']]\n",
    "df_yelp_neg = df_yelp_2[df_yelp.customer_rank !=1][['customer_comments','customer_rank']]\n",
    "\n",
    "\n",
    "print(df_yelp_pos.shape)\n",
    "print(df_yelp_neg.shape)"
   ]
  },
  {
   "cell_type": "code",
   "execution_count": 8,
   "metadata": {},
   "outputs": [
    {
     "data": {
      "text/plain": [
       "the            406\n",
       "and            383\n",
       "I              296\n",
       "was            294\n",
       "a              228\n",
       "to             217\n",
       "The            178\n",
       "is             171\n",
       "of             125\n",
       "food           112\n",
       "for            104\n",
       "not            104\n",
       "in             103\n",
       "place          102\n",
       "it             100\n",
       "this            95\n",
       "good            85\n",
       "with            72\n",
       "had             67\n",
       "be              66\n",
       "service         66\n",
       "that            64\n",
       "are             62\n",
       "were            62\n",
       "very            61\n",
       "so              59\n",
       "have            59\n",
       "but             57\n",
       "you             56\n",
       "back            55\n",
       "              ... \n",
       "Appetite         1\n",
       "occasional       1\n",
       "85               1\n",
       "Mary             1\n",
       "Han              1\n",
       "quit             1\n",
       "Favorite         1\n",
       "winner!          1\n",
       "cake             1\n",
       "style!!          1\n",
       "Sauce            1\n",
       "typical          1\n",
       "fabulous         1\n",
       "andddd           1\n",
       "saffron          1\n",
       "accordingly      1\n",
       "flop             1\n",
       "gross            1\n",
       "frustrated       1\n",
       "toro             1\n",
       "fiancé           1\n",
       "Eve              1\n",
       "Google           1\n",
       "FLY              1\n",
       "Yelpers          1\n",
       "stale!           1\n",
       "unwelcome        1\n",
       "meats            1\n",
       "San              1\n",
       "BARE             1\n",
       "Length: 2453, dtype: int64"
      ]
     },
     "execution_count": 8,
     "metadata": {},
     "output_type": "execute_result"
    }
   ],
   "source": [
    "# looking at frequency of words in the column to see if anything stands out\n",
    "df_yelp_2.customer_comments.str.split(expand=True).stack().value_counts()"
   ]
  },
  {
   "cell_type": "code",
   "execution_count": 9,
   "metadata": {},
   "outputs": [],
   "source": [
    "positive_words = ['best', 'great', 'good', 'amazing', 'nice', 'friendly', 'delicious', 'awesome','loved','love']\n",
    " \n",
    "for key in positive_words:\n",
    "    # Note that we add spaces around the key so that we're getting the word,\n",
    "    # not just pattern matching.\n",
    "    df_yelp_2[str(key)] = df_yelp_2.customer_comments.str.contains(\n",
    "        ' ' + str(key) + ' ',\n",
    "        case=False\n",
    "    )"
   ]
  },
  {
   "cell_type": "code",
   "execution_count": 10,
   "metadata": {},
   "outputs": [],
   "source": [
    "# finding words with all caps and creating new column if true\n",
    "df_yelp_2['allcaps'] = df_yelp_2.customer_comments.str.isupper()"
   ]
  },
  {
   "cell_type": "code",
   "execution_count": 11,
   "metadata": {},
   "outputs": [],
   "source": [
    "# this must be run AFTER the all caps cell. This is done to normalize text formats to account for all versions of the same words.\n",
    "df_yelp_2['customer_comments'] = df_yelp_2['customer_comments'].str.lower()"
   ]
  },
  {
   "cell_type": "code",
   "execution_count": 12,
   "metadata": {},
   "outputs": [
    {
     "data": {
      "text/plain": [
       "<matplotlib.axes._subplots.AxesSubplot at 0x2acabb90ef0>"
      ]
     },
     "execution_count": 12,
     "metadata": {},
     "output_type": "execute_result"
    },
    {
     "data": {
      "image/png": "[encoded data removed]",
      "text/plain": [
       "<Figure size 432x288 with 2 Axes>"
      ]
     },
     "metadata": {},
     "output_type": "display_data"
    }
   ],
   "source": [
    "sns.heatmap(df_yelp_2.corr())"
   ]
  },
  {
   "cell_type": "markdown",
   "metadata": {},
   "source": [
    "The good news is that not many of the words seem super correlated based on the heatmap."
   ]
  },
  {
   "cell_type": "code",
   "execution_count": 13,
   "metadata": {},
   "outputs": [],
   "source": [
    "# SKLearn requires us to specify an outcome (y/dependant variable) and \n",
    "# inputs (x/independent variables)\n",
    "\n",
    "data = df_yelp_2[positive_words + ['allcaps']] # independent/inputs\n",
    "target = df_yelp_2['positive'] # dependenty/outcome"
   ]
  },
  {
   "cell_type": "code",
   "execution_count": 14,
   "metadata": {},
   "outputs": [
    {
     "name": "stdout",
     "output_type": "stream",
     "text": [
      "Number of mislabeled points out of a total 1000 points : 360\n"
     ]
    }
   ],
   "source": [
    "# Our data is binary / boolean, so we're importing the Bernoulli classifier.\n",
    "from sklearn.naive_bayes import BernoulliNB\n",
    "\n",
    "# Instantiate our model and store it in a new variable.\n",
    "bnb = BernoulliNB()\n",
    "\n",
    "# Fit our model to the data.\n",
    "bnb.fit(data, target)\n",
    "\n",
    "# Classify, storing the result in a new variable.\n",
    "y_pred = bnb.predict(data)\n",
    "\n",
    "# Display our results.\n",
    "print(\"Number of mislabeled points out of a total {} points : {}\".format(\n",
    "    data.shape[0],\n",
    "    (target != y_pred).sum()\n",
    "))"
   ]
  },
  {
   "cell_type": "markdown",
   "metadata": {},
   "source": [
    "### Trying on IMDB dataset"
   ]
  },
  {
   "cell_type": "code",
   "execution_count": 15,
   "metadata": {},
   "outputs": [
    {
     "data": {
      "text/html": [
       "<div>\n",
       "<style scoped>\n",
       "    .dataframe tbody tr th:only-of-type {\n",
       "        vertical-align: middle;\n",
       "    }\n",
       "\n",
       "    .dataframe tbody tr th {\n",
       "        vertical-align: top;\n",
       "    }\n",
       "\n",
       "    .dataframe thead th {\n",
       "        text-align: right;\n",
       "    }\n",
       "</style>\n",
       "<table border=\"1\" class=\"dataframe\">\n",
       "  <thead>\n",
       "    <tr style=\"text-align: right;\">\n",
       "      <th></th>\n",
       "      <th>customer_comments</th>\n",
       "      <th>customer_rank</th>\n",
       "    </tr>\n",
       "  </thead>\n",
       "  <tbody>\n",
       "    <tr>\n",
       "      <th>0</th>\n",
       "      <td>A very, very, very slow-moving, aimless movie ...</td>\n",
       "      <td>0</td>\n",
       "    </tr>\n",
       "    <tr>\n",
       "      <th>1</th>\n",
       "      <td>Not sure who was more lost - the flat characte...</td>\n",
       "      <td>0</td>\n",
       "    </tr>\n",
       "    <tr>\n",
       "      <th>2</th>\n",
       "      <td>Attempting artiness with black &amp; white and cle...</td>\n",
       "      <td>0</td>\n",
       "    </tr>\n",
       "    <tr>\n",
       "      <th>3</th>\n",
       "      <td>Very little music or anything to speak of.</td>\n",
       "      <td>0</td>\n",
       "    </tr>\n",
       "    <tr>\n",
       "      <th>4</th>\n",
       "      <td>The best scene in the movie was when Gerardo i...</td>\n",
       "      <td>1</td>\n",
       "    </tr>\n",
       "  </tbody>\n",
       "</table>\n",
       "</div>"
      ],
      "text/plain": [
       "                                   customer_comments  customer_rank\n",
       "0  A very, very, very slow-moving, aimless movie ...              0\n",
       "1  Not sure who was more lost - the flat characte...              0\n",
       "2  Attempting artiness with black & white and cle...              0\n",
       "3       Very little music or anything to speak of.                0\n",
       "4  The best scene in the movie was when Gerardo i...              1"
      ]
     },
     "execution_count": 15,
     "metadata": {},
     "output_type": "execute_result"
    }
   ],
   "source": [
    "df_imdb = pd.read_csv('imdb_labelled.txt', sep='\\t', header=None )\n",
    "df_imdb.columns = [\"customer_comments\", \"customer_rank\"]\n",
    "df_imdb.head()"
   ]
  },
  {
   "cell_type": "code",
   "execution_count": 16,
   "metadata": {
    "scrolled": false
   },
   "outputs": [
    {
     "name": "stdout",
     "output_type": "stream",
     "text": [
      "<class 'pandas.core.frame.DataFrame'>\n",
      "RangeIndex: 748 entries, 0 to 747\n",
      "Data columns (total 2 columns):\n",
      "customer_comments    748 non-null object\n",
      "customer_rank        748 non-null int64\n",
      "dtypes: int64(1), object(1)\n",
      "memory usage: 11.8+ KB\n"
     ]
    }
   ],
   "source": [
    "df_imdb.info()"
   ]
  },
  {
   "cell_type": "code",
   "execution_count": 17,
   "metadata": {},
   "outputs": [],
   "source": [
    "df_imdb_2 = df_imdb.copy()"
   ]
  },
  {
   "cell_type": "code",
   "execution_count": 18,
   "metadata": {},
   "outputs": [],
   "source": [
    "# general clean up script that was used in previous exercise. Normalizes column names and removes special characters\n",
    "spec_chars = ['__', ',', '(', ')', '/', '.', '\"', '-','_', '  ' ]\n",
    "\n",
    "# fewer required characters with for loop vs method chaining\n",
    "for char in spec_chars:\n",
    "    df_imdb_2['customer_comments'] = df_imdb_2['customer_comments'].str.strip().str.replace(char, ' ')"
   ]
  },
  {
   "cell_type": "code",
   "execution_count": 19,
   "metadata": {
    "scrolled": true
   },
   "outputs": [
    {
     "data": {
      "text/html": [
       "<div>\n",
       "<style scoped>\n",
       "    .dataframe tbody tr th:only-of-type {\n",
       "        vertical-align: middle;\n",
       "    }\n",
       "\n",
       "    .dataframe tbody tr th {\n",
       "        vertical-align: top;\n",
       "    }\n",
       "\n",
       "    .dataframe thead th {\n",
       "        text-align: right;\n",
       "    }\n",
       "</style>\n",
       "<table border=\"1\" class=\"dataframe\">\n",
       "  <thead>\n",
       "    <tr style=\"text-align: right;\">\n",
       "      <th></th>\n",
       "      <th>customer_comments</th>\n",
       "      <th>customer_rank</th>\n",
       "    </tr>\n",
       "  </thead>\n",
       "  <tbody>\n",
       "    <tr>\n",
       "      <th>0</th>\n",
       "      <td>A very very very slow moving aimless movie abo...</td>\n",
       "      <td>0</td>\n",
       "    </tr>\n",
       "    <tr>\n",
       "      <th>1</th>\n",
       "      <td>Not sure who was more lost  the flat character...</td>\n",
       "      <td>0</td>\n",
       "    </tr>\n",
       "    <tr>\n",
       "      <th>2</th>\n",
       "      <td>Attempting artiness with black &amp; white and cle...</td>\n",
       "      <td>0</td>\n",
       "    </tr>\n",
       "    <tr>\n",
       "      <th>3</th>\n",
       "      <td>Very little music or anything to speak of</td>\n",
       "      <td>0</td>\n",
       "    </tr>\n",
       "    <tr>\n",
       "      <th>4</th>\n",
       "      <td>The best scene in the movie was when Gerardo i...</td>\n",
       "      <td>1</td>\n",
       "    </tr>\n",
       "  </tbody>\n",
       "</table>\n",
       "</div>"
      ],
      "text/plain": [
       "                                   customer_comments  customer_rank\n",
       "0  A very very very slow moving aimless movie abo...              0\n",
       "1  Not sure who was more lost  the flat character...              0\n",
       "2  Attempting artiness with black & white and cle...              0\n",
       "3          Very little music or anything to speak of              0\n",
       "4  The best scene in the movie was when Gerardo i...              1"
      ]
     },
     "execution_count": 19,
     "metadata": {},
     "output_type": "execute_result"
    }
   ],
   "source": [
    "df_imdb_2.head()"
   ]
  },
  {
   "cell_type": "code",
   "execution_count": 20,
   "metadata": {},
   "outputs": [
    {
     "data": {
      "text/html": [
       "<div>\n",
       "<style scoped>\n",
       "    .dataframe tbody tr th:only-of-type {\n",
       "        vertical-align: middle;\n",
       "    }\n",
       "\n",
       "    .dataframe tbody tr th {\n",
       "        vertical-align: top;\n",
       "    }\n",
       "\n",
       "    .dataframe thead th {\n",
       "        text-align: right;\n",
       "    }\n",
       "</style>\n",
       "<table border=\"1\" class=\"dataframe\">\n",
       "  <thead>\n",
       "    <tr style=\"text-align: right;\">\n",
       "      <th></th>\n",
       "      <th>customer_comments</th>\n",
       "      <th>customer_rank</th>\n",
       "      <th>positive</th>\n",
       "    </tr>\n",
       "  </thead>\n",
       "  <tbody>\n",
       "    <tr>\n",
       "      <th>0</th>\n",
       "      <td>A very very very slow moving aimless movie abo...</td>\n",
       "      <td>0</td>\n",
       "      <td>False</td>\n",
       "    </tr>\n",
       "    <tr>\n",
       "      <th>1</th>\n",
       "      <td>Not sure who was more lost  the flat character...</td>\n",
       "      <td>0</td>\n",
       "      <td>False</td>\n",
       "    </tr>\n",
       "    <tr>\n",
       "      <th>2</th>\n",
       "      <td>Attempting artiness with black &amp; white and cle...</td>\n",
       "      <td>0</td>\n",
       "      <td>False</td>\n",
       "    </tr>\n",
       "    <tr>\n",
       "      <th>3</th>\n",
       "      <td>Very little music or anything to speak of</td>\n",
       "      <td>0</td>\n",
       "      <td>False</td>\n",
       "    </tr>\n",
       "    <tr>\n",
       "      <th>4</th>\n",
       "      <td>The best scene in the movie was when Gerardo i...</td>\n",
       "      <td>1</td>\n",
       "      <td>True</td>\n",
       "    </tr>\n",
       "  </tbody>\n",
       "</table>\n",
       "</div>"
      ],
      "text/plain": [
       "                                   customer_comments  customer_rank  positive\n",
       "0  A very very very slow moving aimless movie abo...              0     False\n",
       "1  Not sure who was more lost  the flat character...              0     False\n",
       "2  Attempting artiness with black & white and cle...              0     False\n",
       "3          Very little music or anything to speak of              0     False\n",
       "4  The best scene in the movie was when Gerardo i...              1      True"
      ]
     },
     "execution_count": 20,
     "metadata": {},
     "output_type": "execute_result"
    }
   ],
   "source": [
    "df_imdb_2['positive'] = (df_imdb_2['customer_rank'] == 1)\n",
    "\n",
    "# Note that if you run this cell a second time everything will become false.\n",
    "# So... Don't.\n",
    "\n",
    "df_imdb_2.head()"
   ]
  },
  {
   "cell_type": "code",
   "execution_count": 21,
   "metadata": {},
   "outputs": [
    {
     "name": "stdout",
     "output_type": "stream",
     "text": [
      "(386, 2)\n",
      "(362, 2)\n"
     ]
    }
   ],
   "source": [
    "df_imdb_pos = df_imdb_2[['customer_comments','customer_rank']].filter(df_imdb['customer_rank'] == 1)\n",
    "df_imdb_pos = df_imdb_2[df_imdb.customer_rank !=0][['customer_comments','customer_rank']]\n",
    "df_imdb_neg = df_imdb_2[df_imdb.customer_rank !=1][['customer_comments','customer_rank']]\n",
    "\n",
    "\n",
    "print(df_imdb_pos.shape)\n",
    "print(df_imdb_neg.shape)"
   ]
  },
  {
   "cell_type": "code",
   "execution_count": 22,
   "metadata": {},
   "outputs": [
    {
     "data": {
      "text/plain": [
       "the             658\n",
       "and             419\n",
       "a               413\n",
       "of              372\n",
       "is              335\n",
       "I               257\n",
       "to              249\n",
       "this            211\n",
       "it              194\n",
       "in              191\n",
       "The             190\n",
       "was             184\n",
       "movie           174\n",
       "film            155\n",
       "that            150\n",
       "0               140\n",
       "1               121\n",
       "for             101\n",
       "as               90\n",
       "with             87\n",
       "This             76\n",
       "on               75\n",
       "are              75\n",
       "one              70\n",
       "you              65\n",
       "but              64\n",
       "bad              63\n",
       "not              62\n",
       "just             60\n",
       "very             59\n",
       "               ... \n",
       "Star              1\n",
       "Adams'            1\n",
       "hot               1\n",
       "seamlessly        1\n",
       "Olde              1\n",
       "desert            1\n",
       "sorry             1\n",
       "Schultz           1\n",
       "progresses        1\n",
       "veteran           1\n",
       "fulfilling        1\n",
       "drifting          1\n",
       "Shirley           1\n",
       "network           1\n",
       "Michael           1\n",
       "receive           1\n",
       "film?             1\n",
       "latter            1\n",
       "greatness         1\n",
       "whine             1\n",
       "Flakes            1\n",
       "justice           1\n",
       "suck              1\n",
       "novella           1\n",
       "Anthony           1\n",
       "transfers         1\n",
       "Speaking          1\n",
       "memorized!        1\n",
       "legal             1\n",
       "preservation      1\n",
       "Length: 3503, dtype: int64"
      ]
     },
     "execution_count": 22,
     "metadata": {},
     "output_type": "execute_result"
    }
   ],
   "source": [
    "df_imdb_2.customer_comments.str.split(expand=True).stack().value_counts()"
   ]
  },
  {
   "cell_type": "code",
   "execution_count": 23,
   "metadata": {},
   "outputs": [],
   "source": [
    "positive_words = ['best', 'great', 'good', 'amazing', 'nice', 'friendly', 'delicious', 'awesome','loved','love']\n",
    " \n",
    "for key in positive_words:\n",
    "    # Note that we add spaces around the key so that we're getting the word,\n",
    "    # not just pattern matching.\n",
    "    df_imdb_2[str(key)] = df_imdb_2.customer_comments.str.contains(\n",
    "        ' ' + str(key) + ' ',\n",
    "        case=False\n",
    "    )"
   ]
  },
  {
   "cell_type": "code",
   "execution_count": 24,
   "metadata": {},
   "outputs": [],
   "source": [
    "df_imdb_2['allcaps'] = df_imdb_2.customer_comments.str.isupper()"
   ]
  },
  {
   "cell_type": "code",
   "execution_count": 25,
   "metadata": {},
   "outputs": [],
   "source": [
    "df_imdb_2['customer_comments'] = df_imdb_2['customer_comments'].str.lower()"
   ]
  },
  {
   "cell_type": "code",
   "execution_count": 26,
   "metadata": {},
   "outputs": [
    {
     "data": {
      "text/plain": [
       "<matplotlib.axes._subplots.AxesSubplot at 0x2acac142470>"
      ]
     },
     "execution_count": 26,
     "metadata": {},
     "output_type": "execute_result"
    },
    {
     "data": {
      "image/png": "[encoded data removed]",
      "text/plain": [
       "<Figure size 432x288 with 2 Axes>"
      ]
     },
     "metadata": {},
     "output_type": "display_data"
    }
   ],
   "source": [
    "sns.heatmap(df_imdb_2.corr())"
   ]
  },
  {
   "cell_type": "markdown",
   "metadata": {},
   "source": [
    "A couple words from the initial list don't exist here, and there might be some higher levels of correlation than in the yelp data set."
   ]
  },
  {
   "cell_type": "code",
   "execution_count": 27,
   "metadata": {},
   "outputs": [],
   "source": [
    "data = df_imdb_2[positive_words + ['allcaps']]\n",
    "target = df_imdb_2['customer_rank']"
   ]
  },
  {
   "cell_type": "code",
   "execution_count": 28,
   "metadata": {},
   "outputs": [
    {
     "name": "stdout",
     "output_type": "stream",
     "text": [
      "Number of mislabeled points out of a total 748 points : 326\n"
     ]
    }
   ],
   "source": [
    "# Our data is binary / boolean, so we're importing the Bernoulli classifier.\n",
    "from sklearn.naive_bayes import BernoulliNB\n",
    "\n",
    "# Instantiate our model and store it in a new variable.\n",
    "bnb = BernoulliNB()\n",
    "\n",
    "# Fit our model to the data.\n",
    "bnb.fit(data, target)\n",
    "\n",
    "# Classify, storing the result in a new variable.\n",
    "y_pred = bnb.predict(data)\n",
    "\n",
    "# Display our results.\n",
    "print(\"Number of mislabeled points out of a total {} points : {}\".format(\n",
    "    data.shape[0],\n",
    "    (target != y_pred).sum()\n",
    "))"
   ]
  },
  {
   "cell_type": "markdown",
   "metadata": {},
   "source": [
    "IMDB didn't seem to have the same accuracy rate as the Yelp dataset. However, the amount of errors found were similar in total; and the available rows were less with IMDB than in Yelp. In addition, more variables seemed to be correlated than in the yelp data set."
   ]
  },
  {
   "cell_type": "markdown",
   "metadata": {},
   "source": [
    "### Trying on Amazon dataset"
   ]
  },
  {
   "cell_type": "code",
   "execution_count": 29,
   "metadata": {},
   "outputs": [
    {
     "data": {
      "text/html": [
       "<div>\n",
       "<style scoped>\n",
       "    .dataframe tbody tr th:only-of-type {\n",
       "        vertical-align: middle;\n",
       "    }\n",
       "\n",
       "    .dataframe tbody tr th {\n",
       "        vertical-align: top;\n",
       "    }\n",
       "\n",
       "    .dataframe thead th {\n",
       "        text-align: right;\n",
       "    }\n",
       "</style>\n",
       "<table border=\"1\" class=\"dataframe\">\n",
       "  <thead>\n",
       "    <tr style=\"text-align: right;\">\n",
       "      <th></th>\n",
       "      <th>customer_comments</th>\n",
       "      <th>customer_rank</th>\n",
       "    </tr>\n",
       "  </thead>\n",
       "  <tbody>\n",
       "    <tr>\n",
       "      <th>0</th>\n",
       "      <td>So there is no way for me to plug it in here i...</td>\n",
       "      <td>0</td>\n",
       "    </tr>\n",
       "    <tr>\n",
       "      <th>1</th>\n",
       "      <td>Good case, Excellent value.</td>\n",
       "      <td>1</td>\n",
       "    </tr>\n",
       "    <tr>\n",
       "      <th>2</th>\n",
       "      <td>Great for the jawbone.</td>\n",
       "      <td>1</td>\n",
       "    </tr>\n",
       "    <tr>\n",
       "      <th>3</th>\n",
       "      <td>Tied to charger for conversations lasting more...</td>\n",
       "      <td>0</td>\n",
       "    </tr>\n",
       "    <tr>\n",
       "      <th>4</th>\n",
       "      <td>The mic is great.</td>\n",
       "      <td>1</td>\n",
       "    </tr>\n",
       "  </tbody>\n",
       "</table>\n",
       "</div>"
      ],
      "text/plain": [
       "                                   customer_comments  customer_rank\n",
       "0  So there is no way for me to plug it in here i...              0\n",
       "1                        Good case, Excellent value.              1\n",
       "2                             Great for the jawbone.              1\n",
       "3  Tied to charger for conversations lasting more...              0\n",
       "4                                  The mic is great.              1"
      ]
     },
     "execution_count": 29,
     "metadata": {},
     "output_type": "execute_result"
    }
   ],
   "source": [
    "df_amazon = pd.read_csv('amazon_cells_labelled.txt', sep='\\t', header=None )\n",
    "df_amazon.columns = [\"customer_comments\", \"customer_rank\"]\n",
    "df_amazon.head()"
   ]
  },
  {
   "cell_type": "code",
   "execution_count": 30,
   "metadata": {},
   "outputs": [
    {
     "name": "stdout",
     "output_type": "stream",
     "text": [
      "<class 'pandas.core.frame.DataFrame'>\n",
      "RangeIndex: 1000 entries, 0 to 999\n",
      "Data columns (total 2 columns):\n",
      "customer_comments    1000 non-null object\n",
      "customer_rank        1000 non-null int64\n",
      "dtypes: int64(1), object(1)\n",
      "memory usage: 15.7+ KB\n"
     ]
    }
   ],
   "source": [
    "df_amazon.info()"
   ]
  },
  {
   "cell_type": "code",
   "execution_count": 31,
   "metadata": {},
   "outputs": [],
   "source": [
    "df_amazon_2 = df_amazon.copy()"
   ]
  },
  {
   "cell_type": "code",
   "execution_count": 32,
   "metadata": {},
   "outputs": [],
   "source": [
    "# general clean up script that was used in previous exercise. Normalizes column names and removes special characters\n",
    "spec_chars = ['__', ',', '(', ')', '/', '.', '\"', '-','_', '  ' ]\n",
    "\n",
    "# fewer required characters with for loop vs method chaining\n",
    "for char in spec_chars:\n",
    "    df_amazon_2['customer_comments'] = df_amazon_2['customer_comments'].str.strip().str.replace(char, ' ')"
   ]
  },
  {
   "cell_type": "code",
   "execution_count": 33,
   "metadata": {},
   "outputs": [
    {
     "data": {
      "text/html": [
       "<div>\n",
       "<style scoped>\n",
       "    .dataframe tbody tr th:only-of-type {\n",
       "        vertical-align: middle;\n",
       "    }\n",
       "\n",
       "    .dataframe tbody tr th {\n",
       "        vertical-align: top;\n",
       "    }\n",
       "\n",
       "    .dataframe thead th {\n",
       "        text-align: right;\n",
       "    }\n",
       "</style>\n",
       "<table border=\"1\" class=\"dataframe\">\n",
       "  <thead>\n",
       "    <tr style=\"text-align: right;\">\n",
       "      <th></th>\n",
       "      <th>customer_comments</th>\n",
       "      <th>customer_rank</th>\n",
       "    </tr>\n",
       "  </thead>\n",
       "  <tbody>\n",
       "    <tr>\n",
       "      <th>0</th>\n",
       "      <td>So there is no way for me to plug it in here i...</td>\n",
       "      <td>0</td>\n",
       "    </tr>\n",
       "    <tr>\n",
       "      <th>1</th>\n",
       "      <td>Good case Excellent value</td>\n",
       "      <td>1</td>\n",
       "    </tr>\n",
       "    <tr>\n",
       "      <th>2</th>\n",
       "      <td>Great for the jawbone</td>\n",
       "      <td>1</td>\n",
       "    </tr>\n",
       "    <tr>\n",
       "      <th>3</th>\n",
       "      <td>Tied to charger for conversations lasting more...</td>\n",
       "      <td>0</td>\n",
       "    </tr>\n",
       "    <tr>\n",
       "      <th>4</th>\n",
       "      <td>The mic is great</td>\n",
       "      <td>1</td>\n",
       "    </tr>\n",
       "  </tbody>\n",
       "</table>\n",
       "</div>"
      ],
      "text/plain": [
       "                                   customer_comments  customer_rank\n",
       "0  So there is no way for me to plug it in here i...              0\n",
       "1                          Good case Excellent value              1\n",
       "2                              Great for the jawbone              1\n",
       "3  Tied to charger for conversations lasting more...              0\n",
       "4                                   The mic is great              1"
      ]
     },
     "execution_count": 33,
     "metadata": {},
     "output_type": "execute_result"
    }
   ],
   "source": [
    "df_amazon_2.head()"
   ]
  },
  {
   "cell_type": "code",
   "execution_count": 34,
   "metadata": {},
   "outputs": [
    {
     "name": "stdout",
     "output_type": "stream",
     "text": [
      "(500, 2)\n",
      "(500, 2)\n"
     ]
    }
   ],
   "source": [
    "df_amazon_pos = df_amazon_2[['customer_comments','customer_rank']].filter(df_amazon['customer_rank'] == 1)\n",
    "df_amazon_pos = df_amazon_2[df_amazon.customer_rank !=0][['customer_comments','customer_rank']]\n",
    "df_amazon_neg = df_amazon_2[df_amazon.customer_rank !=1][['customer_comments','customer_rank']]\n",
    "\n",
    "\n",
    "print(df_amazon_pos.shape)\n",
    "print(df_amazon_neg.shape)"
   ]
  },
  {
   "cell_type": "code",
   "execution_count": 35,
   "metadata": {},
   "outputs": [
    {
     "data": {
      "text/html": [
       "<div>\n",
       "<style scoped>\n",
       "    .dataframe tbody tr th:only-of-type {\n",
       "        vertical-align: middle;\n",
       "    }\n",
       "\n",
       "    .dataframe tbody tr th {\n",
       "        vertical-align: top;\n",
       "    }\n",
       "\n",
       "    .dataframe thead th {\n",
       "        text-align: right;\n",
       "    }\n",
       "</style>\n",
       "<table border=\"1\" class=\"dataframe\">\n",
       "  <thead>\n",
       "    <tr style=\"text-align: right;\">\n",
       "      <th></th>\n",
       "      <th>customer_comments</th>\n",
       "      <th>customer_rank</th>\n",
       "      <th>positive</th>\n",
       "    </tr>\n",
       "  </thead>\n",
       "  <tbody>\n",
       "    <tr>\n",
       "      <th>0</th>\n",
       "      <td>So there is no way for me to plug it in here i...</td>\n",
       "      <td>0</td>\n",
       "      <td>False</td>\n",
       "    </tr>\n",
       "    <tr>\n",
       "      <th>1</th>\n",
       "      <td>Good case Excellent value</td>\n",
       "      <td>1</td>\n",
       "      <td>True</td>\n",
       "    </tr>\n",
       "    <tr>\n",
       "      <th>2</th>\n",
       "      <td>Great for the jawbone</td>\n",
       "      <td>1</td>\n",
       "      <td>True</td>\n",
       "    </tr>\n",
       "    <tr>\n",
       "      <th>3</th>\n",
       "      <td>Tied to charger for conversations lasting more...</td>\n",
       "      <td>0</td>\n",
       "      <td>False</td>\n",
       "    </tr>\n",
       "    <tr>\n",
       "      <th>4</th>\n",
       "      <td>The mic is great</td>\n",
       "      <td>1</td>\n",
       "      <td>True</td>\n",
       "    </tr>\n",
       "  </tbody>\n",
       "</table>\n",
       "</div>"
      ],
      "text/plain": [
       "                                   customer_comments  customer_rank  positive\n",
       "0  So there is no way for me to plug it in here i...              0     False\n",
       "1                          Good case Excellent value              1      True\n",
       "2                              Great for the jawbone              1      True\n",
       "3  Tied to charger for conversations lasting more...              0     False\n",
       "4                                   The mic is great              1      True"
      ]
     },
     "execution_count": 35,
     "metadata": {},
     "output_type": "execute_result"
    }
   ],
   "source": [
    "df_amazon_2['positive'] = (df_amazon_2['customer_rank'] == 1)\n",
    "\n",
    "# Note that if you run this cell a second time everything will become false.\n",
    "# So... Don't.\n",
    "\n",
    "df_amazon_2.head()"
   ]
  },
  {
   "cell_type": "code",
   "execution_count": 36,
   "metadata": {},
   "outputs": [
    {
     "data": {
      "text/plain": [
       "the           415\n",
       "I             309\n",
       "and           308\n",
       "is            243\n",
       "it            217\n",
       "a             208\n",
       "to            197\n",
       "this          151\n",
       "phone         146\n",
       "my            130\n",
       "of            118\n",
       "for           116\n",
       "with          111\n",
       "The           101\n",
       "not            93\n",
       "on             89\n",
       "was            87\n",
       "in             85\n",
       "very           81\n",
       "that           75\n",
       "have           73\n",
       "good           62\n",
       "It             62\n",
       "great          58\n",
       "you            57\n",
       "This           54\n",
       "product        51\n",
       "had            48\n",
       "quality        43\n",
       "headset        43\n",
       "             ... \n",
       "reverse         1\n",
       "renders         1\n",
       "service!        1\n",
       "transmit        1\n",
       "somehow         1\n",
       "instance        1\n",
       "that?           1\n",
       "JERKS           1\n",
       "DAYS!!!         1\n",
       "unlike          1\n",
       "Pretty          1\n",
       "neat            1\n",
       "ill             1\n",
       "carried         1\n",
       "effects         1\n",
       "BEING           1\n",
       "functions       1\n",
       "TWO             1\n",
       "smartphone      1\n",
       "designed        1\n",
       "produce         1\n",
       "WITH            1\n",
       "card            1\n",
       "covered         1\n",
       "8125            1\n",
       "DNA             1\n",
       "Curve!          1\n",
       "utterly         1\n",
       "frog            1\n",
       "earphones       1\n",
       "Length: 2296, dtype: int64"
      ]
     },
     "execution_count": 36,
     "metadata": {},
     "output_type": "execute_result"
    }
   ],
   "source": [
    "df_amazon_2.customer_comments.str.split(expand=True).stack().value_counts()"
   ]
  },
  {
   "cell_type": "code",
   "execution_count": 37,
   "metadata": {},
   "outputs": [],
   "source": [
    "positive_words = ['best', 'great', 'good', 'amazing', 'nice', 'friendly', 'delicious', 'awesome','loved','love']\n",
    " \n",
    "for key in positive_words:\n",
    "    # Note that we add spaces around the key so that we're getting the word,\n",
    "    # not just pattern matching.\n",
    "    df_amazon_2[str(key)] = df_amazon_2.customer_comments.str.contains(\n",
    "        ' ' + str(key) + ' ',\n",
    "        case=False\n",
    "    )"
   ]
  },
  {
   "cell_type": "code",
   "execution_count": 38,
   "metadata": {},
   "outputs": [],
   "source": [
    "df_amazon_2['allcaps'] = df_amazon_2.customer_comments.str.isupper()"
   ]
  },
  {
   "cell_type": "code",
   "execution_count": 39,
   "metadata": {},
   "outputs": [],
   "source": [
    "df_amazon_2['customer_comments'] = df_amazon_2['customer_comments'].str.lower()"
   ]
  },
  {
   "cell_type": "code",
   "execution_count": 40,
   "metadata": {},
   "outputs": [
    {
     "data": {
      "text/plain": [
       "<matplotlib.axes._subplots.AxesSubplot at 0x2acac1de630>"
      ]
     },
     "execution_count": 40,
     "metadata": {},
     "output_type": "execute_result"
    },
    {
     "data": {
      "image/png": "[encoded data removed]",
      "text/plain": [
       "<Figure size 432x288 with 2 Axes>"
      ]
     },
     "metadata": {},
     "output_type": "display_data"
    }
   ],
   "source": [
    "sns.heatmap(df_amazon_2.corr())"
   ]
  },
  {
   "cell_type": "code",
   "execution_count": 41,
   "metadata": {},
   "outputs": [],
   "source": [
    "data = df_amazon_2[positive_words + ['allcaps']]\n",
    "target = df_amazon_2['customer_rank']"
   ]
  },
  {
   "cell_type": "code",
   "execution_count": 42,
   "metadata": {},
   "outputs": [
    {
     "name": "stdout",
     "output_type": "stream",
     "text": [
      "Number of mislabeled points out of a total 1000 points : 403\n"
     ]
    }
   ],
   "source": [
    "# Our data is binary / boolean, so we're importing the Bernoulli classifier.\n",
    "from sklearn.naive_bayes import BernoulliNB\n",
    "\n",
    "# Instantiate our model and store it in a new variable.\n",
    "bnb = BernoulliNB()\n",
    "\n",
    "# Fit our model to the data.\n",
    "bnb.fit(data, target)\n",
    "\n",
    "# Classify, storing the result in a new variable.\n",
    "y_pred = bnb.predict(data)\n",
    "\n",
    "# Display our results.\n",
    "print(\"Number of mislabeled points out of a total {} points : {}\".format(\n",
    "    data.shape[0],\n",
    "    (target != y_pred).sum()\n",
    "))"
   ]
  },
  {
   "cell_type": "markdown",
   "metadata": {},
   "source": [
    "### Amazon dataset showed a few extra errors found than in Yelp. Also, not all key words were found by comparison."
   ]
  },
  {
   "cell_type": "markdown",
   "metadata": {},
   "source": [
    "All-in-all, the models held up to some degree. The features I selected were general, positive expressions used in favorable reviews. Certain things like adding \"!!!\" to the end of some words might give some weight to how well the customers enjoyed whatever they were reviewing. However, this was simply positive vs negative, and I think that adding puncuation could also make the model messy because punctuations are used for negative reviews as well. \n",
    "It's clear that not every word is a catch-all for different settings, however, that just means that it might be good to start building a list to learn from using multiple sources. Also, consider the source of data and what the reviewers are discussing. "
   ]
  },
  {
   "cell_type": "code",
   "execution_count": null,
   "metadata": {},
   "outputs": [],
   "source": []
  }
 ],
 "metadata": {
  "kernelspec": {
   "display_name": "Python 3",
   "language": "python",
   "name": "python3"
  },
  "language_info": {
   "codemirror_mode": {
    "name": "ipython",
    "version": 3
   },
   "file_extension": ".py",
   "mimetype": "text/x-python",
   "name": "python",
   "nbconvert_exporter": "python",
   "pygments_lexer": "ipython3",
   "version": "3.6.5"
  }
 },
 "nbformat": 4,
 "nbformat_minor": 2
}
