{
 "cells": [
  {
   "cell_type": "markdown",
   "metadata": {
    "slideshow": {
     "slide_type": "slide"
    }
   },
   "source": [
    "# <center><font color = 'blue'>CAPSTONE 1</center>\n",
    "# <center><font color = 'blue'>PRELIMINARY ANALYSIS OF ENVIRONMENTAL CONTROLS ON VEHICULAR ACCIDENTS IN THE U.S.A.</center>\n",
    "## <center>Darwin Boardman</center>\n",
    "\n",
    "### Study Time Range: February 2016 - March 2019\n",
    "### State Focus: Texas\n",
    "### Kaggle Dataset\n",
    "### Sources: MapQuest and Bing"
   ]
  },
  {
   "cell_type": "markdown",
   "metadata": {
    "slideshow": {
     "slide_type": "slide"
    }
   },
   "source": [
    "# <center><font color = 'red'>-----------------------------------------------------------------------------------------------------------------</center>"
   ]
  },
  {
   "cell_type": "markdown",
   "metadata": {
    "slideshow": {
     "slide_type": "slide"
    }
   },
   "source": [
    "# Section 1: Explanation\n",
    "\n",
    "### - This is a dataset of 2.25 million vehicular accidents in the U.S.A. It describes the location, time, environmental conditions (i.e. clear, rainy, etc), road infrasture (i.e. crossing, roundabout, etc), and severity (1-4). The time range of the dataset is between February 2016 and March 2019. <br> - The dataset was originally collected to determine if any patterns exist that could impact the outcome or quantity of accidents and potentially assign risks. <br> - While this dataset is broad and covers the entire U.S.A., the scope of the study will focus on variables surrounding date, time, weather, and severity of crashes in Texas. The analysis and findings are intended for the commuting population to aid them in lowering their travel risks.\n",
    "\n",
    "### Important Note: The column labeled \"Severity\" does not directly reflect crash statistics like damage or injuries. Severity is referring to the impact on traffic delays, on a scale of 1 to 4 (low to high impact).\n",
    "\n",
    "### Necessary Assumptions: This data does not include factors such as how crashes were reported, damage, injuries, causes, or emergency vehicle response time. Therefore, some interpretations must be made for this preliminary analysis. For example, if certain crashes have elevated severity from midnight to 3:00am, then it's possible that the crashes involved tired or inebriated drivers; or the response time could have been slower due to low visibility, tired emergency responders or towing services. "
   ]
  },
  {
   "cell_type": "markdown",
   "metadata": {
    "slideshow": {
     "slide_type": "slide"
    }
   },
   "source": [
    "# <center><font color = 'red'>-----------------------------------------------------------------------------------------------------------------</center>"
   ]
  },
  {
   "cell_type": "markdown",
   "metadata": {
    "slideshow": {
     "slide_type": "subslide"
    }
   },
   "source": [
    "# Section 2: Reading and Formatting the Dataframe\n",
    "\n",
    "### First things first, the boring stuff!\n",
    "### This section's workflow begins by importing the packages needed to read the file and then later, perform applicable analysis. Importing the required packages was a moving target based on common anticipation and also trying out new ideas, which didn't always work out. \n",
    "### After the file was read, the dataframe was sampled in a few different ways in order to determine if any columns and/or states should be filtered out. Ultimately, Texas, weather conditions, date, time, and severity were chosen for analysis. The dataframe was then modified, copied, and filtered down to the defined scope to limit noise and to make kernel processing quicker. \n",
    "### Initial dataframe (df) shape was about 2.25M rows by 49 columns.<br>The resulting dataframe (df_tx) is much smaller with about 237k rows by 41 columns. <br>That's about 92% reduction in size! The dataset remains large enough to identify statistical trends."
   ]
  },
  {
   "cell_type": "code",
   "execution_count": 1,
   "metadata": {
    "slideshow": {
     "slide_type": "slide"
    }
   },
   "outputs": [],
   "source": [
    "# Importing python packages\n",
    "\n",
    "import pandas as pd\n",
    "import numpy as np\n",
    "import math\n",
    "import matplotlib.pyplot as plt\n",
    "import matplotlib.ticker as ticker\n",
    "import matplotlib.dates as mdates\n",
    "from matplotlib.dates import DateFormatter\n",
    "from matplotlib import pylab\n",
    "import scipy\n",
    "import datetime as dt\n",
    "import statistics\n",
    "%matplotlib inline"
   ]
  },
  {
   "cell_type": "markdown",
   "metadata": {
    "slideshow": {
     "slide_type": "slide"
    }
   },
   "source": [
    "### Read file and examine data"
   ]
  },
  {
   "cell_type": "code",
   "execution_count": 2,
   "metadata": {
    "slideshow": {
     "slide_type": "slide"
    }
   },
   "outputs": [],
   "source": [
    "# Read csv dataset\n",
    "df = pd.read_csv('US_Accidents_May19.csv')\n",
    "\n",
    "# There are 49 columns in the file. This option displays all columns.\n",
    "# If there is an unknown amount of columns, then using a random large number like \"999\" will suffice.\n",
    "pd.set_option('display.max_columns', 100)"
   ]
  },
  {
   "cell_type": "code",
   "execution_count": 3,
   "metadata": {
    "slideshow": {
     "slide_type": "slide"
    }
   },
   "outputs": [
    {
     "data": {
      "text/plain": [
       "(2243939, 49)"
      ]
     },
     "execution_count": 3,
     "metadata": {},
     "output_type": "execute_result"
    }
   ],
   "source": [
    "# Confirm how many rows and columns exist in the dataframe.\n",
    "df.shape"
   ]
  },
  {
   "cell_type": "code",
   "execution_count": 4,
   "metadata": {
    "slideshow": {
     "slide_type": "slide"
    }
   },
   "outputs": [
    {
     "name": "stdout",
     "output_type": "stream",
     "text": [
      "    ID    Source    TMC  Severity           Start_Time             End_Time  \\\n",
      "0  A-1  MapQuest  201.0         3  2016-02-08 05:46:00  2016-02-08 11:00:00   \n",
      "1  A-2  MapQuest  201.0         2  2016-02-08 06:07:59  2016-02-08 06:37:59   \n",
      "2  A-3  MapQuest  201.0         2  2016-02-08 06:49:27  2016-02-08 07:19:27   \n",
      "3  A-4  MapQuest  201.0         3  2016-02-08 07:23:34  2016-02-08 07:53:34   \n",
      "4  A-5  MapQuest  201.0         2  2016-02-08 07:39:07  2016-02-08 08:09:07   \n",
      "\n",
      "   Start_Lat  Start_Lng  End_Lat  End_Lng  Distance(mi)  \\\n",
      "0  39.865147 -84.058723      NaN      NaN          0.01   \n",
      "1  39.928059 -82.831184      NaN      NaN          0.01   \n",
      "2  39.063148 -84.032608      NaN      NaN          0.01   \n",
      "3  39.747753 -84.205582      NaN      NaN          0.01   \n",
      "4  39.627781 -84.188354      NaN      NaN          0.01   \n",
      "\n",
      "                                         Description  Number  \\\n",
      "0  Right lane blocked due to accident on I-70 Eas...     NaN   \n",
      "1  Accident on Brice Rd at Tussing Rd. Expect del...  2584.0   \n",
      "2  Accident on OH-32 State Route 32 Westbound at ...     NaN   \n",
      "3  Accident on I-75 Southbound at Exits 52 52B US...     NaN   \n",
      "4  Accident on McEwen Rd at OH-725 Miamisburg Cen...     NaN   \n",
      "\n",
      "                      Street Side          City      County State     Zipcode  \\\n",
      "0                     I-70 E    R        Dayton  Montgomery    OH       45424   \n",
      "1                   Brice Rd    L  Reynoldsburg    Franklin    OH  43068-3402   \n",
      "2             State Route 32    R  Williamsburg    Clermont    OH       45176   \n",
      "3                     I-75 S    R        Dayton  Montgomery    OH       45417   \n",
      "4  Miamisburg Centerville Rd    R        Dayton  Montgomery    OH       45459   \n",
      "\n",
      "  Country    Timezone Airport_Code    Weather_Timestamp  Temperature(F)  \\\n",
      "0      US  US/Eastern         KFFO  2016-02-08 05:58:00            36.9   \n",
      "1      US  US/Eastern         KCMH  2016-02-08 05:51:00            37.9   \n",
      "2      US  US/Eastern         KI69  2016-02-08 06:56:00            36.0   \n",
      "3      US  US/Eastern         KDAY  2016-02-08 07:38:00            35.1   \n",
      "4      US  US/Eastern         KMGY  2016-02-08 07:53:00            36.0   \n",
      "\n",
      "   Wind_Chill(F)  Humidity(%)  Pressure(in)  Visibility(mi) Wind_Direction  \\\n",
      "0            NaN         91.0         29.68            10.0           Calm   \n",
      "1            NaN        100.0         29.65            10.0           Calm   \n",
      "2           33.3        100.0         29.67            10.0             SW   \n",
      "3           31.0         96.0         29.64             9.0             SW   \n",
      "4           33.3         89.0         29.65             6.0             SW   \n",
      "\n",
      "   Wind_Speed(mph)  Precipitation(in) Weather_Condition  Amenity   Bump  \\\n",
      "0              NaN               0.02        Light Rain    False  False   \n",
      "1              NaN               0.00        Light Rain    False  False   \n",
      "2              3.5                NaN          Overcast    False  False   \n",
      "3              4.6                NaN     Mostly Cloudy    False  False   \n",
      "4              3.5                NaN     Mostly Cloudy    False  False   \n",
      "\n",
      "   Crossing  Give_Way  Junction  No_Exit  Railway  Roundabout  Station   Stop  \\\n",
      "0     False     False     False    False    False       False    False  False   \n",
      "1     False     False     False    False    False       False    False  False   \n",
      "2     False     False     False    False    False       False    False  False   \n",
      "3     False     False     False    False    False       False    False  False   \n",
      "4     False     False     False    False    False       False    False  False   \n",
      "\n",
      "   Traffic_Calming  Traffic_Signal  Turning_Loop Sunrise_Sunset  \\\n",
      "0            False           False         False          Night   \n",
      "1            False           False         False          Night   \n",
      "2            False            True         False          Night   \n",
      "3            False           False         False          Night   \n",
      "4            False            True         False            Day   \n",
      "\n",
      "  Civil_Twilight Nautical_Twilight Astronomical_Twilight  \n",
      "0          Night             Night                 Night  \n",
      "1          Night             Night                   Day  \n",
      "2          Night               Day                   Day  \n",
      "3            Day               Day                   Day  \n",
      "4            Day               Day                   Day  \n"
     ]
    }
   ],
   "source": [
    "# Common method to preview data. Display max columns was previously set to 100.\n",
    "print(df.head())"
   ]
  },
  {
   "cell_type": "code",
   "execution_count": 5,
   "metadata": {
    "slideshow": {
     "slide_type": "slide"
    }
   },
   "outputs": [
    {
     "data": {
      "text/html": [
       "<div>\n",
       "<style scoped>\n",
       "    .dataframe tbody tr th:only-of-type {\n",
       "        vertical-align: middle;\n",
       "    }\n",
       "\n",
       "    .dataframe tbody tr th {\n",
       "        vertical-align: top;\n",
       "    }\n",
       "\n",
       "    .dataframe thead th {\n",
       "        text-align: right;\n",
       "    }\n",
       "</style>\n",
       "<table border=\"1\" class=\"dataframe\">\n",
       "  <thead>\n",
       "    <tr style=\"text-align: right;\">\n",
       "      <th></th>\n",
       "      <th>ID</th>\n",
       "      <th>Source</th>\n",
       "      <th>TMC</th>\n",
       "      <th>Severity</th>\n",
       "      <th>Start_Time</th>\n",
       "      <th>End_Time</th>\n",
       "      <th>Start_Lat</th>\n",
       "      <th>Start_Lng</th>\n",
       "      <th>End_Lat</th>\n",
       "      <th>End_Lng</th>\n",
       "      <th>Distance(mi)</th>\n",
       "      <th>Description</th>\n",
       "      <th>Number</th>\n",
       "      <th>Street</th>\n",
       "      <th>Side</th>\n",
       "      <th>City</th>\n",
       "      <th>County</th>\n",
       "      <th>State</th>\n",
       "      <th>Zipcode</th>\n",
       "      <th>Country</th>\n",
       "      <th>Timezone</th>\n",
       "      <th>Airport_Code</th>\n",
       "      <th>Weather_Timestamp</th>\n",
       "      <th>Temperature(F)</th>\n",
       "      <th>Wind_Chill(F)</th>\n",
       "      <th>Humidity(%)</th>\n",
       "      <th>Pressure(in)</th>\n",
       "      <th>Visibility(mi)</th>\n",
       "      <th>Wind_Direction</th>\n",
       "      <th>Wind_Speed(mph)</th>\n",
       "      <th>Precipitation(in)</th>\n",
       "      <th>Weather_Condition</th>\n",
       "      <th>Amenity</th>\n",
       "      <th>Bump</th>\n",
       "      <th>Crossing</th>\n",
       "      <th>Give_Way</th>\n",
       "      <th>Junction</th>\n",
       "      <th>No_Exit</th>\n",
       "      <th>Railway</th>\n",
       "      <th>Roundabout</th>\n",
       "      <th>Station</th>\n",
       "      <th>Stop</th>\n",
       "      <th>Traffic_Calming</th>\n",
       "      <th>Traffic_Signal</th>\n",
       "      <th>Turning_Loop</th>\n",
       "      <th>Sunrise_Sunset</th>\n",
       "      <th>Civil_Twilight</th>\n",
       "      <th>Nautical_Twilight</th>\n",
       "      <th>Astronomical_Twilight</th>\n",
       "    </tr>\n",
       "  </thead>\n",
       "  <tbody>\n",
       "    <tr>\n",
       "      <th>1977886</th>\n",
       "      <td>A-1977887</td>\n",
       "      <td>Bing</td>\n",
       "      <td>NaN</td>\n",
       "      <td>2</td>\n",
       "      <td>2019-03-30 05:23:08</td>\n",
       "      <td>2019-03-30 09:23:08</td>\n",
       "      <td>44.200295</td>\n",
       "      <td>-123.203110</td>\n",
       "      <td>44.19414</td>\n",
       "      <td>-123.20280</td>\n",
       "      <td>0.426</td>\n",
       "      <td>At OR-36/Mapleton-Junction City Hwy - Accident.</td>\n",
       "      <td>93496.0</td>\n",
       "      <td>Highway 99 S</td>\n",
       "      <td>L</td>\n",
       "      <td>Junction City</td>\n",
       "      <td>Lane</td>\n",
       "      <td>OR</td>\n",
       "      <td>97448-9702</td>\n",
       "      <td>US</td>\n",
       "      <td>US/Pacific</td>\n",
       "      <td>KEUG</td>\n",
       "      <td>2019-03-30 05:27:00</td>\n",
       "      <td>37.0</td>\n",
       "      <td>34.5</td>\n",
       "      <td>93.0</td>\n",
       "      <td>30.41</td>\n",
       "      <td>9.0</td>\n",
       "      <td>NW</td>\n",
       "      <td>3.5</td>\n",
       "      <td>NaN</td>\n",
       "      <td>Mostly Cloudy</td>\n",
       "      <td>False</td>\n",
       "      <td>False</td>\n",
       "      <td>False</td>\n",
       "      <td>False</td>\n",
       "      <td>False</td>\n",
       "      <td>False</td>\n",
       "      <td>False</td>\n",
       "      <td>False</td>\n",
       "      <td>False</td>\n",
       "      <td>False</td>\n",
       "      <td>False</td>\n",
       "      <td>False</td>\n",
       "      <td>False</td>\n",
       "      <td>Night</td>\n",
       "      <td>Night</td>\n",
       "      <td>Night</td>\n",
       "      <td>Day</td>\n",
       "    </tr>\n",
       "    <tr>\n",
       "      <th>2093730</th>\n",
       "      <td>A-2093731</td>\n",
       "      <td>Bing</td>\n",
       "      <td>NaN</td>\n",
       "      <td>2</td>\n",
       "      <td>2018-08-22 18:15:24</td>\n",
       "      <td>2018-08-22 18:44:57</td>\n",
       "      <td>33.688000</td>\n",
       "      <td>-117.907690</td>\n",
       "      <td>33.68808</td>\n",
       "      <td>-117.91189</td>\n",
       "      <td>0.242</td>\n",
       "      <td>At Fairview Rd - Accident. on the hard shoulder.</td>\n",
       "      <td>NaN</td>\n",
       "      <td>I-405 N</td>\n",
       "      <td>R</td>\n",
       "      <td>Costa Mesa</td>\n",
       "      <td>Orange</td>\n",
       "      <td>CA</td>\n",
       "      <td>92626</td>\n",
       "      <td>US</td>\n",
       "      <td>US/Pacific</td>\n",
       "      <td>KSNA</td>\n",
       "      <td>2018-08-22 17:53:00</td>\n",
       "      <td>78.1</td>\n",
       "      <td>NaN</td>\n",
       "      <td>62.0</td>\n",
       "      <td>29.95</td>\n",
       "      <td>10.0</td>\n",
       "      <td>WSW</td>\n",
       "      <td>6.9</td>\n",
       "      <td>NaN</td>\n",
       "      <td>Clear</td>\n",
       "      <td>False</td>\n",
       "      <td>False</td>\n",
       "      <td>False</td>\n",
       "      <td>False</td>\n",
       "      <td>False</td>\n",
       "      <td>False</td>\n",
       "      <td>False</td>\n",
       "      <td>False</td>\n",
       "      <td>False</td>\n",
       "      <td>False</td>\n",
       "      <td>False</td>\n",
       "      <td>False</td>\n",
       "      <td>False</td>\n",
       "      <td>Day</td>\n",
       "      <td>Day</td>\n",
       "      <td>Day</td>\n",
       "      <td>Day</td>\n",
       "    </tr>\n",
       "    <tr>\n",
       "      <th>818703</th>\n",
       "      <td>A-818704</td>\n",
       "      <td>MapQuest</td>\n",
       "      <td>201.0</td>\n",
       "      <td>2</td>\n",
       "      <td>2018-10-08 13:15:50</td>\n",
       "      <td>2018-10-08 13:45:36</td>\n",
       "      <td>39.786049</td>\n",
       "      <td>-86.200882</td>\n",
       "      <td>NaN</td>\n",
       "      <td>NaN</td>\n",
       "      <td>0.000</td>\n",
       "      <td>Accident on Tremont St at 14th St.</td>\n",
       "      <td>1319.0</td>\n",
       "      <td>N Tremont St</td>\n",
       "      <td>R</td>\n",
       "      <td>Indianapolis</td>\n",
       "      <td>Marion</td>\n",
       "      <td>IN</td>\n",
       "      <td>46222-3170</td>\n",
       "      <td>US</td>\n",
       "      <td>US/Eastern</td>\n",
       "      <td>KEYE</td>\n",
       "      <td>2018-10-08 12:53:00</td>\n",
       "      <td>84.0</td>\n",
       "      <td>NaN</td>\n",
       "      <td>55.0</td>\n",
       "      <td>30.13</td>\n",
       "      <td>10.0</td>\n",
       "      <td>South</td>\n",
       "      <td>10.4</td>\n",
       "      <td>NaN</td>\n",
       "      <td>Clear</td>\n",
       "      <td>False</td>\n",
       "      <td>False</td>\n",
       "      <td>False</td>\n",
       "      <td>False</td>\n",
       "      <td>False</td>\n",
       "      <td>False</td>\n",
       "      <td>False</td>\n",
       "      <td>False</td>\n",
       "      <td>False</td>\n",
       "      <td>False</td>\n",
       "      <td>False</td>\n",
       "      <td>False</td>\n",
       "      <td>False</td>\n",
       "      <td>Day</td>\n",
       "      <td>Day</td>\n",
       "      <td>Day</td>\n",
       "      <td>Day</td>\n",
       "    </tr>\n",
       "    <tr>\n",
       "      <th>1015619</th>\n",
       "      <td>A-1015620</td>\n",
       "      <td>MapQuest</td>\n",
       "      <td>201.0</td>\n",
       "      <td>2</td>\n",
       "      <td>2018-07-12 12:30:56</td>\n",
       "      <td>2018-07-12 13:00:39</td>\n",
       "      <td>33.206181</td>\n",
       "      <td>-87.524582</td>\n",
       "      <td>NaN</td>\n",
       "      <td>NaN</td>\n",
       "      <td>0.000</td>\n",
       "      <td>Accident on AL-215 University Blvd Southbound ...</td>\n",
       "      <td>NaN</td>\n",
       "      <td>McFarland Blvd E</td>\n",
       "      <td>R</td>\n",
       "      <td>Tuscaloosa</td>\n",
       "      <td>Tuscaloosa</td>\n",
       "      <td>AL</td>\n",
       "      <td>35401</td>\n",
       "      <td>US</td>\n",
       "      <td>US/Central</td>\n",
       "      <td>KTCL</td>\n",
       "      <td>2018-07-12 12:53:00</td>\n",
       "      <td>93.9</td>\n",
       "      <td>NaN</td>\n",
       "      <td>52.0</td>\n",
       "      <td>30.06</td>\n",
       "      <td>10.0</td>\n",
       "      <td>SW</td>\n",
       "      <td>4.6</td>\n",
       "      <td>NaN</td>\n",
       "      <td>Clear</td>\n",
       "      <td>False</td>\n",
       "      <td>False</td>\n",
       "      <td>False</td>\n",
       "      <td>False</td>\n",
       "      <td>False</td>\n",
       "      <td>False</td>\n",
       "      <td>False</td>\n",
       "      <td>False</td>\n",
       "      <td>False</td>\n",
       "      <td>False</td>\n",
       "      <td>False</td>\n",
       "      <td>False</td>\n",
       "      <td>False</td>\n",
       "      <td>Day</td>\n",
       "      <td>Day</td>\n",
       "      <td>Day</td>\n",
       "      <td>Day</td>\n",
       "    </tr>\n",
       "    <tr>\n",
       "      <th>1839519</th>\n",
       "      <td>A-1839520</td>\n",
       "      <td>Bing</td>\n",
       "      <td>NaN</td>\n",
       "      <td>2</td>\n",
       "      <td>2016-12-06 18:16:51</td>\n",
       "      <td>2016-12-07 00:16:51</td>\n",
       "      <td>33.996500</td>\n",
       "      <td>-117.926880</td>\n",
       "      <td>33.99853</td>\n",
       "      <td>-117.93673</td>\n",
       "      <td>0.581</td>\n",
       "      <td>At Azusa Ave - Accident.</td>\n",
       "      <td>NaN</td>\n",
       "      <td>Pomona Fwy W</td>\n",
       "      <td>R</td>\n",
       "      <td>Rowland Heights</td>\n",
       "      <td>Los Angeles</td>\n",
       "      <td>CA</td>\n",
       "      <td>91748</td>\n",
       "      <td>US</td>\n",
       "      <td>US/Pacific</td>\n",
       "      <td>KFUL</td>\n",
       "      <td>2016-12-06 17:53:00</td>\n",
       "      <td>60.1</td>\n",
       "      <td>NaN</td>\n",
       "      <td>78.0</td>\n",
       "      <td>29.98</td>\n",
       "      <td>10.0</td>\n",
       "      <td>South</td>\n",
       "      <td>3.5</td>\n",
       "      <td>NaN</td>\n",
       "      <td>Mostly Cloudy</td>\n",
       "      <td>False</td>\n",
       "      <td>False</td>\n",
       "      <td>False</td>\n",
       "      <td>False</td>\n",
       "      <td>False</td>\n",
       "      <td>False</td>\n",
       "      <td>False</td>\n",
       "      <td>False</td>\n",
       "      <td>False</td>\n",
       "      <td>False</td>\n",
       "      <td>False</td>\n",
       "      <td>False</td>\n",
       "      <td>False</td>\n",
       "      <td>Night</td>\n",
       "      <td>Night</td>\n",
       "      <td>Night</td>\n",
       "      <td>Night</td>\n",
       "    </tr>\n",
       "  </tbody>\n",
       "</table>\n",
       "</div>"
      ],
      "text/plain": [
       "                ID    Source    TMC  Severity           Start_Time  \\\n",
       "1977886  A-1977887      Bing    NaN         2  2019-03-30 05:23:08   \n",
       "2093730  A-2093731      Bing    NaN         2  2018-08-22 18:15:24   \n",
       "818703    A-818704  MapQuest  201.0         2  2018-10-08 13:15:50   \n",
       "1015619  A-1015620  MapQuest  201.0         2  2018-07-12 12:30:56   \n",
       "1839519  A-1839520      Bing    NaN         2  2016-12-06 18:16:51   \n",
       "\n",
       "                    End_Time  Start_Lat   Start_Lng   End_Lat    End_Lng  \\\n",
       "1977886  2019-03-30 09:23:08  44.200295 -123.203110  44.19414 -123.20280   \n",
       "2093730  2018-08-22 18:44:57  33.688000 -117.907690  33.68808 -117.91189   \n",
       "818703   2018-10-08 13:45:36  39.786049  -86.200882       NaN        NaN   \n",
       "1015619  2018-07-12 13:00:39  33.206181  -87.524582       NaN        NaN   \n",
       "1839519  2016-12-07 00:16:51  33.996500 -117.926880  33.99853 -117.93673   \n",
       "\n",
       "         Distance(mi)                                        Description  \\\n",
       "1977886         0.426    At OR-36/Mapleton-Junction City Hwy - Accident.   \n",
       "2093730         0.242   At Fairview Rd - Accident. on the hard shoulder.   \n",
       "818703          0.000                 Accident on Tremont St at 14th St.   \n",
       "1015619         0.000  Accident on AL-215 University Blvd Southbound ...   \n",
       "1839519         0.581                           At Azusa Ave - Accident.   \n",
       "\n",
       "          Number            Street Side             City       County State  \\\n",
       "1977886  93496.0      Highway 99 S    L    Junction City         Lane    OR   \n",
       "2093730      NaN           I-405 N    R       Costa Mesa       Orange    CA   \n",
       "818703    1319.0      N Tremont St    R     Indianapolis       Marion    IN   \n",
       "1015619      NaN  McFarland Blvd E    R       Tuscaloosa   Tuscaloosa    AL   \n",
       "1839519      NaN      Pomona Fwy W    R  Rowland Heights  Los Angeles    CA   \n",
       "\n",
       "            Zipcode Country    Timezone Airport_Code    Weather_Timestamp  \\\n",
       "1977886  97448-9702      US  US/Pacific         KEUG  2019-03-30 05:27:00   \n",
       "2093730       92626      US  US/Pacific         KSNA  2018-08-22 17:53:00   \n",
       "818703   46222-3170      US  US/Eastern         KEYE  2018-10-08 12:53:00   \n",
       "1015619       35401      US  US/Central         KTCL  2018-07-12 12:53:00   \n",
       "1839519       91748      US  US/Pacific         KFUL  2016-12-06 17:53:00   \n",
       "\n",
       "         Temperature(F)  Wind_Chill(F)  Humidity(%)  Pressure(in)  \\\n",
       "1977886            37.0           34.5         93.0         30.41   \n",
       "2093730            78.1            NaN         62.0         29.95   \n",
       "818703             84.0            NaN         55.0         30.13   \n",
       "1015619            93.9            NaN         52.0         30.06   \n",
       "1839519            60.1            NaN         78.0         29.98   \n",
       "\n",
       "         Visibility(mi) Wind_Direction  Wind_Speed(mph)  Precipitation(in)  \\\n",
       "1977886             9.0             NW              3.5                NaN   \n",
       "2093730            10.0            WSW              6.9                NaN   \n",
       "818703             10.0          South             10.4                NaN   \n",
       "1015619            10.0             SW              4.6                NaN   \n",
       "1839519            10.0          South              3.5                NaN   \n",
       "\n",
       "        Weather_Condition  Amenity   Bump  Crossing  Give_Way  Junction  \\\n",
       "1977886     Mostly Cloudy    False  False     False     False     False   \n",
       "2093730             Clear    False  False     False     False     False   \n",
       "818703              Clear    False  False     False     False     False   \n",
       "1015619             Clear    False  False     False     False     False   \n",
       "1839519     Mostly Cloudy    False  False     False     False     False   \n",
       "\n",
       "         No_Exit  Railway  Roundabout  Station   Stop  Traffic_Calming  \\\n",
       "1977886    False    False       False    False  False            False   \n",
       "2093730    False    False       False    False  False            False   \n",
       "818703     False    False       False    False  False            False   \n",
       "1015619    False    False       False    False  False            False   \n",
       "1839519    False    False       False    False  False            False   \n",
       "\n",
       "         Traffic_Signal  Turning_Loop Sunrise_Sunset Civil_Twilight  \\\n",
       "1977886           False         False          Night          Night   \n",
       "2093730           False         False            Day            Day   \n",
       "818703            False         False            Day            Day   \n",
       "1015619           False         False            Day            Day   \n",
       "1839519           False         False          Night          Night   \n",
       "\n",
       "        Nautical_Twilight Astronomical_Twilight  \n",
       "1977886             Night                   Day  \n",
       "2093730               Day                   Day  \n",
       "818703                Day                   Day  \n",
       "1015619               Day                   Day  \n",
       "1839519             Night                 Night  "
      ]
     },
     "execution_count": 5,
     "metadata": {},
     "output_type": "execute_result"
    }
   ],
   "source": [
    "# Preview data with sample instead of head to view wider variability in data set.\n",
    "# This method is rumored to have gained popularity as of recent.\n",
    "df.sample(5)"
   ]
  },
  {
   "cell_type": "code",
   "execution_count": 6,
   "metadata": {
    "slideshow": {
     "slide_type": "slide"
    }
   },
   "outputs": [
    {
     "data": {
      "text/plain": [
       "ID                        object\n",
       "Source                    object\n",
       "TMC                      float64\n",
       "Severity                   int64\n",
       "Start_Time                object\n",
       "End_Time                  object\n",
       "Start_Lat                float64\n",
       "Start_Lng                float64\n",
       "End_Lat                  float64\n",
       "End_Lng                  float64\n",
       "Distance(mi)             float64\n",
       "Description               object\n",
       "Number                   float64\n",
       "Street                    object\n",
       "Side                      object\n",
       "City                      object\n",
       "County                    object\n",
       "State                     object\n",
       "Zipcode                   object\n",
       "Country                   object\n",
       "Timezone                  object\n",
       "Airport_Code              object\n",
       "Weather_Timestamp         object\n",
       "Temperature(F)           float64\n",
       "Wind_Chill(F)            float64\n",
       "Humidity(%)              float64\n",
       "Pressure(in)             float64\n",
       "Visibility(mi)           float64\n",
       "Wind_Direction            object\n",
       "Wind_Speed(mph)          float64\n",
       "Precipitation(in)        float64\n",
       "Weather_Condition         object\n",
       "Amenity                     bool\n",
       "Bump                        bool\n",
       "Crossing                    bool\n",
       "Give_Way                    bool\n",
       "Junction                    bool\n",
       "No_Exit                     bool\n",
       "Railway                     bool\n",
       "Roundabout                  bool\n",
       "Station                     bool\n",
       "Stop                        bool\n",
       "Traffic_Calming             bool\n",
       "Traffic_Signal              bool\n",
       "Turning_Loop                bool\n",
       "Sunrise_Sunset            object\n",
       "Civil_Twilight            object\n",
       "Nautical_Twilight         object\n",
       "Astronomical_Twilight     object\n",
       "dtype: object"
      ]
     },
     "execution_count": 6,
     "metadata": {},
     "output_type": "execute_result"
    }
   ],
   "source": [
    "# Preview data types to determine if anything needs to be converted\n",
    "# Hint: Start_Time and End_Time are identified as objects and should be datetimes.\n",
    "\n",
    "df.dtypes"
   ]
  },
  {
   "cell_type": "markdown",
   "metadata": {
    "slideshow": {
     "slide_type": "slide"
    }
   },
   "source": [
    "### Created new columns that resulted from converting \"Start_Time\" and \"End_Time\" columns from string to datetime data type. <br> Adding columns can help avoid potential future issues that can come from overriding original data. <br>Added new columns that broke out year, month, and hour to hopefully simplify workflows. <br>Created new \"Crash_Event\" column with a constant \"1\" to easily count events withtout dealing with unique IDs."
   ]
  },
  {
   "cell_type": "code",
   "execution_count": 7,
   "metadata": {
    "slideshow": {
     "slide_type": "slide"
    }
   },
   "outputs": [],
   "source": [
    "# Create new columns that parse out Year, Month, and Hour\n",
    "# This will simplify future summary stats/graphs\n",
    "df['Crash_Time'] = pd.to_datetime(df['Start_Time'])\n",
    "df['Crash_Cleared'] = pd.to_datetime(df['End_Time'])\n",
    "df['Weather_Time'] = pd.to_datetime(df['Weather_Timestamp'])\n",
    "\n",
    "\n",
    "# Crash start date/time columns\n",
    "df['Crash_Time_Year'] = pd.DatetimeIndex(df['Crash_Time']).year\n",
    "df['Crash_Time_Month'] = pd.DatetimeIndex(df['Crash_Time']).month\n",
    "df['Crash_Time_Hour'] = pd.DatetimeIndex(df['Crash_Time']).hour\n",
    "df['Crash_Time_Day'] = pd.DatetimeIndex(df['Crash_Time']).day\n",
    "\n",
    "# Crash cleared date/time columns\n",
    "df['Crash_Cleared_Year'] = pd.DatetimeIndex(df['Crash_Cleared']).year\n",
    "df['Crash_Cleared_Month'] = pd.DatetimeIndex(df['Crash_Cleared']).month\n",
    "df['Crash_Cleared_Hour'] = pd.DatetimeIndex(df['Crash_Cleared']).hour\n",
    "\n",
    "# Weather timestamp columns\n",
    "# There are NaNs in this column, which means they cannot be converted to int64.\n",
    "# This can be handled later if needed.\n",
    "df['Weather_Time_Year'] = pd.DatetimeIndex(df['Weather_Time']).year\n",
    "df['Weather_Time_Month'] = pd.DatetimeIndex(df['Weather_Time']).month\n",
    "df['Weather_Time_Hour'] = pd.DatetimeIndex(df['Weather_Time']).hour\n",
    "\n",
    "# Calculate total length of time for each crash \n",
    "df['Total_Crash_Time'] = df['Crash_Cleared'] - df['Crash_Time'] \n",
    "df['Sum_Crash_Time_Minutes'] = (df['Total_Crash_Time'].dt.seconds.div(60).astype(int) + df['Total_Crash_Time'].dt.days.multiply(1440).astype(int))\n",
    "df['Sum_Crash_Time_Minutes'].round(3)\n",
    "\n",
    "# Create a new column that records \"1\" for each crash so they can be added up later for frequency puposes.\n",
    "df['Crash_Event'] = 1\n"
   ]
  },
  {
   "cell_type": "code",
   "execution_count": 8,
   "metadata": {
    "slideshow": {
     "slide_type": "slide"
    }
   },
   "outputs": [
    {
     "data": {
      "text/html": [
       "<div>\n",
       "<style scoped>\n",
       "    .dataframe tbody tr th:only-of-type {\n",
       "        vertical-align: middle;\n",
       "    }\n",
       "\n",
       "    .dataframe tbody tr th {\n",
       "        vertical-align: top;\n",
       "    }\n",
       "\n",
       "    .dataframe thead th {\n",
       "        text-align: right;\n",
       "    }\n",
       "</style>\n",
       "<table border=\"1\" class=\"dataframe\">\n",
       "  <thead>\n",
       "    <tr style=\"text-align: right;\">\n",
       "      <th></th>\n",
       "      <th>ID</th>\n",
       "      <th>Source</th>\n",
       "      <th>TMC</th>\n",
       "      <th>Severity</th>\n",
       "      <th>Start_Time</th>\n",
       "      <th>End_Time</th>\n",
       "      <th>Start_Lat</th>\n",
       "      <th>Start_Lng</th>\n",
       "      <th>End_Lat</th>\n",
       "      <th>End_Lng</th>\n",
       "      <th>Distance(mi)</th>\n",
       "      <th>Description</th>\n",
       "      <th>Number</th>\n",
       "      <th>Street</th>\n",
       "      <th>Side</th>\n",
       "      <th>City</th>\n",
       "      <th>County</th>\n",
       "      <th>State</th>\n",
       "      <th>Zipcode</th>\n",
       "      <th>Country</th>\n",
       "      <th>Timezone</th>\n",
       "      <th>Airport_Code</th>\n",
       "      <th>Weather_Timestamp</th>\n",
       "      <th>Temperature(F)</th>\n",
       "      <th>Wind_Chill(F)</th>\n",
       "      <th>Humidity(%)</th>\n",
       "      <th>Pressure(in)</th>\n",
       "      <th>Visibility(mi)</th>\n",
       "      <th>Wind_Direction</th>\n",
       "      <th>Wind_Speed(mph)</th>\n",
       "      <th>Precipitation(in)</th>\n",
       "      <th>Weather_Condition</th>\n",
       "      <th>Amenity</th>\n",
       "      <th>Bump</th>\n",
       "      <th>Crossing</th>\n",
       "      <th>Give_Way</th>\n",
       "      <th>Junction</th>\n",
       "      <th>No_Exit</th>\n",
       "      <th>Railway</th>\n",
       "      <th>Roundabout</th>\n",
       "      <th>Station</th>\n",
       "      <th>Stop</th>\n",
       "      <th>Traffic_Calming</th>\n",
       "      <th>Traffic_Signal</th>\n",
       "      <th>Turning_Loop</th>\n",
       "      <th>Sunrise_Sunset</th>\n",
       "      <th>Civil_Twilight</th>\n",
       "      <th>Nautical_Twilight</th>\n",
       "      <th>Astronomical_Twilight</th>\n",
       "      <th>Crash_Time</th>\n",
       "      <th>Crash_Cleared</th>\n",
       "      <th>Weather_Time</th>\n",
       "      <th>Crash_Time_Year</th>\n",
       "      <th>Crash_Time_Month</th>\n",
       "      <th>Crash_Time_Hour</th>\n",
       "      <th>Crash_Time_Day</th>\n",
       "      <th>Crash_Cleared_Year</th>\n",
       "      <th>Crash_Cleared_Month</th>\n",
       "      <th>Crash_Cleared_Hour</th>\n",
       "      <th>Weather_Time_Year</th>\n",
       "      <th>Weather_Time_Month</th>\n",
       "      <th>Weather_Time_Hour</th>\n",
       "      <th>Total_Crash_Time</th>\n",
       "      <th>Sum_Crash_Time_Minutes</th>\n",
       "      <th>Crash_Event</th>\n",
       "    </tr>\n",
       "  </thead>\n",
       "  <tbody>\n",
       "    <tr>\n",
       "      <th>0</th>\n",
       "      <td>A-1</td>\n",
       "      <td>MapQuest</td>\n",
       "      <td>201.0</td>\n",
       "      <td>3</td>\n",
       "      <td>2016-02-08 05:46:00</td>\n",
       "      <td>2016-02-08 11:00:00</td>\n",
       "      <td>39.865147</td>\n",
       "      <td>-84.058723</td>\n",
       "      <td>NaN</td>\n",
       "      <td>NaN</td>\n",
       "      <td>0.01</td>\n",
       "      <td>Right lane blocked due to accident on I-70 Eas...</td>\n",
       "      <td>NaN</td>\n",
       "      <td>I-70 E</td>\n",
       "      <td>R</td>\n",
       "      <td>Dayton</td>\n",
       "      <td>Montgomery</td>\n",
       "      <td>OH</td>\n",
       "      <td>45424</td>\n",
       "      <td>US</td>\n",
       "      <td>US/Eastern</td>\n",
       "      <td>KFFO</td>\n",
       "      <td>2016-02-08 05:58:00</td>\n",
       "      <td>36.9</td>\n",
       "      <td>NaN</td>\n",
       "      <td>91.0</td>\n",
       "      <td>29.68</td>\n",
       "      <td>10.0</td>\n",
       "      <td>Calm</td>\n",
       "      <td>NaN</td>\n",
       "      <td>0.02</td>\n",
       "      <td>Light Rain</td>\n",
       "      <td>False</td>\n",
       "      <td>False</td>\n",
       "      <td>False</td>\n",
       "      <td>False</td>\n",
       "      <td>False</td>\n",
       "      <td>False</td>\n",
       "      <td>False</td>\n",
       "      <td>False</td>\n",
       "      <td>False</td>\n",
       "      <td>False</td>\n",
       "      <td>False</td>\n",
       "      <td>False</td>\n",
       "      <td>False</td>\n",
       "      <td>Night</td>\n",
       "      <td>Night</td>\n",
       "      <td>Night</td>\n",
       "      <td>Night</td>\n",
       "      <td>2016-02-08 05:46:00</td>\n",
       "      <td>2016-02-08 11:00:00</td>\n",
       "      <td>2016-02-08 05:58:00</td>\n",
       "      <td>2016</td>\n",
       "      <td>2</td>\n",
       "      <td>5</td>\n",
       "      <td>8</td>\n",
       "      <td>2016</td>\n",
       "      <td>2</td>\n",
       "      <td>11</td>\n",
       "      <td>2016.0</td>\n",
       "      <td>2.0</td>\n",
       "      <td>5.0</td>\n",
       "      <td>05:14:00</td>\n",
       "      <td>314</td>\n",
       "      <td>1</td>\n",
       "    </tr>\n",
       "    <tr>\n",
       "      <th>1</th>\n",
       "      <td>A-2</td>\n",
       "      <td>MapQuest</td>\n",
       "      <td>201.0</td>\n",
       "      <td>2</td>\n",
       "      <td>2016-02-08 06:07:59</td>\n",
       "      <td>2016-02-08 06:37:59</td>\n",
       "      <td>39.928059</td>\n",
       "      <td>-82.831184</td>\n",
       "      <td>NaN</td>\n",
       "      <td>NaN</td>\n",
       "      <td>0.01</td>\n",
       "      <td>Accident on Brice Rd at Tussing Rd. Expect del...</td>\n",
       "      <td>2584.0</td>\n",
       "      <td>Brice Rd</td>\n",
       "      <td>L</td>\n",
       "      <td>Reynoldsburg</td>\n",
       "      <td>Franklin</td>\n",
       "      <td>OH</td>\n",
       "      <td>43068-3402</td>\n",
       "      <td>US</td>\n",
       "      <td>US/Eastern</td>\n",
       "      <td>KCMH</td>\n",
       "      <td>2016-02-08 05:51:00</td>\n",
       "      <td>37.9</td>\n",
       "      <td>NaN</td>\n",
       "      <td>100.0</td>\n",
       "      <td>29.65</td>\n",
       "      <td>10.0</td>\n",
       "      <td>Calm</td>\n",
       "      <td>NaN</td>\n",
       "      <td>0.00</td>\n",
       "      <td>Light Rain</td>\n",
       "      <td>False</td>\n",
       "      <td>False</td>\n",
       "      <td>False</td>\n",
       "      <td>False</td>\n",
       "      <td>False</td>\n",
       "      <td>False</td>\n",
       "      <td>False</td>\n",
       "      <td>False</td>\n",
       "      <td>False</td>\n",
       "      <td>False</td>\n",
       "      <td>False</td>\n",
       "      <td>False</td>\n",
       "      <td>False</td>\n",
       "      <td>Night</td>\n",
       "      <td>Night</td>\n",
       "      <td>Night</td>\n",
       "      <td>Day</td>\n",
       "      <td>2016-02-08 06:07:59</td>\n",
       "      <td>2016-02-08 06:37:59</td>\n",
       "      <td>2016-02-08 05:51:00</td>\n",
       "      <td>2016</td>\n",
       "      <td>2</td>\n",
       "      <td>6</td>\n",
       "      <td>8</td>\n",
       "      <td>2016</td>\n",
       "      <td>2</td>\n",
       "      <td>6</td>\n",
       "      <td>2016.0</td>\n",
       "      <td>2.0</td>\n",
       "      <td>5.0</td>\n",
       "      <td>00:30:00</td>\n",
       "      <td>30</td>\n",
       "      <td>1</td>\n",
       "    </tr>\n",
       "    <tr>\n",
       "      <th>2</th>\n",
       "      <td>A-3</td>\n",
       "      <td>MapQuest</td>\n",
       "      <td>201.0</td>\n",
       "      <td>2</td>\n",
       "      <td>2016-02-08 06:49:27</td>\n",
       "      <td>2016-02-08 07:19:27</td>\n",
       "      <td>39.063148</td>\n",
       "      <td>-84.032608</td>\n",
       "      <td>NaN</td>\n",
       "      <td>NaN</td>\n",
       "      <td>0.01</td>\n",
       "      <td>Accident on OH-32 State Route 32 Westbound at ...</td>\n",
       "      <td>NaN</td>\n",
       "      <td>State Route 32</td>\n",
       "      <td>R</td>\n",
       "      <td>Williamsburg</td>\n",
       "      <td>Clermont</td>\n",
       "      <td>OH</td>\n",
       "      <td>45176</td>\n",
       "      <td>US</td>\n",
       "      <td>US/Eastern</td>\n",
       "      <td>KI69</td>\n",
       "      <td>2016-02-08 06:56:00</td>\n",
       "      <td>36.0</td>\n",
       "      <td>33.3</td>\n",
       "      <td>100.0</td>\n",
       "      <td>29.67</td>\n",
       "      <td>10.0</td>\n",
       "      <td>SW</td>\n",
       "      <td>3.5</td>\n",
       "      <td>NaN</td>\n",
       "      <td>Overcast</td>\n",
       "      <td>False</td>\n",
       "      <td>False</td>\n",
       "      <td>False</td>\n",
       "      <td>False</td>\n",
       "      <td>False</td>\n",
       "      <td>False</td>\n",
       "      <td>False</td>\n",
       "      <td>False</td>\n",
       "      <td>False</td>\n",
       "      <td>False</td>\n",
       "      <td>False</td>\n",
       "      <td>True</td>\n",
       "      <td>False</td>\n",
       "      <td>Night</td>\n",
       "      <td>Night</td>\n",
       "      <td>Day</td>\n",
       "      <td>Day</td>\n",
       "      <td>2016-02-08 06:49:27</td>\n",
       "      <td>2016-02-08 07:19:27</td>\n",
       "      <td>2016-02-08 06:56:00</td>\n",
       "      <td>2016</td>\n",
       "      <td>2</td>\n",
       "      <td>6</td>\n",
       "      <td>8</td>\n",
       "      <td>2016</td>\n",
       "      <td>2</td>\n",
       "      <td>7</td>\n",
       "      <td>2016.0</td>\n",
       "      <td>2.0</td>\n",
       "      <td>6.0</td>\n",
       "      <td>00:30:00</td>\n",
       "      <td>30</td>\n",
       "      <td>1</td>\n",
       "    </tr>\n",
       "    <tr>\n",
       "      <th>3</th>\n",
       "      <td>A-4</td>\n",
       "      <td>MapQuest</td>\n",
       "      <td>201.0</td>\n",
       "      <td>3</td>\n",
       "      <td>2016-02-08 07:23:34</td>\n",
       "      <td>2016-02-08 07:53:34</td>\n",
       "      <td>39.747753</td>\n",
       "      <td>-84.205582</td>\n",
       "      <td>NaN</td>\n",
       "      <td>NaN</td>\n",
       "      <td>0.01</td>\n",
       "      <td>Accident on I-75 Southbound at Exits 52 52B US...</td>\n",
       "      <td>NaN</td>\n",
       "      <td>I-75 S</td>\n",
       "      <td>R</td>\n",
       "      <td>Dayton</td>\n",
       "      <td>Montgomery</td>\n",
       "      <td>OH</td>\n",
       "      <td>45417</td>\n",
       "      <td>US</td>\n",
       "      <td>US/Eastern</td>\n",
       "      <td>KDAY</td>\n",
       "      <td>2016-02-08 07:38:00</td>\n",
       "      <td>35.1</td>\n",
       "      <td>31.0</td>\n",
       "      <td>96.0</td>\n",
       "      <td>29.64</td>\n",
       "      <td>9.0</td>\n",
       "      <td>SW</td>\n",
       "      <td>4.6</td>\n",
       "      <td>NaN</td>\n",
       "      <td>Mostly Cloudy</td>\n",
       "      <td>False</td>\n",
       "      <td>False</td>\n",
       "      <td>False</td>\n",
       "      <td>False</td>\n",
       "      <td>False</td>\n",
       "      <td>False</td>\n",
       "      <td>False</td>\n",
       "      <td>False</td>\n",
       "      <td>False</td>\n",
       "      <td>False</td>\n",
       "      <td>False</td>\n",
       "      <td>False</td>\n",
       "      <td>False</td>\n",
       "      <td>Night</td>\n",
       "      <td>Day</td>\n",
       "      <td>Day</td>\n",
       "      <td>Day</td>\n",
       "      <td>2016-02-08 07:23:34</td>\n",
       "      <td>2016-02-08 07:53:34</td>\n",
       "      <td>2016-02-08 07:38:00</td>\n",
       "      <td>2016</td>\n",
       "      <td>2</td>\n",
       "      <td>7</td>\n",
       "      <td>8</td>\n",
       "      <td>2016</td>\n",
       "      <td>2</td>\n",
       "      <td>7</td>\n",
       "      <td>2016.0</td>\n",
       "      <td>2.0</td>\n",
       "      <td>7.0</td>\n",
       "      <td>00:30:00</td>\n",
       "      <td>30</td>\n",
       "      <td>1</td>\n",
       "    </tr>\n",
       "    <tr>\n",
       "      <th>4</th>\n",
       "      <td>A-5</td>\n",
       "      <td>MapQuest</td>\n",
       "      <td>201.0</td>\n",
       "      <td>2</td>\n",
       "      <td>2016-02-08 07:39:07</td>\n",
       "      <td>2016-02-08 08:09:07</td>\n",
       "      <td>39.627781</td>\n",
       "      <td>-84.188354</td>\n",
       "      <td>NaN</td>\n",
       "      <td>NaN</td>\n",
       "      <td>0.01</td>\n",
       "      <td>Accident on McEwen Rd at OH-725 Miamisburg Cen...</td>\n",
       "      <td>NaN</td>\n",
       "      <td>Miamisburg Centerville Rd</td>\n",
       "      <td>R</td>\n",
       "      <td>Dayton</td>\n",
       "      <td>Montgomery</td>\n",
       "      <td>OH</td>\n",
       "      <td>45459</td>\n",
       "      <td>US</td>\n",
       "      <td>US/Eastern</td>\n",
       "      <td>KMGY</td>\n",
       "      <td>2016-02-08 07:53:00</td>\n",
       "      <td>36.0</td>\n",
       "      <td>33.3</td>\n",
       "      <td>89.0</td>\n",
       "      <td>29.65</td>\n",
       "      <td>6.0</td>\n",
       "      <td>SW</td>\n",
       "      <td>3.5</td>\n",
       "      <td>NaN</td>\n",
       "      <td>Mostly Cloudy</td>\n",
       "      <td>False</td>\n",
       "      <td>False</td>\n",
       "      <td>False</td>\n",
       "      <td>False</td>\n",
       "      <td>False</td>\n",
       "      <td>False</td>\n",
       "      <td>False</td>\n",
       "      <td>False</td>\n",
       "      <td>False</td>\n",
       "      <td>False</td>\n",
       "      <td>False</td>\n",
       "      <td>True</td>\n",
       "      <td>False</td>\n",
       "      <td>Day</td>\n",
       "      <td>Day</td>\n",
       "      <td>Day</td>\n",
       "      <td>Day</td>\n",
       "      <td>2016-02-08 07:39:07</td>\n",
       "      <td>2016-02-08 08:09:07</td>\n",
       "      <td>2016-02-08 07:53:00</td>\n",
       "      <td>2016</td>\n",
       "      <td>2</td>\n",
       "      <td>7</td>\n",
       "      <td>8</td>\n",
       "      <td>2016</td>\n",
       "      <td>2</td>\n",
       "      <td>8</td>\n",
       "      <td>2016.0</td>\n",
       "      <td>2.0</td>\n",
       "      <td>7.0</td>\n",
       "      <td>00:30:00</td>\n",
       "      <td>30</td>\n",
       "      <td>1</td>\n",
       "    </tr>\n",
       "  </tbody>\n",
       "</table>\n",
       "</div>"
      ],
      "text/plain": [
       "    ID    Source    TMC  Severity           Start_Time             End_Time  \\\n",
       "0  A-1  MapQuest  201.0         3  2016-02-08 05:46:00  2016-02-08 11:00:00   \n",
       "1  A-2  MapQuest  201.0         2  2016-02-08 06:07:59  2016-02-08 06:37:59   \n",
       "2  A-3  MapQuest  201.0         2  2016-02-08 06:49:27  2016-02-08 07:19:27   \n",
       "3  A-4  MapQuest  201.0         3  2016-02-08 07:23:34  2016-02-08 07:53:34   \n",
       "4  A-5  MapQuest  201.0         2  2016-02-08 07:39:07  2016-02-08 08:09:07   \n",
       "\n",
       "   Start_Lat  Start_Lng  End_Lat  End_Lng  Distance(mi)  \\\n",
       "0  39.865147 -84.058723      NaN      NaN          0.01   \n",
       "1  39.928059 -82.831184      NaN      NaN          0.01   \n",
       "2  39.063148 -84.032608      NaN      NaN          0.01   \n",
       "3  39.747753 -84.205582      NaN      NaN          0.01   \n",
       "4  39.627781 -84.188354      NaN      NaN          0.01   \n",
       "\n",
       "                                         Description  Number  \\\n",
       "0  Right lane blocked due to accident on I-70 Eas...     NaN   \n",
       "1  Accident on Brice Rd at Tussing Rd. Expect del...  2584.0   \n",
       "2  Accident on OH-32 State Route 32 Westbound at ...     NaN   \n",
       "3  Accident on I-75 Southbound at Exits 52 52B US...     NaN   \n",
       "4  Accident on McEwen Rd at OH-725 Miamisburg Cen...     NaN   \n",
       "\n",
       "                      Street Side          City      County State     Zipcode  \\\n",
       "0                     I-70 E    R        Dayton  Montgomery    OH       45424   \n",
       "1                   Brice Rd    L  Reynoldsburg    Franklin    OH  43068-3402   \n",
       "2             State Route 32    R  Williamsburg    Clermont    OH       45176   \n",
       "3                     I-75 S    R        Dayton  Montgomery    OH       45417   \n",
       "4  Miamisburg Centerville Rd    R        Dayton  Montgomery    OH       45459   \n",
       "\n",
       "  Country    Timezone Airport_Code    Weather_Timestamp  Temperature(F)  \\\n",
       "0      US  US/Eastern         KFFO  2016-02-08 05:58:00            36.9   \n",
       "1      US  US/Eastern         KCMH  2016-02-08 05:51:00            37.9   \n",
       "2      US  US/Eastern         KI69  2016-02-08 06:56:00            36.0   \n",
       "3      US  US/Eastern         KDAY  2016-02-08 07:38:00            35.1   \n",
       "4      US  US/Eastern         KMGY  2016-02-08 07:53:00            36.0   \n",
       "\n",
       "   Wind_Chill(F)  Humidity(%)  Pressure(in)  Visibility(mi) Wind_Direction  \\\n",
       "0            NaN         91.0         29.68            10.0           Calm   \n",
       "1            NaN        100.0         29.65            10.0           Calm   \n",
       "2           33.3        100.0         29.67            10.0             SW   \n",
       "3           31.0         96.0         29.64             9.0             SW   \n",
       "4           33.3         89.0         29.65             6.0             SW   \n",
       "\n",
       "   Wind_Speed(mph)  Precipitation(in) Weather_Condition  Amenity   Bump  \\\n",
       "0              NaN               0.02        Light Rain    False  False   \n",
       "1              NaN               0.00        Light Rain    False  False   \n",
       "2              3.5                NaN          Overcast    False  False   \n",
       "3              4.6                NaN     Mostly Cloudy    False  False   \n",
       "4              3.5                NaN     Mostly Cloudy    False  False   \n",
       "\n",
       "   Crossing  Give_Way  Junction  No_Exit  Railway  Roundabout  Station   Stop  \\\n",
       "0     False     False     False    False    False       False    False  False   \n",
       "1     False     False     False    False    False       False    False  False   \n",
       "2     False     False     False    False    False       False    False  False   \n",
       "3     False     False     False    False    False       False    False  False   \n",
       "4     False     False     False    False    False       False    False  False   \n",
       "\n",
       "   Traffic_Calming  Traffic_Signal  Turning_Loop Sunrise_Sunset  \\\n",
       "0            False           False         False          Night   \n",
       "1            False           False         False          Night   \n",
       "2            False            True         False          Night   \n",
       "3            False           False         False          Night   \n",
       "4            False            True         False            Day   \n",
       "\n",
       "  Civil_Twilight Nautical_Twilight Astronomical_Twilight          Crash_Time  \\\n",
       "0          Night             Night                 Night 2016-02-08 05:46:00   \n",
       "1          Night             Night                   Day 2016-02-08 06:07:59   \n",
       "2          Night               Day                   Day 2016-02-08 06:49:27   \n",
       "3            Day               Day                   Day 2016-02-08 07:23:34   \n",
       "4            Day               Day                   Day 2016-02-08 07:39:07   \n",
       "\n",
       "        Crash_Cleared        Weather_Time  Crash_Time_Year  Crash_Time_Month  \\\n",
       "0 2016-02-08 11:00:00 2016-02-08 05:58:00             2016                 2   \n",
       "1 2016-02-08 06:37:59 2016-02-08 05:51:00             2016                 2   \n",
       "2 2016-02-08 07:19:27 2016-02-08 06:56:00             2016                 2   \n",
       "3 2016-02-08 07:53:34 2016-02-08 07:38:00             2016                 2   \n",
       "4 2016-02-08 08:09:07 2016-02-08 07:53:00             2016                 2   \n",
       "\n",
       "   Crash_Time_Hour  Crash_Time_Day  Crash_Cleared_Year  Crash_Cleared_Month  \\\n",
       "0                5               8                2016                    2   \n",
       "1                6               8                2016                    2   \n",
       "2                6               8                2016                    2   \n",
       "3                7               8                2016                    2   \n",
       "4                7               8                2016                    2   \n",
       "\n",
       "   Crash_Cleared_Hour  Weather_Time_Year  Weather_Time_Month  \\\n",
       "0                  11             2016.0                 2.0   \n",
       "1                   6             2016.0                 2.0   \n",
       "2                   7             2016.0                 2.0   \n",
       "3                   7             2016.0                 2.0   \n",
       "4                   8             2016.0                 2.0   \n",
       "\n",
       "   Weather_Time_Hour Total_Crash_Time  Sum_Crash_Time_Minutes  Crash_Event  \n",
       "0                5.0         05:14:00                     314            1  \n",
       "1                5.0         00:30:00                      30            1  \n",
       "2                6.0         00:30:00                      30            1  \n",
       "3                7.0         00:30:00                      30            1  \n",
       "4                7.0         00:30:00                      30            1  "
      ]
     },
     "execution_count": 8,
     "metadata": {},
     "output_type": "execute_result"
    }
   ],
   "source": [
    "#Confirmed changes from adding new columns.\n",
    "df.head()"
   ]
  },
  {
   "cell_type": "markdown",
   "metadata": {
    "slideshow": {
     "slide_type": "slide"
    }
   },
   "source": [
    "### Created new dataframe that is filtered to Texas crashes. Preserved integrity of original dataset. <br> Dropped several columns from new dataframe to filter down to defined scope of the project."
   ]
  },
  {
   "cell_type": "code",
   "execution_count": 9,
   "metadata": {
    "slideshow": {
     "slide_type": "slide"
    }
   },
   "outputs": [
    {
     "data": {
      "text/html": [
       "<div>\n",
       "<style scoped>\n",
       "    .dataframe tbody tr th:only-of-type {\n",
       "        vertical-align: middle;\n",
       "    }\n",
       "\n",
       "    .dataframe tbody tr th {\n",
       "        vertical-align: top;\n",
       "    }\n",
       "\n",
       "    .dataframe thead th {\n",
       "        text-align: right;\n",
       "    }\n",
       "</style>\n",
       "<table border=\"1\" class=\"dataframe\">\n",
       "  <thead>\n",
       "    <tr style=\"text-align: right;\">\n",
       "      <th></th>\n",
       "      <th>ID</th>\n",
       "      <th>Source</th>\n",
       "      <th>TMC</th>\n",
       "      <th>Severity</th>\n",
       "      <th>Start_Time</th>\n",
       "      <th>End_Time</th>\n",
       "      <th>Start_Lat</th>\n",
       "      <th>Start_Lng</th>\n",
       "      <th>End_Lat</th>\n",
       "      <th>End_Lng</th>\n",
       "      <th>Distance(mi)</th>\n",
       "      <th>Description</th>\n",
       "      <th>Number</th>\n",
       "      <th>Street</th>\n",
       "      <th>Side</th>\n",
       "      <th>City</th>\n",
       "      <th>County</th>\n",
       "      <th>State</th>\n",
       "      <th>Zipcode</th>\n",
       "      <th>Country</th>\n",
       "      <th>Timezone</th>\n",
       "      <th>Airport_Code</th>\n",
       "      <th>Weather_Timestamp</th>\n",
       "      <th>Temperature(F)</th>\n",
       "      <th>Wind_Chill(F)</th>\n",
       "      <th>Humidity(%)</th>\n",
       "      <th>Pressure(in)</th>\n",
       "      <th>Visibility(mi)</th>\n",
       "      <th>Wind_Direction</th>\n",
       "      <th>Wind_Speed(mph)</th>\n",
       "      <th>Precipitation(in)</th>\n",
       "      <th>Weather_Condition</th>\n",
       "      <th>Amenity</th>\n",
       "      <th>Bump</th>\n",
       "      <th>Crossing</th>\n",
       "      <th>Give_Way</th>\n",
       "      <th>Junction</th>\n",
       "      <th>No_Exit</th>\n",
       "      <th>Railway</th>\n",
       "      <th>Roundabout</th>\n",
       "      <th>Station</th>\n",
       "      <th>Stop</th>\n",
       "      <th>Traffic_Calming</th>\n",
       "      <th>Traffic_Signal</th>\n",
       "      <th>Turning_Loop</th>\n",
       "      <th>Sunrise_Sunset</th>\n",
       "      <th>Civil_Twilight</th>\n",
       "      <th>Nautical_Twilight</th>\n",
       "      <th>Astronomical_Twilight</th>\n",
       "      <th>Crash_Time</th>\n",
       "      <th>Crash_Cleared</th>\n",
       "      <th>Weather_Time</th>\n",
       "      <th>Crash_Time_Year</th>\n",
       "      <th>Crash_Time_Month</th>\n",
       "      <th>Crash_Time_Hour</th>\n",
       "      <th>Crash_Time_Day</th>\n",
       "      <th>Crash_Cleared_Year</th>\n",
       "      <th>Crash_Cleared_Month</th>\n",
       "      <th>Crash_Cleared_Hour</th>\n",
       "      <th>Weather_Time_Year</th>\n",
       "      <th>Weather_Time_Month</th>\n",
       "      <th>Weather_Time_Hour</th>\n",
       "      <th>Total_Crash_Time</th>\n",
       "      <th>Sum_Crash_Time_Minutes</th>\n",
       "      <th>Crash_Event</th>\n",
       "    </tr>\n",
       "  </thead>\n",
       "  <tbody>\n",
       "    <tr>\n",
       "      <th>261008</th>\n",
       "      <td>A-261009</td>\n",
       "      <td>MapQuest</td>\n",
       "      <td>201.0</td>\n",
       "      <td>2</td>\n",
       "      <td>2016-11-30 16:03:54</td>\n",
       "      <td>2016-11-30 17:20:00</td>\n",
       "      <td>30.336502</td>\n",
       "      <td>-97.755646</td>\n",
       "      <td>NaN</td>\n",
       "      <td>NaN</td>\n",
       "      <td>0.01</td>\n",
       "      <td>Accident on RM-2222 Northland Dr at Mo Pac Exp...</td>\n",
       "      <td>NaN</td>\n",
       "      <td>Mopac Expy S</td>\n",
       "      <td>R</td>\n",
       "      <td>Austin</td>\n",
       "      <td>Travis</td>\n",
       "      <td>TX</td>\n",
       "      <td>78731</td>\n",
       "      <td>US</td>\n",
       "      <td>US/Central</td>\n",
       "      <td>KATT</td>\n",
       "      <td>2016-11-30 15:51:00</td>\n",
       "      <td>66.0</td>\n",
       "      <td>NaN</td>\n",
       "      <td>24.0</td>\n",
       "      <td>30.01</td>\n",
       "      <td>10.0</td>\n",
       "      <td>NNW</td>\n",
       "      <td>5.8</td>\n",
       "      <td>NaN</td>\n",
       "      <td>Clear</td>\n",
       "      <td>False</td>\n",
       "      <td>False</td>\n",
       "      <td>False</td>\n",
       "      <td>False</td>\n",
       "      <td>False</td>\n",
       "      <td>False</td>\n",
       "      <td>False</td>\n",
       "      <td>False</td>\n",
       "      <td>False</td>\n",
       "      <td>False</td>\n",
       "      <td>False</td>\n",
       "      <td>False</td>\n",
       "      <td>False</td>\n",
       "      <td>Day</td>\n",
       "      <td>Day</td>\n",
       "      <td>Day</td>\n",
       "      <td>Day</td>\n",
       "      <td>2016-11-30 16:03:54</td>\n",
       "      <td>2016-11-30 17:20:00</td>\n",
       "      <td>2016-11-30 15:51:00</td>\n",
       "      <td>2016</td>\n",
       "      <td>11</td>\n",
       "      <td>16</td>\n",
       "      <td>30</td>\n",
       "      <td>2016</td>\n",
       "      <td>11</td>\n",
       "      <td>17</td>\n",
       "      <td>2016.0</td>\n",
       "      <td>11.0</td>\n",
       "      <td>15.0</td>\n",
       "      <td>01:16:06</td>\n",
       "      <td>76</td>\n",
       "      <td>1</td>\n",
       "    </tr>\n",
       "    <tr>\n",
       "      <th>261009</th>\n",
       "      <td>A-261010</td>\n",
       "      <td>MapQuest</td>\n",
       "      <td>201.0</td>\n",
       "      <td>2</td>\n",
       "      <td>2016-11-30 16:32:18</td>\n",
       "      <td>2016-11-30 17:47:02</td>\n",
       "      <td>30.328165</td>\n",
       "      <td>-97.694305</td>\n",
       "      <td>NaN</td>\n",
       "      <td>NaN</td>\n",
       "      <td>0.00</td>\n",
       "      <td>Accident on Grand Canyon Dr between Westheimer...</td>\n",
       "      <td>1128.0</td>\n",
       "      <td>E Saint Johns Ave</td>\n",
       "      <td>L</td>\n",
       "      <td>Austin</td>\n",
       "      <td>Travis</td>\n",
       "      <td>TX</td>\n",
       "      <td>78752-2826</td>\n",
       "      <td>US</td>\n",
       "      <td>US/Central</td>\n",
       "      <td>KATT</td>\n",
       "      <td>2016-11-30 16:51:00</td>\n",
       "      <td>62.1</td>\n",
       "      <td>NaN</td>\n",
       "      <td>25.0</td>\n",
       "      <td>30.03</td>\n",
       "      <td>10.0</td>\n",
       "      <td>North</td>\n",
       "      <td>4.6</td>\n",
       "      <td>NaN</td>\n",
       "      <td>Clear</td>\n",
       "      <td>False</td>\n",
       "      <td>False</td>\n",
       "      <td>False</td>\n",
       "      <td>False</td>\n",
       "      <td>False</td>\n",
       "      <td>False</td>\n",
       "      <td>False</td>\n",
       "      <td>False</td>\n",
       "      <td>False</td>\n",
       "      <td>False</td>\n",
       "      <td>False</td>\n",
       "      <td>False</td>\n",
       "      <td>False</td>\n",
       "      <td>Day</td>\n",
       "      <td>Day</td>\n",
       "      <td>Day</td>\n",
       "      <td>Day</td>\n",
       "      <td>2016-11-30 16:32:18</td>\n",
       "      <td>2016-11-30 17:47:02</td>\n",
       "      <td>2016-11-30 16:51:00</td>\n",
       "      <td>2016</td>\n",
       "      <td>11</td>\n",
       "      <td>16</td>\n",
       "      <td>30</td>\n",
       "      <td>2016</td>\n",
       "      <td>11</td>\n",
       "      <td>17</td>\n",
       "      <td>2016.0</td>\n",
       "      <td>11.0</td>\n",
       "      <td>16.0</td>\n",
       "      <td>01:14:44</td>\n",
       "      <td>74</td>\n",
       "      <td>1</td>\n",
       "    </tr>\n",
       "    <tr>\n",
       "      <th>261010</th>\n",
       "      <td>A-261011</td>\n",
       "      <td>MapQuest</td>\n",
       "      <td>201.0</td>\n",
       "      <td>2</td>\n",
       "      <td>2016-11-30 16:31:45</td>\n",
       "      <td>2016-11-30 17:46:34</td>\n",
       "      <td>30.326077</td>\n",
       "      <td>-97.692307</td>\n",
       "      <td>NaN</td>\n",
       "      <td>NaN</td>\n",
       "      <td>0.00</td>\n",
       "      <td>Accident on Saint Johns Ave at Cameron Rd.</td>\n",
       "      <td>7197.0</td>\n",
       "      <td>Cameron Rd</td>\n",
       "      <td>R</td>\n",
       "      <td>Austin</td>\n",
       "      <td>Travis</td>\n",
       "      <td>TX</td>\n",
       "      <td>78752</td>\n",
       "      <td>US</td>\n",
       "      <td>US/Central</td>\n",
       "      <td>KATT</td>\n",
       "      <td>2016-11-30 16:51:00</td>\n",
       "      <td>62.1</td>\n",
       "      <td>NaN</td>\n",
       "      <td>25.0</td>\n",
       "      <td>30.03</td>\n",
       "      <td>10.0</td>\n",
       "      <td>North</td>\n",
       "      <td>4.6</td>\n",
       "      <td>NaN</td>\n",
       "      <td>Clear</td>\n",
       "      <td>False</td>\n",
       "      <td>False</td>\n",
       "      <td>False</td>\n",
       "      <td>False</td>\n",
       "      <td>False</td>\n",
       "      <td>False</td>\n",
       "      <td>False</td>\n",
       "      <td>False</td>\n",
       "      <td>True</td>\n",
       "      <td>False</td>\n",
       "      <td>False</td>\n",
       "      <td>True</td>\n",
       "      <td>False</td>\n",
       "      <td>Day</td>\n",
       "      <td>Day</td>\n",
       "      <td>Day</td>\n",
       "      <td>Day</td>\n",
       "      <td>2016-11-30 16:31:45</td>\n",
       "      <td>2016-11-30 17:46:34</td>\n",
       "      <td>2016-11-30 16:51:00</td>\n",
       "      <td>2016</td>\n",
       "      <td>11</td>\n",
       "      <td>16</td>\n",
       "      <td>30</td>\n",
       "      <td>2016</td>\n",
       "      <td>11</td>\n",
       "      <td>17</td>\n",
       "      <td>2016.0</td>\n",
       "      <td>11.0</td>\n",
       "      <td>16.0</td>\n",
       "      <td>01:14:49</td>\n",
       "      <td>74</td>\n",
       "      <td>1</td>\n",
       "    </tr>\n",
       "    <tr>\n",
       "      <th>261011</th>\n",
       "      <td>A-261012</td>\n",
       "      <td>MapQuest</td>\n",
       "      <td>201.0</td>\n",
       "      <td>2</td>\n",
       "      <td>2016-11-30 16:06:49</td>\n",
       "      <td>2016-11-30 17:27:00</td>\n",
       "      <td>32.856014</td>\n",
       "      <td>-97.513084</td>\n",
       "      <td>NaN</td>\n",
       "      <td>NaN</td>\n",
       "      <td>0.01</td>\n",
       "      <td>#2 lane blocked and right hand shoulder blocke...</td>\n",
       "      <td>NaN</td>\n",
       "      <td>Hanger Cutoff Rd</td>\n",
       "      <td>R</td>\n",
       "      <td>Fort Worth</td>\n",
       "      <td>Tarrant</td>\n",
       "      <td>TX</td>\n",
       "      <td>76135</td>\n",
       "      <td>US</td>\n",
       "      <td>US/Central</td>\n",
       "      <td>KAWN</td>\n",
       "      <td>2016-11-30 16:00:00</td>\n",
       "      <td>NaN</td>\n",
       "      <td>NaN</td>\n",
       "      <td>NaN</td>\n",
       "      <td>NaN</td>\n",
       "      <td>NaN</td>\n",
       "      <td>North</td>\n",
       "      <td>NaN</td>\n",
       "      <td>NaN</td>\n",
       "      <td>NaN</td>\n",
       "      <td>False</td>\n",
       "      <td>False</td>\n",
       "      <td>False</td>\n",
       "      <td>False</td>\n",
       "      <td>False</td>\n",
       "      <td>False</td>\n",
       "      <td>False</td>\n",
       "      <td>False</td>\n",
       "      <td>False</td>\n",
       "      <td>False</td>\n",
       "      <td>False</td>\n",
       "      <td>False</td>\n",
       "      <td>False</td>\n",
       "      <td>Day</td>\n",
       "      <td>Day</td>\n",
       "      <td>Day</td>\n",
       "      <td>Day</td>\n",
       "      <td>2016-11-30 16:06:49</td>\n",
       "      <td>2016-11-30 17:27:00</td>\n",
       "      <td>2016-11-30 16:00:00</td>\n",
       "      <td>2016</td>\n",
       "      <td>11</td>\n",
       "      <td>16</td>\n",
       "      <td>30</td>\n",
       "      <td>2016</td>\n",
       "      <td>11</td>\n",
       "      <td>17</td>\n",
       "      <td>2016.0</td>\n",
       "      <td>11.0</td>\n",
       "      <td>16.0</td>\n",
       "      <td>01:20:11</td>\n",
       "      <td>80</td>\n",
       "      <td>1</td>\n",
       "    </tr>\n",
       "    <tr>\n",
       "      <th>261012</th>\n",
       "      <td>A-261013</td>\n",
       "      <td>MapQuest</td>\n",
       "      <td>201.0</td>\n",
       "      <td>3</td>\n",
       "      <td>2016-11-30 16:35:01</td>\n",
       "      <td>2016-11-30 17:49:39</td>\n",
       "      <td>32.797668</td>\n",
       "      <td>-97.212090</td>\n",
       "      <td>NaN</td>\n",
       "      <td>NaN</td>\n",
       "      <td>0.01</td>\n",
       "      <td>#2 lane blocked and right hand shoulder blocke...</td>\n",
       "      <td>NaN</td>\n",
       "      <td>I-820 N</td>\n",
       "      <td>R</td>\n",
       "      <td>Fort Worth</td>\n",
       "      <td>Tarrant</td>\n",
       "      <td>TX</td>\n",
       "      <td>76118</td>\n",
       "      <td>US</td>\n",
       "      <td>US/Central</td>\n",
       "      <td>KFWD</td>\n",
       "      <td>NaN</td>\n",
       "      <td>NaN</td>\n",
       "      <td>NaN</td>\n",
       "      <td>NaN</td>\n",
       "      <td>NaN</td>\n",
       "      <td>NaN</td>\n",
       "      <td>NaN</td>\n",
       "      <td>NaN</td>\n",
       "      <td>NaN</td>\n",
       "      <td>NaN</td>\n",
       "      <td>False</td>\n",
       "      <td>False</td>\n",
       "      <td>False</td>\n",
       "      <td>False</td>\n",
       "      <td>False</td>\n",
       "      <td>False</td>\n",
       "      <td>False</td>\n",
       "      <td>False</td>\n",
       "      <td>False</td>\n",
       "      <td>False</td>\n",
       "      <td>False</td>\n",
       "      <td>False</td>\n",
       "      <td>False</td>\n",
       "      <td>Day</td>\n",
       "      <td>Day</td>\n",
       "      <td>Day</td>\n",
       "      <td>Day</td>\n",
       "      <td>2016-11-30 16:35:01</td>\n",
       "      <td>2016-11-30 17:49:39</td>\n",
       "      <td>NaT</td>\n",
       "      <td>2016</td>\n",
       "      <td>11</td>\n",
       "      <td>16</td>\n",
       "      <td>30</td>\n",
       "      <td>2016</td>\n",
       "      <td>11</td>\n",
       "      <td>17</td>\n",
       "      <td>NaN</td>\n",
       "      <td>NaN</td>\n",
       "      <td>NaN</td>\n",
       "      <td>01:14:38</td>\n",
       "      <td>74</td>\n",
       "      <td>1</td>\n",
       "    </tr>\n",
       "  </tbody>\n",
       "</table>\n",
       "</div>"
      ],
      "text/plain": [
       "              ID    Source    TMC  Severity           Start_Time  \\\n",
       "261008  A-261009  MapQuest  201.0         2  2016-11-30 16:03:54   \n",
       "261009  A-261010  MapQuest  201.0         2  2016-11-30 16:32:18   \n",
       "261010  A-261011  MapQuest  201.0         2  2016-11-30 16:31:45   \n",
       "261011  A-261012  MapQuest  201.0         2  2016-11-30 16:06:49   \n",
       "261012  A-261013  MapQuest  201.0         3  2016-11-30 16:35:01   \n",
       "\n",
       "                   End_Time  Start_Lat  Start_Lng  End_Lat  End_Lng  \\\n",
       "261008  2016-11-30 17:20:00  30.336502 -97.755646      NaN      NaN   \n",
       "261009  2016-11-30 17:47:02  30.328165 -97.694305      NaN      NaN   \n",
       "261010  2016-11-30 17:46:34  30.326077 -97.692307      NaN      NaN   \n",
       "261011  2016-11-30 17:27:00  32.856014 -97.513084      NaN      NaN   \n",
       "261012  2016-11-30 17:49:39  32.797668 -97.212090      NaN      NaN   \n",
       "\n",
       "        Distance(mi)                                        Description  \\\n",
       "261008          0.01  Accident on RM-2222 Northland Dr at Mo Pac Exp...   \n",
       "261009          0.00  Accident on Grand Canyon Dr between Westheimer...   \n",
       "261010          0.00         Accident on Saint Johns Ave at Cameron Rd.   \n",
       "261011          0.01  #2 lane blocked and right hand shoulder blocke...   \n",
       "261012          0.01  #2 lane blocked and right hand shoulder blocke...   \n",
       "\n",
       "        Number             Street Side        City   County State     Zipcode  \\\n",
       "261008     NaN       Mopac Expy S    R      Austin   Travis    TX       78731   \n",
       "261009  1128.0  E Saint Johns Ave    L      Austin   Travis    TX  78752-2826   \n",
       "261010  7197.0         Cameron Rd    R      Austin   Travis    TX       78752   \n",
       "261011     NaN   Hanger Cutoff Rd    R  Fort Worth  Tarrant    TX       76135   \n",
       "261012     NaN            I-820 N    R  Fort Worth  Tarrant    TX       76118   \n",
       "\n",
       "       Country    Timezone Airport_Code    Weather_Timestamp  Temperature(F)  \\\n",
       "261008      US  US/Central         KATT  2016-11-30 15:51:00            66.0   \n",
       "261009      US  US/Central         KATT  2016-11-30 16:51:00            62.1   \n",
       "261010      US  US/Central         KATT  2016-11-30 16:51:00            62.1   \n",
       "261011      US  US/Central         KAWN  2016-11-30 16:00:00             NaN   \n",
       "261012      US  US/Central         KFWD                  NaN             NaN   \n",
       "\n",
       "        Wind_Chill(F)  Humidity(%)  Pressure(in)  Visibility(mi)  \\\n",
       "261008            NaN         24.0         30.01            10.0   \n",
       "261009            NaN         25.0         30.03            10.0   \n",
       "261010            NaN         25.0         30.03            10.0   \n",
       "261011            NaN          NaN           NaN             NaN   \n",
       "261012            NaN          NaN           NaN             NaN   \n",
       "\n",
       "       Wind_Direction  Wind_Speed(mph)  Precipitation(in) Weather_Condition  \\\n",
       "261008            NNW              5.8                NaN             Clear   \n",
       "261009          North              4.6                NaN             Clear   \n",
       "261010          North              4.6                NaN             Clear   \n",
       "261011          North              NaN                NaN               NaN   \n",
       "261012            NaN              NaN                NaN               NaN   \n",
       "\n",
       "        Amenity   Bump  Crossing  Give_Way  Junction  No_Exit  Railway  \\\n",
       "261008    False  False     False     False     False    False    False   \n",
       "261009    False  False     False     False     False    False    False   \n",
       "261010    False  False     False     False     False    False    False   \n",
       "261011    False  False     False     False     False    False    False   \n",
       "261012    False  False     False     False     False    False    False   \n",
       "\n",
       "        Roundabout  Station   Stop  Traffic_Calming  Traffic_Signal  \\\n",
       "261008       False    False  False            False           False   \n",
       "261009       False    False  False            False           False   \n",
       "261010       False     True  False            False            True   \n",
       "261011       False    False  False            False           False   \n",
       "261012       False    False  False            False           False   \n",
       "\n",
       "        Turning_Loop Sunrise_Sunset Civil_Twilight Nautical_Twilight  \\\n",
       "261008         False            Day            Day               Day   \n",
       "261009         False            Day            Day               Day   \n",
       "261010         False            Day            Day               Day   \n",
       "261011         False            Day            Day               Day   \n",
       "261012         False            Day            Day               Day   \n",
       "\n",
       "       Astronomical_Twilight          Crash_Time       Crash_Cleared  \\\n",
       "261008                   Day 2016-11-30 16:03:54 2016-11-30 17:20:00   \n",
       "261009                   Day 2016-11-30 16:32:18 2016-11-30 17:47:02   \n",
       "261010                   Day 2016-11-30 16:31:45 2016-11-30 17:46:34   \n",
       "261011                   Day 2016-11-30 16:06:49 2016-11-30 17:27:00   \n",
       "261012                   Day 2016-11-30 16:35:01 2016-11-30 17:49:39   \n",
       "\n",
       "              Weather_Time  Crash_Time_Year  Crash_Time_Month  \\\n",
       "261008 2016-11-30 15:51:00             2016                11   \n",
       "261009 2016-11-30 16:51:00             2016                11   \n",
       "261010 2016-11-30 16:51:00             2016                11   \n",
       "261011 2016-11-30 16:00:00             2016                11   \n",
       "261012                 NaT             2016                11   \n",
       "\n",
       "        Crash_Time_Hour  Crash_Time_Day  Crash_Cleared_Year  \\\n",
       "261008               16              30                2016   \n",
       "261009               16              30                2016   \n",
       "261010               16              30                2016   \n",
       "261011               16              30                2016   \n",
       "261012               16              30                2016   \n",
       "\n",
       "        Crash_Cleared_Month  Crash_Cleared_Hour  Weather_Time_Year  \\\n",
       "261008                   11                  17             2016.0   \n",
       "261009                   11                  17             2016.0   \n",
       "261010                   11                  17             2016.0   \n",
       "261011                   11                  17             2016.0   \n",
       "261012                   11                  17                NaN   \n",
       "\n",
       "        Weather_Time_Month  Weather_Time_Hour Total_Crash_Time  \\\n",
       "261008                11.0               15.0         01:16:06   \n",
       "261009                11.0               16.0         01:14:44   \n",
       "261010                11.0               16.0         01:14:49   \n",
       "261011                11.0               16.0         01:20:11   \n",
       "261012                 NaN                NaN         01:14:38   \n",
       "\n",
       "        Sum_Crash_Time_Minutes  Crash_Event  \n",
       "261008                      76            1  \n",
       "261009                      74            1  \n",
       "261010                      74            1  \n",
       "261011                      80            1  \n",
       "261012                      74            1  "
      ]
     },
     "execution_count": 9,
     "metadata": {},
     "output_type": "execute_result"
    }
   ],
   "source": [
    "# Create new dataframe that is filtered to Texas\n",
    "df_tx = df[df.State == 'TX']\n",
    "\n",
    "# Confirm filter\n",
    "df_tx.head()"
   ]
  },
  {
   "cell_type": "code",
   "execution_count": 10,
   "metadata": {
    "slideshow": {
     "slide_type": "slide"
    }
   },
   "outputs": [],
   "source": [
    "# Made a list of columns to drop.\n",
    "df_tx_list_drop = ['Amenity','Start_Lat', 'Start_Lng', 'End_Lat', 'End_Lng', 'Distance(mi)', 'Description', 'Bump', 'Crossing', 'Give_Way', 'Junction', 'No_Exit', 'Railway', 'Roundabout', 'Station', 'Stop', 'Traffic_Calming', 'Traffic_Signal', 'Turning_Loop', 'Sunrise_Sunset', 'Civil_Twilight', 'Nautical_Twilight', 'Astronomical_Twilight', 'Airport_Code']"
   ]
  },
  {
   "cell_type": "code",
   "execution_count": 11,
   "metadata": {
    "slideshow": {
     "slide_type": "slide"
    }
   },
   "outputs": [
    {
     "name": "stderr",
     "output_type": "stream",
     "text": [
      "C:\\Users\\User\\Anaconda3\\lib\\site-packages\\pandas\\core\\frame.py:3940: SettingWithCopyWarning: \n",
      "A value is trying to be set on a copy of a slice from a DataFrame\n",
      "\n",
      "See the caveats in the documentation: http://pandas.pydata.org/pandas-docs/stable/indexing.html#indexing-view-versus-copy\n",
      "  errors=errors)\n"
     ]
    }
   ],
   "source": [
    "# By referring to the above list, dropped the columns from df_tx.\n",
    "df_tx.drop(df_tx_list_drop, axis=1, inplace = True)"
   ]
  },
  {
   "cell_type": "code",
   "execution_count": 12,
   "metadata": {
    "slideshow": {
     "slide_type": "slide"
    }
   },
   "outputs": [
    {
     "data": {
      "text/html": [
       "<div>\n",
       "<style scoped>\n",
       "    .dataframe tbody tr th:only-of-type {\n",
       "        vertical-align: middle;\n",
       "    }\n",
       "\n",
       "    .dataframe tbody tr th {\n",
       "        vertical-align: top;\n",
       "    }\n",
       "\n",
       "    .dataframe thead th {\n",
       "        text-align: right;\n",
       "    }\n",
       "</style>\n",
       "<table border=\"1\" class=\"dataframe\">\n",
       "  <thead>\n",
       "    <tr style=\"text-align: right;\">\n",
       "      <th></th>\n",
       "      <th>ID</th>\n",
       "      <th>Source</th>\n",
       "      <th>TMC</th>\n",
       "      <th>Severity</th>\n",
       "      <th>Start_Time</th>\n",
       "      <th>End_Time</th>\n",
       "      <th>Number</th>\n",
       "      <th>Street</th>\n",
       "      <th>Side</th>\n",
       "      <th>City</th>\n",
       "      <th>County</th>\n",
       "      <th>State</th>\n",
       "      <th>Zipcode</th>\n",
       "      <th>Country</th>\n",
       "      <th>Timezone</th>\n",
       "      <th>Weather_Timestamp</th>\n",
       "      <th>Temperature(F)</th>\n",
       "      <th>Wind_Chill(F)</th>\n",
       "      <th>Humidity(%)</th>\n",
       "      <th>Pressure(in)</th>\n",
       "      <th>Visibility(mi)</th>\n",
       "      <th>Wind_Direction</th>\n",
       "      <th>Wind_Speed(mph)</th>\n",
       "      <th>Precipitation(in)</th>\n",
       "      <th>Weather_Condition</th>\n",
       "      <th>Crash_Time</th>\n",
       "      <th>Crash_Cleared</th>\n",
       "      <th>Weather_Time</th>\n",
       "      <th>Crash_Time_Year</th>\n",
       "      <th>Crash_Time_Month</th>\n",
       "      <th>Crash_Time_Hour</th>\n",
       "      <th>Crash_Time_Day</th>\n",
       "      <th>Crash_Cleared_Year</th>\n",
       "      <th>Crash_Cleared_Month</th>\n",
       "      <th>Crash_Cleared_Hour</th>\n",
       "      <th>Weather_Time_Year</th>\n",
       "      <th>Weather_Time_Month</th>\n",
       "      <th>Weather_Time_Hour</th>\n",
       "      <th>Total_Crash_Time</th>\n",
       "      <th>Sum_Crash_Time_Minutes</th>\n",
       "      <th>Crash_Event</th>\n",
       "    </tr>\n",
       "  </thead>\n",
       "  <tbody>\n",
       "    <tr>\n",
       "      <th>261008</th>\n",
       "      <td>A-261009</td>\n",
       "      <td>MapQuest</td>\n",
       "      <td>201.0</td>\n",
       "      <td>2</td>\n",
       "      <td>2016-11-30 16:03:54</td>\n",
       "      <td>2016-11-30 17:20:00</td>\n",
       "      <td>NaN</td>\n",
       "      <td>Mopac Expy S</td>\n",
       "      <td>R</td>\n",
       "      <td>Austin</td>\n",
       "      <td>Travis</td>\n",
       "      <td>TX</td>\n",
       "      <td>78731</td>\n",
       "      <td>US</td>\n",
       "      <td>US/Central</td>\n",
       "      <td>2016-11-30 15:51:00</td>\n",
       "      <td>66.0</td>\n",
       "      <td>NaN</td>\n",
       "      <td>24.0</td>\n",
       "      <td>30.01</td>\n",
       "      <td>10.0</td>\n",
       "      <td>NNW</td>\n",
       "      <td>5.8</td>\n",
       "      <td>NaN</td>\n",
       "      <td>Clear</td>\n",
       "      <td>2016-11-30 16:03:54</td>\n",
       "      <td>2016-11-30 17:20:00</td>\n",
       "      <td>2016-11-30 15:51:00</td>\n",
       "      <td>2016</td>\n",
       "      <td>11</td>\n",
       "      <td>16</td>\n",
       "      <td>30</td>\n",
       "      <td>2016</td>\n",
       "      <td>11</td>\n",
       "      <td>17</td>\n",
       "      <td>2016.0</td>\n",
       "      <td>11.0</td>\n",
       "      <td>15.0</td>\n",
       "      <td>01:16:06</td>\n",
       "      <td>76</td>\n",
       "      <td>1</td>\n",
       "    </tr>\n",
       "    <tr>\n",
       "      <th>261009</th>\n",
       "      <td>A-261010</td>\n",
       "      <td>MapQuest</td>\n",
       "      <td>201.0</td>\n",
       "      <td>2</td>\n",
       "      <td>2016-11-30 16:32:18</td>\n",
       "      <td>2016-11-30 17:47:02</td>\n",
       "      <td>1128.0</td>\n",
       "      <td>E Saint Johns Ave</td>\n",
       "      <td>L</td>\n",
       "      <td>Austin</td>\n",
       "      <td>Travis</td>\n",
       "      <td>TX</td>\n",
       "      <td>78752-2826</td>\n",
       "      <td>US</td>\n",
       "      <td>US/Central</td>\n",
       "      <td>2016-11-30 16:51:00</td>\n",
       "      <td>62.1</td>\n",
       "      <td>NaN</td>\n",
       "      <td>25.0</td>\n",
       "      <td>30.03</td>\n",
       "      <td>10.0</td>\n",
       "      <td>North</td>\n",
       "      <td>4.6</td>\n",
       "      <td>NaN</td>\n",
       "      <td>Clear</td>\n",
       "      <td>2016-11-30 16:32:18</td>\n",
       "      <td>2016-11-30 17:47:02</td>\n",
       "      <td>2016-11-30 16:51:00</td>\n",
       "      <td>2016</td>\n",
       "      <td>11</td>\n",
       "      <td>16</td>\n",
       "      <td>30</td>\n",
       "      <td>2016</td>\n",
       "      <td>11</td>\n",
       "      <td>17</td>\n",
       "      <td>2016.0</td>\n",
       "      <td>11.0</td>\n",
       "      <td>16.0</td>\n",
       "      <td>01:14:44</td>\n",
       "      <td>74</td>\n",
       "      <td>1</td>\n",
       "    </tr>\n",
       "    <tr>\n",
       "      <th>261010</th>\n",
       "      <td>A-261011</td>\n",
       "      <td>MapQuest</td>\n",
       "      <td>201.0</td>\n",
       "      <td>2</td>\n",
       "      <td>2016-11-30 16:31:45</td>\n",
       "      <td>2016-11-30 17:46:34</td>\n",
       "      <td>7197.0</td>\n",
       "      <td>Cameron Rd</td>\n",
       "      <td>R</td>\n",
       "      <td>Austin</td>\n",
       "      <td>Travis</td>\n",
       "      <td>TX</td>\n",
       "      <td>78752</td>\n",
       "      <td>US</td>\n",
       "      <td>US/Central</td>\n",
       "      <td>2016-11-30 16:51:00</td>\n",
       "      <td>62.1</td>\n",
       "      <td>NaN</td>\n",
       "      <td>25.0</td>\n",
       "      <td>30.03</td>\n",
       "      <td>10.0</td>\n",
       "      <td>North</td>\n",
       "      <td>4.6</td>\n",
       "      <td>NaN</td>\n",
       "      <td>Clear</td>\n",
       "      <td>2016-11-30 16:31:45</td>\n",
       "      <td>2016-11-30 17:46:34</td>\n",
       "      <td>2016-11-30 16:51:00</td>\n",
       "      <td>2016</td>\n",
       "      <td>11</td>\n",
       "      <td>16</td>\n",
       "      <td>30</td>\n",
       "      <td>2016</td>\n",
       "      <td>11</td>\n",
       "      <td>17</td>\n",
       "      <td>2016.0</td>\n",
       "      <td>11.0</td>\n",
       "      <td>16.0</td>\n",
       "      <td>01:14:49</td>\n",
       "      <td>74</td>\n",
       "      <td>1</td>\n",
       "    </tr>\n",
       "    <tr>\n",
       "      <th>261011</th>\n",
       "      <td>A-261012</td>\n",
       "      <td>MapQuest</td>\n",
       "      <td>201.0</td>\n",
       "      <td>2</td>\n",
       "      <td>2016-11-30 16:06:49</td>\n",
       "      <td>2016-11-30 17:27:00</td>\n",
       "      <td>NaN</td>\n",
       "      <td>Hanger Cutoff Rd</td>\n",
       "      <td>R</td>\n",
       "      <td>Fort Worth</td>\n",
       "      <td>Tarrant</td>\n",
       "      <td>TX</td>\n",
       "      <td>76135</td>\n",
       "      <td>US</td>\n",
       "      <td>US/Central</td>\n",
       "      <td>2016-11-30 16:00:00</td>\n",
       "      <td>NaN</td>\n",
       "      <td>NaN</td>\n",
       "      <td>NaN</td>\n",
       "      <td>NaN</td>\n",
       "      <td>NaN</td>\n",
       "      <td>North</td>\n",
       "      <td>NaN</td>\n",
       "      <td>NaN</td>\n",
       "      <td>NaN</td>\n",
       "      <td>2016-11-30 16:06:49</td>\n",
       "      <td>2016-11-30 17:27:00</td>\n",
       "      <td>2016-11-30 16:00:00</td>\n",
       "      <td>2016</td>\n",
       "      <td>11</td>\n",
       "      <td>16</td>\n",
       "      <td>30</td>\n",
       "      <td>2016</td>\n",
       "      <td>11</td>\n",
       "      <td>17</td>\n",
       "      <td>2016.0</td>\n",
       "      <td>11.0</td>\n",
       "      <td>16.0</td>\n",
       "      <td>01:20:11</td>\n",
       "      <td>80</td>\n",
       "      <td>1</td>\n",
       "    </tr>\n",
       "    <tr>\n",
       "      <th>261012</th>\n",
       "      <td>A-261013</td>\n",
       "      <td>MapQuest</td>\n",
       "      <td>201.0</td>\n",
       "      <td>3</td>\n",
       "      <td>2016-11-30 16:35:01</td>\n",
       "      <td>2016-11-30 17:49:39</td>\n",
       "      <td>NaN</td>\n",
       "      <td>I-820 N</td>\n",
       "      <td>R</td>\n",
       "      <td>Fort Worth</td>\n",
       "      <td>Tarrant</td>\n",
       "      <td>TX</td>\n",
       "      <td>76118</td>\n",
       "      <td>US</td>\n",
       "      <td>US/Central</td>\n",
       "      <td>NaN</td>\n",
       "      <td>NaN</td>\n",
       "      <td>NaN</td>\n",
       "      <td>NaN</td>\n",
       "      <td>NaN</td>\n",
       "      <td>NaN</td>\n",
       "      <td>NaN</td>\n",
       "      <td>NaN</td>\n",
       "      <td>NaN</td>\n",
       "      <td>NaN</td>\n",
       "      <td>2016-11-30 16:35:01</td>\n",
       "      <td>2016-11-30 17:49:39</td>\n",
       "      <td>NaT</td>\n",
       "      <td>2016</td>\n",
       "      <td>11</td>\n",
       "      <td>16</td>\n",
       "      <td>30</td>\n",
       "      <td>2016</td>\n",
       "      <td>11</td>\n",
       "      <td>17</td>\n",
       "      <td>NaN</td>\n",
       "      <td>NaN</td>\n",
       "      <td>NaN</td>\n",
       "      <td>01:14:38</td>\n",
       "      <td>74</td>\n",
       "      <td>1</td>\n",
       "    </tr>\n",
       "  </tbody>\n",
       "</table>\n",
       "</div>"
      ],
      "text/plain": [
       "              ID    Source    TMC  Severity           Start_Time  \\\n",
       "261008  A-261009  MapQuest  201.0         2  2016-11-30 16:03:54   \n",
       "261009  A-261010  MapQuest  201.0         2  2016-11-30 16:32:18   \n",
       "261010  A-261011  MapQuest  201.0         2  2016-11-30 16:31:45   \n",
       "261011  A-261012  MapQuest  201.0         2  2016-11-30 16:06:49   \n",
       "261012  A-261013  MapQuest  201.0         3  2016-11-30 16:35:01   \n",
       "\n",
       "                   End_Time  Number             Street Side        City  \\\n",
       "261008  2016-11-30 17:20:00     NaN       Mopac Expy S    R      Austin   \n",
       "261009  2016-11-30 17:47:02  1128.0  E Saint Johns Ave    L      Austin   \n",
       "261010  2016-11-30 17:46:34  7197.0         Cameron Rd    R      Austin   \n",
       "261011  2016-11-30 17:27:00     NaN   Hanger Cutoff Rd    R  Fort Worth   \n",
       "261012  2016-11-30 17:49:39     NaN            I-820 N    R  Fort Worth   \n",
       "\n",
       "         County State     Zipcode Country    Timezone    Weather_Timestamp  \\\n",
       "261008   Travis    TX       78731      US  US/Central  2016-11-30 15:51:00   \n",
       "261009   Travis    TX  78752-2826      US  US/Central  2016-11-30 16:51:00   \n",
       "261010   Travis    TX       78752      US  US/Central  2016-11-30 16:51:00   \n",
       "261011  Tarrant    TX       76135      US  US/Central  2016-11-30 16:00:00   \n",
       "261012  Tarrant    TX       76118      US  US/Central                  NaN   \n",
       "\n",
       "        Temperature(F)  Wind_Chill(F)  Humidity(%)  Pressure(in)  \\\n",
       "261008            66.0            NaN         24.0         30.01   \n",
       "261009            62.1            NaN         25.0         30.03   \n",
       "261010            62.1            NaN         25.0         30.03   \n",
       "261011             NaN            NaN          NaN           NaN   \n",
       "261012             NaN            NaN          NaN           NaN   \n",
       "\n",
       "        Visibility(mi) Wind_Direction  Wind_Speed(mph)  Precipitation(in)  \\\n",
       "261008            10.0            NNW              5.8                NaN   \n",
       "261009            10.0          North              4.6                NaN   \n",
       "261010            10.0          North              4.6                NaN   \n",
       "261011             NaN          North              NaN                NaN   \n",
       "261012             NaN            NaN              NaN                NaN   \n",
       "\n",
       "       Weather_Condition          Crash_Time       Crash_Cleared  \\\n",
       "261008             Clear 2016-11-30 16:03:54 2016-11-30 17:20:00   \n",
       "261009             Clear 2016-11-30 16:32:18 2016-11-30 17:47:02   \n",
       "261010             Clear 2016-11-30 16:31:45 2016-11-30 17:46:34   \n",
       "261011               NaN 2016-11-30 16:06:49 2016-11-30 17:27:00   \n",
       "261012               NaN 2016-11-30 16:35:01 2016-11-30 17:49:39   \n",
       "\n",
       "              Weather_Time  Crash_Time_Year  Crash_Time_Month  \\\n",
       "261008 2016-11-30 15:51:00             2016                11   \n",
       "261009 2016-11-30 16:51:00             2016                11   \n",
       "261010 2016-11-30 16:51:00             2016                11   \n",
       "261011 2016-11-30 16:00:00             2016                11   \n",
       "261012                 NaT             2016                11   \n",
       "\n",
       "        Crash_Time_Hour  Crash_Time_Day  Crash_Cleared_Year  \\\n",
       "261008               16              30                2016   \n",
       "261009               16              30                2016   \n",
       "261010               16              30                2016   \n",
       "261011               16              30                2016   \n",
       "261012               16              30                2016   \n",
       "\n",
       "        Crash_Cleared_Month  Crash_Cleared_Hour  Weather_Time_Year  \\\n",
       "261008                   11                  17             2016.0   \n",
       "261009                   11                  17             2016.0   \n",
       "261010                   11                  17             2016.0   \n",
       "261011                   11                  17             2016.0   \n",
       "261012                   11                  17                NaN   \n",
       "\n",
       "        Weather_Time_Month  Weather_Time_Hour Total_Crash_Time  \\\n",
       "261008                11.0               15.0         01:16:06   \n",
       "261009                11.0               16.0         01:14:44   \n",
       "261010                11.0               16.0         01:14:49   \n",
       "261011                11.0               16.0         01:20:11   \n",
       "261012                 NaN                NaN         01:14:38   \n",
       "\n",
       "        Sum_Crash_Time_Minutes  Crash_Event  \n",
       "261008                      76            1  \n",
       "261009                      74            1  \n",
       "261010                      74            1  \n",
       "261011                      80            1  \n",
       "261012                      74            1  "
      ]
     },
     "execution_count": 12,
     "metadata": {},
     "output_type": "execute_result"
    }
   ],
   "source": [
    "# Confirmed changes.\n",
    "df_tx.head()"
   ]
  },
  {
   "cell_type": "code",
   "execution_count": 13,
   "metadata": {
    "slideshow": {
     "slide_type": "slide"
    }
   },
   "outputs": [
    {
     "data": {
      "text/plain": [
       "(237637, 41)"
      ]
     },
     "execution_count": 13,
     "metadata": {},
     "output_type": "execute_result"
    }
   ],
   "source": [
    "# Confirm changes continuted\n",
    "df_tx.shape"
   ]
  },
  {
   "cell_type": "markdown",
   "metadata": {
    "slideshow": {
     "slide_type": "slide"
    }
   },
   "source": [
    "# <center><font color = 'red'>-----------------------------------------------------------------------------------------------------------------</center>"
   ]
  },
  {
   "cell_type": "markdown",
   "metadata": {
    "slideshow": {
     "slide_type": "slide"
    }
   },
   "source": [
    "# Section 3: Exploring the Data\n",
    "\n",
    "## First, I wanted to view the general stats of the numerical and object data separately to avoid clutter. For the most part, this data seems to be reasonable and organized. One observation to point out is with the \"Totat_Crash_Time\" (Crash_Cleared - Crash_Time) summary statistics. The minimum stat makes sense at 12 minutes but the maximum stat shows 234 days. The analysis didn't rely on this column so it was left as is. If this was the real world, then this outlier would be looked into further to determine scope of the issue and how to resolve it. "
   ]
  },
  {
   "cell_type": "code",
   "execution_count": 14,
   "metadata": {
    "slideshow": {
     "slide_type": "slide"
    }
   },
   "outputs": [
    {
     "data": {
      "text/html": [
       "<div>\n",
       "<style scoped>\n",
       "    .dataframe tbody tr th:only-of-type {\n",
       "        vertical-align: middle;\n",
       "    }\n",
       "\n",
       "    .dataframe tbody tr th {\n",
       "        vertical-align: top;\n",
       "    }\n",
       "\n",
       "    .dataframe thead th {\n",
       "        text-align: right;\n",
       "    }\n",
       "</style>\n",
       "<table border=\"1\" class=\"dataframe\">\n",
       "  <thead>\n",
       "    <tr style=\"text-align: right;\">\n",
       "      <th></th>\n",
       "      <th>TMC</th>\n",
       "      <th>Severity</th>\n",
       "      <th>Number</th>\n",
       "      <th>Temperature(F)</th>\n",
       "      <th>Wind_Chill(F)</th>\n",
       "      <th>Humidity(%)</th>\n",
       "      <th>Pressure(in)</th>\n",
       "      <th>Visibility(mi)</th>\n",
       "      <th>Wind_Speed(mph)</th>\n",
       "      <th>Precipitation(in)</th>\n",
       "      <th>Crash_Time_Year</th>\n",
       "      <th>Crash_Time_Month</th>\n",
       "      <th>Crash_Time_Hour</th>\n",
       "      <th>Crash_Time_Day</th>\n",
       "      <th>Crash_Cleared_Year</th>\n",
       "      <th>Crash_Cleared_Month</th>\n",
       "      <th>Crash_Cleared_Hour</th>\n",
       "      <th>Weather_Time_Year</th>\n",
       "      <th>Weather_Time_Month</th>\n",
       "      <th>Weather_Time_Hour</th>\n",
       "      <th>Total_Crash_Time</th>\n",
       "      <th>Sum_Crash_Time_Minutes</th>\n",
       "      <th>Crash_Event</th>\n",
       "    </tr>\n",
       "  </thead>\n",
       "  <tbody>\n",
       "    <tr>\n",
       "      <th>count</th>\n",
       "      <td>202612.000000</td>\n",
       "      <td>237637.000000</td>\n",
       "      <td>94699.000000</td>\n",
       "      <td>231252.000000</td>\n",
       "      <td>16714.000000</td>\n",
       "      <td>231097.000000</td>\n",
       "      <td>231527.000000</td>\n",
       "      <td>230592.000000</td>\n",
       "      <td>200903.000000</td>\n",
       "      <td>20076.000000</td>\n",
       "      <td>237637.000000</td>\n",
       "      <td>237637.000000</td>\n",
       "      <td>237637.000000</td>\n",
       "      <td>237637.000000</td>\n",
       "      <td>237637.000000</td>\n",
       "      <td>237637.000000</td>\n",
       "      <td>237637.000000</td>\n",
       "      <td>232356.000000</td>\n",
       "      <td>232356.000000</td>\n",
       "      <td>232356.000000</td>\n",
       "      <td>237637</td>\n",
       "      <td>237637.000000</td>\n",
       "      <td>237637.0</td>\n",
       "    </tr>\n",
       "    <tr>\n",
       "      <th>mean</th>\n",
       "      <td>206.312943</td>\n",
       "      <td>2.292968</td>\n",
       "      <td>5280.098164</td>\n",
       "      <td>70.447892</td>\n",
       "      <td>33.248486</td>\n",
       "      <td>64.213958</td>\n",
       "      <td>30.030457</td>\n",
       "      <td>9.169470</td>\n",
       "      <td>9.044880</td>\n",
       "      <td>0.054897</td>\n",
       "      <td>2017.298144</td>\n",
       "      <td>6.722547</td>\n",
       "      <td>12.490012</td>\n",
       "      <td>15.680980</td>\n",
       "      <td>2017.298182</td>\n",
       "      <td>6.722998</td>\n",
       "      <td>13.238814</td>\n",
       "      <td>2017.297926</td>\n",
       "      <td>6.714976</td>\n",
       "      <td>12.220756</td>\n",
       "      <td>0 days 01:18:38.836603</td>\n",
       "      <td>78.132690</td>\n",
       "      <td>1.0</td>\n",
       "    </tr>\n",
       "    <tr>\n",
       "      <th>std</th>\n",
       "      <td>14.802871</td>\n",
       "      <td>0.480369</td>\n",
       "      <td>4549.701930</td>\n",
       "      <td>15.868399</td>\n",
       "      <td>8.165545</td>\n",
       "      <td>22.504121</td>\n",
       "      <td>0.217418</td>\n",
       "      <td>2.259194</td>\n",
       "      <td>4.432895</td>\n",
       "      <td>0.142377</td>\n",
       "      <td>0.884291</td>\n",
       "      <td>3.608160</td>\n",
       "      <td>4.854678</td>\n",
       "      <td>8.736422</td>\n",
       "      <td>0.884286</td>\n",
       "      <td>3.608263</td>\n",
       "      <td>5.113660</td>\n",
       "      <td>0.887687</td>\n",
       "      <td>3.622904</td>\n",
       "      <td>4.858657</td>\n",
       "      <td>0 days 12:59:03.842444</td>\n",
       "      <td>779.090311</td>\n",
       "      <td>0.0</td>\n",
       "    </tr>\n",
       "    <tr>\n",
       "      <th>min</th>\n",
       "      <td>200.000000</td>\n",
       "      <td>0.000000</td>\n",
       "      <td>1.000000</td>\n",
       "      <td>-40.000000</td>\n",
       "      <td>-65.900000</td>\n",
       "      <td>4.000000</td>\n",
       "      <td>0.290000</td>\n",
       "      <td>0.000000</td>\n",
       "      <td>1.200000</td>\n",
       "      <td>0.000000</td>\n",
       "      <td>2016.000000</td>\n",
       "      <td>1.000000</td>\n",
       "      <td>0.000000</td>\n",
       "      <td>1.000000</td>\n",
       "      <td>2016.000000</td>\n",
       "      <td>1.000000</td>\n",
       "      <td>0.000000</td>\n",
       "      <td>2016.000000</td>\n",
       "      <td>1.000000</td>\n",
       "      <td>0.000000</td>\n",
       "      <td>0 days 00:12:00</td>\n",
       "      <td>12.000000</td>\n",
       "      <td>1.0</td>\n",
       "    </tr>\n",
       "    <tr>\n",
       "      <th>25%</th>\n",
       "      <td>201.000000</td>\n",
       "      <td>2.000000</td>\n",
       "      <td>1599.000000</td>\n",
       "      <td>59.000000</td>\n",
       "      <td>29.200000</td>\n",
       "      <td>47.000000</td>\n",
       "      <td>29.910000</td>\n",
       "      <td>10.000000</td>\n",
       "      <td>5.800000</td>\n",
       "      <td>0.000000</td>\n",
       "      <td>2017.000000</td>\n",
       "      <td>3.000000</td>\n",
       "      <td>8.000000</td>\n",
       "      <td>8.000000</td>\n",
       "      <td>2017.000000</td>\n",
       "      <td>3.000000</td>\n",
       "      <td>9.000000</td>\n",
       "      <td>2017.000000</td>\n",
       "      <td>3.000000</td>\n",
       "      <td>8.000000</td>\n",
       "      <td>0 days 00:29:42</td>\n",
       "      <td>29.000000</td>\n",
       "      <td>1.0</td>\n",
       "    </tr>\n",
       "    <tr>\n",
       "      <th>50%</th>\n",
       "      <td>201.000000</td>\n",
       "      <td>2.000000</td>\n",
       "      <td>4062.000000</td>\n",
       "      <td>73.000000</td>\n",
       "      <td>35.200000</td>\n",
       "      <td>65.000000</td>\n",
       "      <td>30.010000</td>\n",
       "      <td>10.000000</td>\n",
       "      <td>8.100000</td>\n",
       "      <td>0.010000</td>\n",
       "      <td>2017.000000</td>\n",
       "      <td>7.000000</td>\n",
       "      <td>12.000000</td>\n",
       "      <td>15.000000</td>\n",
       "      <td>2017.000000</td>\n",
       "      <td>7.000000</td>\n",
       "      <td>13.000000</td>\n",
       "      <td>2017.000000</td>\n",
       "      <td>7.000000</td>\n",
       "      <td>12.000000</td>\n",
       "      <td>0 days 00:29:52</td>\n",
       "      <td>29.000000</td>\n",
       "      <td>1.0</td>\n",
       "    </tr>\n",
       "    <tr>\n",
       "      <th>75%</th>\n",
       "      <td>201.000000</td>\n",
       "      <td>3.000000</td>\n",
       "      <td>8148.500000</td>\n",
       "      <td>82.000000</td>\n",
       "      <td>39.300000</td>\n",
       "      <td>84.000000</td>\n",
       "      <td>30.140000</td>\n",
       "      <td>10.000000</td>\n",
       "      <td>11.500000</td>\n",
       "      <td>0.050000</td>\n",
       "      <td>2018.000000</td>\n",
       "      <td>10.000000</td>\n",
       "      <td>17.000000</td>\n",
       "      <td>23.000000</td>\n",
       "      <td>2018.000000</td>\n",
       "      <td>10.000000</td>\n",
       "      <td>17.000000</td>\n",
       "      <td>2018.000000</td>\n",
       "      <td>10.000000</td>\n",
       "      <td>16.000000</td>\n",
       "      <td>0 days 00:44:51</td>\n",
       "      <td>44.000000</td>\n",
       "      <td>1.0</td>\n",
       "    </tr>\n",
       "    <tr>\n",
       "      <th>max</th>\n",
       "      <td>406.000000</td>\n",
       "      <td>4.000000</td>\n",
       "      <td>51076.000000</td>\n",
       "      <td>161.600000</td>\n",
       "      <td>45.200000</td>\n",
       "      <td>100.000000</td>\n",
       "      <td>30.980000</td>\n",
       "      <td>111.000000</td>\n",
       "      <td>162.300000</td>\n",
       "      <td>2.940000</td>\n",
       "      <td>2019.000000</td>\n",
       "      <td>12.000000</td>\n",
       "      <td>23.000000</td>\n",
       "      <td>31.000000</td>\n",
       "      <td>2019.000000</td>\n",
       "      <td>12.000000</td>\n",
       "      <td>23.000000</td>\n",
       "      <td>2019.000000</td>\n",
       "      <td>12.000000</td>\n",
       "      <td>23.000000</td>\n",
       "      <td>234 days 00:00:00</td>\n",
       "      <td>336960.000000</td>\n",
       "      <td>1.0</td>\n",
       "    </tr>\n",
       "  </tbody>\n",
       "</table>\n",
       "</div>"
      ],
      "text/plain": [
       "                 TMC       Severity        Number  Temperature(F)  \\\n",
       "count  202612.000000  237637.000000  94699.000000   231252.000000   \n",
       "mean      206.312943       2.292968   5280.098164       70.447892   \n",
       "std        14.802871       0.480369   4549.701930       15.868399   \n",
       "min       200.000000       0.000000      1.000000      -40.000000   \n",
       "25%       201.000000       2.000000   1599.000000       59.000000   \n",
       "50%       201.000000       2.000000   4062.000000       73.000000   \n",
       "75%       201.000000       3.000000   8148.500000       82.000000   \n",
       "max       406.000000       4.000000  51076.000000      161.600000   \n",
       "\n",
       "       Wind_Chill(F)    Humidity(%)   Pressure(in)  Visibility(mi)  \\\n",
       "count   16714.000000  231097.000000  231527.000000   230592.000000   \n",
       "mean       33.248486      64.213958      30.030457        9.169470   \n",
       "std         8.165545      22.504121       0.217418        2.259194   \n",
       "min       -65.900000       4.000000       0.290000        0.000000   \n",
       "25%        29.200000      47.000000      29.910000       10.000000   \n",
       "50%        35.200000      65.000000      30.010000       10.000000   \n",
       "75%        39.300000      84.000000      30.140000       10.000000   \n",
       "max        45.200000     100.000000      30.980000      111.000000   \n",
       "\n",
       "       Wind_Speed(mph)  Precipitation(in)  Crash_Time_Year  Crash_Time_Month  \\\n",
       "count    200903.000000       20076.000000    237637.000000     237637.000000   \n",
       "mean          9.044880           0.054897      2017.298144          6.722547   \n",
       "std           4.432895           0.142377         0.884291          3.608160   \n",
       "min           1.200000           0.000000      2016.000000          1.000000   \n",
       "25%           5.800000           0.000000      2017.000000          3.000000   \n",
       "50%           8.100000           0.010000      2017.000000          7.000000   \n",
       "75%          11.500000           0.050000      2018.000000         10.000000   \n",
       "max         162.300000           2.940000      2019.000000         12.000000   \n",
       "\n",
       "       Crash_Time_Hour  Crash_Time_Day  Crash_Cleared_Year  \\\n",
       "count    237637.000000   237637.000000       237637.000000   \n",
       "mean         12.490012       15.680980         2017.298182   \n",
       "std           4.854678        8.736422            0.884286   \n",
       "min           0.000000        1.000000         2016.000000   \n",
       "25%           8.000000        8.000000         2017.000000   \n",
       "50%          12.000000       15.000000         2017.000000   \n",
       "75%          17.000000       23.000000         2018.000000   \n",
       "max          23.000000       31.000000         2019.000000   \n",
       "\n",
       "       Crash_Cleared_Month  Crash_Cleared_Hour  Weather_Time_Year  \\\n",
       "count        237637.000000       237637.000000      232356.000000   \n",
       "mean              6.722998           13.238814        2017.297926   \n",
       "std               3.608263            5.113660           0.887687   \n",
       "min               1.000000            0.000000        2016.000000   \n",
       "25%               3.000000            9.000000        2017.000000   \n",
       "50%               7.000000           13.000000        2017.000000   \n",
       "75%              10.000000           17.000000        2018.000000   \n",
       "max              12.000000           23.000000        2019.000000   \n",
       "\n",
       "       Weather_Time_Month  Weather_Time_Hour        Total_Crash_Time  \\\n",
       "count       232356.000000      232356.000000                  237637   \n",
       "mean             6.714976          12.220756  0 days 01:18:38.836603   \n",
       "std              3.622904           4.858657  0 days 12:59:03.842444   \n",
       "min              1.000000           0.000000         0 days 00:12:00   \n",
       "25%              3.000000           8.000000         0 days 00:29:42   \n",
       "50%              7.000000          12.000000         0 days 00:29:52   \n",
       "75%             10.000000          16.000000         0 days 00:44:51   \n",
       "max             12.000000          23.000000       234 days 00:00:00   \n",
       "\n",
       "       Sum_Crash_Time_Minutes  Crash_Event  \n",
       "count           237637.000000     237637.0  \n",
       "mean                78.132690          1.0  \n",
       "std                779.090311          0.0  \n",
       "min                 12.000000          1.0  \n",
       "25%                 29.000000          1.0  \n",
       "50%                 29.000000          1.0  \n",
       "75%                 44.000000          1.0  \n",
       "max             336960.000000          1.0  "
      ]
     },
     "execution_count": 14,
     "metadata": {},
     "output_type": "execute_result"
    }
   ],
   "source": [
    "df_tx.describe()"
   ]
  },
  {
   "cell_type": "code",
   "execution_count": 15,
   "metadata": {
    "slideshow": {
     "slide_type": "slide"
    }
   },
   "outputs": [
    {
     "data": {
      "text/html": [
       "<div>\n",
       "<style scoped>\n",
       "    .dataframe tbody tr th:only-of-type {\n",
       "        vertical-align: middle;\n",
       "    }\n",
       "\n",
       "    .dataframe tbody tr th {\n",
       "        vertical-align: top;\n",
       "    }\n",
       "\n",
       "    .dataframe thead th {\n",
       "        text-align: right;\n",
       "    }\n",
       "</style>\n",
       "<table border=\"1\" class=\"dataframe\">\n",
       "  <thead>\n",
       "    <tr style=\"text-align: right;\">\n",
       "      <th></th>\n",
       "      <th>ID</th>\n",
       "      <th>Source</th>\n",
       "      <th>Start_Time</th>\n",
       "      <th>End_Time</th>\n",
       "      <th>Street</th>\n",
       "      <th>Side</th>\n",
       "      <th>City</th>\n",
       "      <th>County</th>\n",
       "      <th>State</th>\n",
       "      <th>Zipcode</th>\n",
       "      <th>Country</th>\n",
       "      <th>Timezone</th>\n",
       "      <th>Weather_Timestamp</th>\n",
       "      <th>Wind_Direction</th>\n",
       "      <th>Weather_Condition</th>\n",
       "    </tr>\n",
       "  </thead>\n",
       "  <tbody>\n",
       "    <tr>\n",
       "      <th>count</th>\n",
       "      <td>237637</td>\n",
       "      <td>237637</td>\n",
       "      <td>237637</td>\n",
       "      <td>237637</td>\n",
       "      <td>237637</td>\n",
       "      <td>237637</td>\n",
       "      <td>237637</td>\n",
       "      <td>237637</td>\n",
       "      <td>237637</td>\n",
       "      <td>237637</td>\n",
       "      <td>237637</td>\n",
       "      <td>237620</td>\n",
       "      <td>232356</td>\n",
       "      <td>232350</td>\n",
       "      <td>230450</td>\n",
       "    </tr>\n",
       "    <tr>\n",
       "      <th>unique</th>\n",
       "      <td>237637</td>\n",
       "      <td>3</td>\n",
       "      <td>232274</td>\n",
       "      <td>231733</td>\n",
       "      <td>15770</td>\n",
       "      <td>2</td>\n",
       "      <td>676</td>\n",
       "      <td>202</td>\n",
       "      <td>1</td>\n",
       "      <td>28364</td>\n",
       "      <td>1</td>\n",
       "      <td>2</td>\n",
       "      <td>84531</td>\n",
       "      <td>18</td>\n",
       "      <td>37</td>\n",
       "    </tr>\n",
       "    <tr>\n",
       "      <th>top</th>\n",
       "      <td>A-559455</td>\n",
       "      <td>MapQuest</td>\n",
       "      <td>2018-05-31 11:41:47</td>\n",
       "      <td>2018-11-20 11:52:34</td>\n",
       "      <td>I-45 N</td>\n",
       "      <td>R</td>\n",
       "      <td>Houston</td>\n",
       "      <td>Harris</td>\n",
       "      <td>TX</td>\n",
       "      <td>75243</td>\n",
       "      <td>US</td>\n",
       "      <td>US/Central</td>\n",
       "      <td>2018-06-11 02:55:00</td>\n",
       "      <td>Calm</td>\n",
       "      <td>Clear</td>\n",
       "    </tr>\n",
       "    <tr>\n",
       "      <th>freq</th>\n",
       "      <td>1</td>\n",
       "      <td>201346</td>\n",
       "      <td>8</td>\n",
       "      <td>11</td>\n",
       "      <td>3953</td>\n",
       "      <td>188082</td>\n",
       "      <td>76418</td>\n",
       "      <td>80851</td>\n",
       "      <td>237637</td>\n",
       "      <td>2788</td>\n",
       "      <td>237637</td>\n",
       "      <td>230455</td>\n",
       "      <td>69</td>\n",
       "      <td>29518</td>\n",
       "      <td>76753</td>\n",
       "    </tr>\n",
       "  </tbody>\n",
       "</table>\n",
       "</div>"
      ],
      "text/plain": [
       "              ID    Source           Start_Time             End_Time  Street  \\\n",
       "count     237637    237637               237637               237637  237637   \n",
       "unique    237637         3               232274               231733   15770   \n",
       "top     A-559455  MapQuest  2018-05-31 11:41:47  2018-11-20 11:52:34  I-45 N   \n",
       "freq           1    201346                    8                   11    3953   \n",
       "\n",
       "          Side     City  County   State Zipcode Country    Timezone  \\\n",
       "count   237637   237637  237637  237637  237637  237637      237620   \n",
       "unique       2      676     202       1   28364       1           2   \n",
       "top          R  Houston  Harris      TX   75243      US  US/Central   \n",
       "freq    188082    76418   80851  237637    2788  237637      230455   \n",
       "\n",
       "          Weather_Timestamp Wind_Direction Weather_Condition  \n",
       "count                232356         232350            230450  \n",
       "unique                84531             18                37  \n",
       "top     2018-06-11 02:55:00           Calm             Clear  \n",
       "freq                     69          29518             76753  "
      ]
     },
     "execution_count": 15,
     "metadata": {},
     "output_type": "execute_result"
    }
   ],
   "source": [
    "df_tx.describe(include = 'object')"
   ]
  },
  {
   "cell_type": "markdown",
   "metadata": {
    "slideshow": {
     "slide_type": "slide"
    }
   },
   "source": [
    "## Now the fun begins!!! Let's make some graphs.\n",
    "## First, I wanted to plot frequency of crashes in bulk to see if there were any marcro trends up or down. There seems to be some slight cyclicity, which could be interesting to investigate further. However, we can't extrapolate much at this scale because we don't even have 3 full years' worth of data. <br>Next, I thought it would be useful to see if any variables contribute to frequency on more a micro scale."
   ]
  },
  {
   "cell_type": "code",
   "execution_count": 16,
   "metadata": {
    "slideshow": {
     "slide_type": "slide"
    }
   },
   "outputs": [
    {
     "data": {
      "image/png": "[encoded data removed]",
      "text/plain": [
       "<Figure size 720x432 with 1 Axes>"
      ]
     },
     "metadata": {
      "needs_background": "light"
     },
     "output_type": "display_data"
    }
   ],
   "source": [
    "# Defined variables to plot\n",
    "crashes = df_tx['Crash_Event']\n",
    "crashes.index = df_tx['Crash_Time']\n",
    "\n",
    "# Configured plot size to clearly observe trends.\n",
    "plt.figure(figsize=(10, 6))\n",
    "crashes.resample('m').count().plot()\n",
    "\n",
    "# Added background colors to emphasize relative frequencies of crashes over time.\n",
    "pylab.axhspan(0, 6500, facecolor='g', alpha=0.05) # green span\n",
    "pylab.axhspan(6500, 10000, facecolor='r', alpha=0.075) # red span\n",
    "\n",
    "# Limited plot scale to clean up the look.\n",
    "pylab.ylim(0, 10000)\n",
    "\n",
    "# Added labels\n",
    "pylab.xlabel('Date')\n",
    "pylab.ylabel('Number of Crashes')\n",
    "pylab.title('Texas Crashes by Month')\n",
    "\n",
    "pylab.show()"
   ]
  },
  {
   "cell_type": "code",
   "execution_count": 17,
   "metadata": {
    "scrolled": false,
    "slideshow": {
     "slide_type": "slide"
    }
   },
   "outputs": [
    {
     "name": "stdout",
     "output_type": "stream",
     "text": [
      "Crash_Time_Year  Crash_Time_Month\n",
      "2016             6                   2399\n",
      "                 7                   6194\n",
      "                 8                   7500\n",
      "                 9                   7932\n",
      "                 10                  7769\n",
      "                 11                  9850\n",
      "                 12                  8122\n",
      "2017             1                   8699\n",
      "                 2                   7188\n",
      "                 3                   8610\n",
      "                 4                   7483\n",
      "                 5                   5678\n",
      "                 6                   6336\n",
      "                 7                   5736\n",
      "                 8                   7799\n",
      "                 9                   7092\n",
      "                 10                  7276\n",
      "                 11                  6616\n",
      "                 12                  7025\n",
      "2018             1                   6636\n",
      "                 2                   7762\n",
      "                 3                   7256\n",
      "                 4                   7051\n",
      "                 5                   7067\n",
      "                 6                   6403\n",
      "                 7                   5871\n",
      "                 8                   6947\n",
      "                 9                   6588\n",
      "                 10                  7899\n",
      "                 11                  7558\n",
      "                 12                  7012\n",
      "2019             1                   6753\n",
      "                 2                   6034\n",
      "                 3                   5496\n",
      "Name: Crash_Event, dtype: int64\n"
     ]
    }
   ],
   "source": [
    "# Printed sum of crashes by month, grouped by year and month.\n",
    "print(df_tx.groupby(['Crash_Time_Year', 'Crash_Time_Month'])['Crash_Event'].count())"
   ]
  },
  {
   "cell_type": "markdown",
   "metadata": {
    "slideshow": {
     "slide_type": "slide"
    }
   },
   "source": [
    "## The next step was to look at monthly trends. Given what we know of weather patterns, some months tend to have more rain and snow than others. \n",
    "\n",
    "## The most common month for crashes was November. This could mean something but it really doesn't seem to be that much of an outlier. Remember that this data doesn't even cover 3 full years. If this fact isn't taken into account, then the interpreter can draw incorrect or misguided conclusions about crashes per month or even weather influences.\n",
    "\n",
    "## If anything, the most interesting trend is how relatively few crashes happen between April and July. Could this be due to fewer students driving or summer vacations. We can't analytically prove anything because this dataset doesn't include those variables. "
   ]
  },
  {
   "cell_type": "code",
   "execution_count": 18,
   "metadata": {
    "slideshow": {
     "slide_type": "slide"
    }
   },
   "outputs": [
    {
     "data": {
      "image/png": "[encoded data removed]",
      "text/plain": [
       "<Figure size 432x288 with 1 Axes>"
      ]
     },
     "metadata": {
      "needs_background": "light"
     },
     "output_type": "display_data"
    },
    {
     "name": "stdout",
     "output_type": "stream",
     "text": [
      "11 is the most common month for crashes. Why are months 4 through 7 so low?\n"
     ]
    }
   ],
   "source": [
    "df_tx.hist(column='Crash_Time_Month', bins = 12)\n",
    "plt.xlim(1,12)\n",
    "plt.xticks(range(1, 12))\n",
    "\n",
    "plt.ylim(0, 25000)\n",
    "plt.xlabel('Month Number')\n",
    "plt.ylabel('Number of Crashes')\n",
    "plt.title('Sum of Texas Crashes by Month')\n",
    "\n",
    "plt.show()\n",
    "\n",
    "\n",
    "print(str(statistics.mode(df_tx['Crash_Time_Month'])) + ' is the most common month for crashes. Why are months 4 through 7 so low?')"
   ]
  },
  {
   "cell_type": "markdown",
   "metadata": {
    "slideshow": {
     "slide_type": "slide"
    }
   },
   "source": [
    "## Clearly, annual and monthly trends don't really seem to tell us much. Perhaps we should move to more grannular levels, such as daily.\n",
    "\n",
    "## Are there any trends that can relate frequency of crashes and day of the month? \n",
    "\n",
    "## The next graph shows something interesting. We can see cyclic trends where the relatively higher frequencies occur in about 5 day increments and drop for just a 2 to 3 days in a row. This graph could suggest increased crashes during the weekdays vs weekends. However, the daily numbers weren't converted to actual days, like Monday or Saturday. This could be important to do in the future. "
   ]
  },
  {
   "cell_type": "code",
   "execution_count": 19,
   "metadata": {
    "slideshow": {
     "slide_type": "slide"
    }
   },
   "outputs": [
    {
     "data": {
      "image/png": "[encoded data removed]",
      "text/plain": [
       "<Figure size 432x288 with 1 Axes>"
      ]
     },
     "metadata": {
      "needs_background": "light"
     },
     "output_type": "display_data"
    }
   ],
   "source": [
    "daily_crashes = df_tx.groupby('Crash_Time_Day')['Crash_Event'].count()\n",
    "\n",
    "plt.xlabel('Days of the Month')\n",
    "plt.ylabel('Number of Crashes')\n",
    "plt.title('Sum of Daily Crashes')\n",
    "daily_crashes.plot();"
   ]
  },
  {
   "cell_type": "markdown",
   "metadata": {
    "slideshow": {
     "slide_type": "slide"
    }
   },
   "source": [
    "## Next, I was curious about weather conditions. \n",
    "\n",
    "## Are there any weather patterns that might closely relate to frequency or volume of crashes?\n",
    "\n",
    "## Guess what... the most common weather condition in Texas was \"clear\". Now there's a real shocker! Based on Texas' weather patterns, it's no revelation that the amount of clear or overcast days outweigh those that have precipitation. The graph below displays the volume of crashes and the top 10 reported weather conditions. \n",
    "\n",
    "## It seems that simply looking at volume doesn't tell the whole story. Maybe we should dive into the weeds a bit to see more factors that might tell us more about the conditions of the crashes."
   ]
  },
  {
   "cell_type": "code",
   "execution_count": 20,
   "metadata": {
    "slideshow": {
     "slide_type": "slide"
    }
   },
   "outputs": [
    {
     "data": {
      "image/png": "[encoded data removed]",
      "text/plain": [
       "<Figure size 432x288 with 1 Axes>"
      ]
     },
     "metadata": {
      "needs_background": "light"
     },
     "output_type": "display_data"
    }
   ],
   "source": [
    "df_tx['Weather_Condition'].value_counts()[:10].plot(kind='bar')\n",
    "plt.show()"
   ]
  },
  {
   "cell_type": "markdown",
   "metadata": {
    "slideshow": {
     "slide_type": "slide"
    }
   },
   "source": [
    "## We've explored frequency of crashes in reference of dates and weather but this is only part of the story. Let's look at severity.\n",
    "\n",
    "## Below, is a simple graph that displays the sums of each reported severity for context. \n",
    "\n",
    "## The majority of crashses are ranked as 2. \n",
    "\n",
    "## For the sake of discussion, I'm grouping ranks 3 and 4 together and considering them to be elevated severity events."
   ]
  },
  {
   "cell_type": "code",
   "execution_count": 21,
   "metadata": {
    "slideshow": {
     "slide_type": "slide"
    }
   },
   "outputs": [
    {
     "data": {
      "image/png": "[encoded data removed]",
      "text/plain": [
       "<Figure size 432x288 with 1 Axes>"
      ]
     },
     "metadata": {
      "needs_background": "light"
     },
     "output_type": "display_data"
    }
   ],
   "source": [
    "df_tx['Severity'].value_counts().plot(kind='bar')\n",
    "plt.show()"
   ]
  },
  {
   "cell_type": "code",
   "execution_count": 22,
   "metadata": {
    "slideshow": {
     "slide_type": "slide"
    }
   },
   "outputs": [
    {
     "data": {
      "text/plain": [
       "2    170484\n",
       "3     64355\n",
       "4      2689\n",
       "1       105\n",
       "0         4\n",
       "Name: Severity, dtype: int64"
      ]
     },
     "execution_count": 22,
     "metadata": {},
     "output_type": "execute_result"
    }
   ],
   "source": [
    "# Counting each severity occurrance. \n",
    "df_tx.Severity.value_counts()"
   ]
  },
  {
   "cell_type": "markdown",
   "metadata": {
    "slideshow": {
     "slide_type": "slide"
    }
   },
   "source": [
    "# <center><font color = 'red'>-----------------------------------------------------------------------------------------------------------------</center>"
   ]
  },
  {
   "cell_type": "markdown",
   "metadata": {
    "slideshow": {
     "slide_type": "slide"
    }
   },
   "source": [
    "# Section 4: Analytical Questions\n",
    "## Each question is listed here and will be addressed, in order, further down. The answers to the questions will be colored <font color = 'blue'>blue <font color = 'black'>for convenience.\n",
    "\n",
    "## <font color = 'blue'>1) Does the frequency of crashes have anything to do with time of day? If so, then what time(s) have the most crashes?\n",
    "## <font color = 'blue'>2) How often is bad weather reported when crashes severely impact traffic?\n",
    "## <font color = 'blue'>3) Are drivers more likely to be impacted by severe crashes during rush hour or outside of rush hour?"
   ]
  },
  {
   "cell_type": "markdown",
   "metadata": {
    "slideshow": {
     "slide_type": "slide"
    }
   },
   "source": [
    "# <center><font color = 'red'>-----------------------------------------------------------------------------------------------------------------</center>"
   ]
  },
  {
   "cell_type": "markdown",
   "metadata": {
    "slideshow": {
     "slide_type": "slide"
    }
   },
   "source": [
    "# Section 4 - Question 1\n",
    "## The next histogram below reflects hourly crashes. It is clear that the morning commute time (7am - 10am) had the highest frequency of crashes. This was closely followed by the evening commute time (4pm - 6pm). Although cool to visualize, this is really a \"duh\" statement, hence the term \"rush hour\". Given what we know of the daily grind, rush hours tend to be packed with travelers and are generally associated with crashes, especially in metropolitan areas. However obvious, this graph does demonstrate reliability of the reported times in the data set. \n",
    "\n",
    "## Please review general summary stats below the histogram. For reference, the most common hour for crashes was 8am. "
   ]
  },
  {
   "cell_type": "code",
   "execution_count": 23,
   "metadata": {
    "slideshow": {
     "slide_type": "slide"
    }
   },
   "outputs": [
    {
     "data": {
      "image/png": "[encoded data removed]",
      "text/plain": [
       "<Figure size 432x288 with 1 Axes>"
      ]
     },
     "metadata": {
      "needs_background": "light"
     },
     "output_type": "display_data"
    },
    {
     "name": "stdout",
     "output_type": "stream",
     "text": [
      "8 is the most common hour for crashes.\n",
      "7666 is the average amount of crashes per day throughout this dataset.\n"
     ]
    }
   ],
   "source": [
    "# Make histogram\n",
    "df_tx.hist(column='Crash_Time_Hour', bins = 24)\n",
    "\n",
    "# Change background color based on y axis value.\n",
    "pylab.axhspan(0, 14000, facecolor='g', alpha=0.05) # green span\n",
    "pylab.axhspan(14000, 25000, facecolor='r', alpha=0.075) # red span\n",
    "\n",
    "# Limit axis values for cleaner presentation\n",
    "pylab.xlim(0, 23)\n",
    "pylab.ylim(0, 25000)\n",
    "\n",
    "# Edit axis labels\n",
    "pylab.xticks(range(0, 24))\n",
    "pylab.xlabel('Hour (0-23)')\n",
    "pylab.ylabel('Number of Crashes')\n",
    "pylab.title('Texas Crashes by 24-Hour Cycle')\n",
    "\n",
    "# Take off grid to make the plot cleaner\n",
    "pylab.grid(b=None) \n",
    "\n",
    "pylab.show()\n",
    "\n",
    "# print general summary stats\n",
    "print(str(statistics.mode(df_tx['Crash_Time_Hour'])) + \n",
    "      ' is the most common hour for crashes.')\n",
    "print(str(round(df_tx.groupby('Crash_Time_Day')['Crash_Event'].count().mean())) + \n",
    "     ' is the average amount of crashes per day throughout this dataset.')"
   ]
  },
  {
   "cell_type": "code",
   "execution_count": 25,
   "metadata": {
    "scrolled": false,
    "slideshow": {
     "slide_type": "slide"
    }
   },
   "outputs": [
    {
     "name": "stdout",
     "output_type": "stream",
     "text": [
      "237637\n",
      "8     22743\n",
      "7     20055\n",
      "9     17507\n",
      "10    15044\n",
      "Name: Crash_Time_Hour, dtype: int64\n",
      "17    17813\n",
      "16    15833\n",
      "18    14100\n",
      "Name: Crash_Time_Hour, dtype: int64\n",
      "75349\n",
      "47746\n",
      "123095\n",
      "31.71% of crashes occur during morning rush hour.\n",
      "20.09% of crashes occur during the evening rush hour.\n"
     ]
    }
   ],
   "source": [
    "# Total number of Texas crashes\n",
    "tx_crashes = df_tx.Severity.count()\n",
    "print(tx_crashes)\n",
    "\n",
    "# Total number of crashes during morning commute\n",
    "morning_commute = df_tx[df_tx['Crash_Time_Hour'].isin([7, 8, 9, 10])]\n",
    "print(morning_commute.Crash_Time_Hour.value_counts())\n",
    "\n",
    "# Total number of crashes during evening commute\n",
    "evening_commute = df_tx[df_tx['Crash_Time_Hour'].isin([16, 17, 18])]\n",
    "print(evening_commute.Crash_Time_Hour.value_counts())\n",
    "\n",
    "# Total number of crashes during all rush hours\n",
    "sum_morn_commute = morning_commute.Crash_Time_Hour.count()\n",
    "sum_eve_commute = evening_commute.Crash_Time_Hour.count()\n",
    "sum_commute_crashes = sum_morn_commute + sum_eve_commute\n",
    "print(sum_morn_commute)\n",
    "print(sum_eve_commute)\n",
    "print(sum_commute_crashes)\n",
    "\n",
    "# Percent of crashes during morning and evening commutes\n",
    "perc_crash_morn = (sum_morn_commute / tx_crashes) * 100\n",
    "perc_crash_eve = (sum_eve_commute / tx_crashes) * 100\n",
    "\n",
    "\n",
    "print(str(round(perc_crash_morn, 2)) + '% of crashes occur during morning rush hour.')\n",
    "print(str(round(perc_crash_eve, 2)) + '% of crashes occur during the evening rush hour.')"
   ]
  },
  {
   "cell_type": "markdown",
   "metadata": {
    "slideshow": {
     "slide_type": "slide"
    }
   },
   "source": [
    "## From the histogram above, we can tell that the frequency is elevated during rush hours. \n",
    "## Performing the math below, the percentages of crashes that occur during morning and evening commutes were calculated. <br> I've grouped morning commute times adding hours 7-10 together and grouped evening commute times by adding 16-18 together.\n",
    "\n",
    "# <font color = 'blue'>Answer to question 1: Does the frequency of crashes have anything to do with time of day? If so, then what time(s) have the most crashes?\n",
    "## <font color = 'blue'>It appears there is a relationship between frequency of crashes and time of day. <br> 8:00am was reported to have the highest frequency of crashes.\n",
    "## <font color = 'blue'>31.71% of all crashes occurred during morning rush hour and 20.09% occurred during the evening rush hour. <br> If we look at those percentages cumulatively, then this would suggest that about 51% of all crashes occurred within just 7 hours out of a 24 hour time frame. The remaining 49% of crashes is distributed among the other 17 hours of the day."
   ]
  },
  {
   "cell_type": "markdown",
   "metadata": {
    "slideshow": {
     "slide_type": "slide"
    }
   },
   "source": [
    "# <center><font color = 'red'>-----------------------------------------------------------------------------------------------------------------</center>"
   ]
  },
  {
   "cell_type": "markdown",
   "metadata": {
    "slideshow": {
     "slide_type": "slide"
    }
   },
   "source": [
    "# Section 4 - Question 2\n",
    "## Next, lets move on to severity vs weather. \n",
    "\n",
    "## In an earlier plot, we saw that the most common weather pattern to be reported during crashes was some variation of clear or cloudy. However, the graph below suggests that the inclimate weather patterns can be closely tied with crashes with elevated severity ratings.\n",
    "\n",
    "## We can only hypothesize what contributes to this observation. Keep in mind that severity is a relationship based on traffic impact only. We have insufficient data (i.e. how many cars were involved, injuries, fatalities, response time, etc) to know exactly what's accounting for each crash. It's generally accepted that bad weather can bring about bad crashes but there isn't enough data to analytically test or demonstrate that concept."
   ]
  },
  {
   "cell_type": "code",
   "execution_count": 30,
   "metadata": {
    "slideshow": {
     "slide_type": "slide"
    }
   },
   "outputs": [
    {
     "data": {
      "image/png": "[encoded data removed]",
      "text/plain": [
       "<Figure size 432x288 with 1 Axes>"
      ]
     },
     "metadata": {
      "needs_background": "light"
     },
     "output_type": "display_data"
    }
   ],
   "source": [
    "df_tx.groupby('Weather_Condition')['Severity'].apply(lambda x: x.mode()).sort_values(ascending = False).plot(kind = 'bar')\n",
    "\n",
    "plt.show()"
   ]
  },
  {
   "cell_type": "markdown",
   "metadata": {
    "slideshow": {
     "slide_type": "slide"
    }
   },
   "source": [
    "## We spent a minute on the graph of crash severity grouped on weather, so lets take a second to look at the distribution of the weather conditions to put things back into perspective. \n",
    "\n",
    "## The graph of the top 10 weather conditions can give the reader some idea of visual scope of common weather conditions during crashes, and listed below is the comprehensive list of sums for each. The bulk of the events occur with relatively calm skies and no precipitation. \n",
    "\n",
    "## \"Light Haze\" is the far left bar in the graph just above this text. One might think that this condition is very condusive to worse than average crashes. Look to the list below. \"Light Haze\" only has 3 entries. It doesn't take much to be the most common in only 3 events. Conversely, \"Clear\" has over 76,000 entries and its mode is 2 on the severity scale."
   ]
  },
  {
   "cell_type": "code",
   "execution_count": 31,
   "metadata": {
    "slideshow": {
     "slide_type": "slide"
    }
   },
   "outputs": [
    {
     "data": {
      "text/plain": [
       "Clear                                  76753\n",
       "Overcast                               45134\n",
       "Mostly Cloudy                          36975\n",
       "Partly Cloudy                          27697\n",
       "Scattered Clouds                       25356\n",
       "Light Rain                              8060\n",
       "Rain                                    1960\n",
       "Haze                                    1921\n",
       "Fog                                     1680\n",
       "Light Drizzle                           1059\n",
       "Light Thunderstorms and Rain             831\n",
       "Heavy Rain                               739\n",
       "Thunderstorm                             585\n",
       "Thunderstorms and Rain                   395\n",
       "Heavy Thunderstorms and Rain             373\n",
       "Mist                                     209\n",
       "Drizzle                                  162\n",
       "Shallow Fog                              105\n",
       "Patches of Fog                           104\n",
       "Light Snow                                97\n",
       "Light Freezing Rain                       66\n",
       "Widespread Dust                           61\n",
       "Snow                                      26\n",
       "Light Freezing Drizzle                    26\n",
       "Sand                                      14\n",
       "Light Ice Pellets                         13\n",
       "Heavy Drizzle                             12\n",
       "Smoke                                      8\n",
       "Heavy Rain Showers                         6\n",
       "Light Rain Showers                         5\n",
       "Snow Grains                                4\n",
       "Light Haze                                 3\n",
       "Rain Showers                               3\n",
       "Light Fog                                  3\n",
       "Light Freezing Fog                         3\n",
       "Thunderstorms and Snow                     1\n",
       "Heavy Thunderstorms with Small Hail        1\n",
       "Name: Weather_Condition, dtype: int64"
      ]
     },
     "execution_count": 31,
     "metadata": {},
     "output_type": "execute_result"
    }
   ],
   "source": [
    "df_tx['Weather_Condition'].value_counts()"
   ]
  },
  {
   "cell_type": "markdown",
   "metadata": {
    "slideshow": {
     "slide_type": "slide"
    }
   },
   "source": [
    "## So, let's move on to some percentages of events. \n",
    "## In order to calculate percentages with reference to elevated severity, we need to know what that sample looks like. We can't simply take the total crash number.\n",
    "## Remember that I'm defining elevated severity by summing the rankings of 3 and 4 in the \"Severity\" column. \n",
    "## How many elevated severe crashes occurred in the dataset and what was that percentage? "
   ]
  },
  {
   "cell_type": "code",
   "execution_count": 32,
   "metadata": {
    "slideshow": {
     "slide_type": "slide"
    }
   },
   "outputs": [
    {
     "name": "stdout",
     "output_type": "stream",
     "text": [
      "3    64355\n",
      "4     2689\n",
      "Name: Severity, dtype: int64\n",
      "The sum of crashes with elevated severity ranking was 67044.\n",
      "28.21% of all crashes are considered to be elevated in the severity ranking.\n"
     ]
    }
   ],
   "source": [
    "severe_crashes = df_tx[df_tx['Severity'].isin([3, 4])]\n",
    "print(severe_crashes.Severity.value_counts())\n",
    "\n",
    "sum_sev_crashes = severe_crashes.Severity.count()\n",
    "print('The sum of crashes with elevated severity ranking was ' + str(sum_sev_crashes) + '.')\n",
    "\n",
    "prob_elev_sev = (sum_sev_crashes / tx_crashes) * 100\n",
    "print(str(round(prob_elev_sev, 2)) + '% of all crashes are considered to be elevated in the severity ranking.')"
   ]
  },
  {
   "cell_type": "markdown",
   "metadata": {
    "slideshow": {
     "slide_type": "slide"
    }
   },
   "source": [
    "## Next step is to know how many crashes occured during inclimate weather conditions.\n",
    "## I accomplished this by simply excluding the calm weather conditions from the total. "
   ]
  },
  {
   "cell_type": "code",
   "execution_count": 33,
   "metadata": {
    "slideshow": {
     "slide_type": "slide"
    }
   },
   "outputs": [
    {
     "name": "stdout",
     "output_type": "stream",
     "text": [
      "Light Rain                             8060\n",
      "Rain                                   1960\n",
      "Haze                                   1921\n",
      "Fog                                    1680\n",
      "Light Drizzle                          1059\n",
      "Light Thunderstorms and Rain            831\n",
      "Heavy Rain                              739\n",
      "Thunderstorm                            585\n",
      "Thunderstorms and Rain                  395\n",
      "Heavy Thunderstorms and Rain            373\n",
      "Mist                                    209\n",
      "Drizzle                                 162\n",
      "Shallow Fog                             105\n",
      "Patches of Fog                          104\n",
      "Light Snow                               97\n",
      "Light Freezing Rain                      66\n",
      "Widespread Dust                          61\n",
      "Snow                                     26\n",
      "Light Freezing Drizzle                   26\n",
      "Sand                                     14\n",
      "Light Ice Pellets                        13\n",
      "Heavy Drizzle                            12\n",
      "Smoke                                     8\n",
      "Heavy Rain Showers                        6\n",
      "Light Rain Showers                        5\n",
      "Snow Grains                               4\n",
      "Light Haze                                3\n",
      "Rain Showers                              3\n",
      "Light Freezing Fog                        3\n",
      "Light Fog                                 3\n",
      "Heavy Thunderstorms with Small Hail       1\n",
      "Thunderstorms and Snow                    1\n",
      "Name: Weather_Condition, dtype: int64\n",
      "18535 is the sum of crashes during inclimate weather conditions.\n"
     ]
    }
   ],
   "source": [
    "# Made a variable that excludes relatively calm weather conditions in order to view only inclimate weather.\n",
    "weather_events = df_tx[~df_tx['Weather_Condition'].isin(['Clear', 'Overcast', 'Mostly Cloudy', 'Partly Cloudy', 'Scattered Clouds'])]\n",
    "print(weather_events.Weather_Condition.value_counts())\n",
    "\n",
    "# Summed the variable \"weather_events\".\n",
    "sum_inc_weather = weather_events.Weather_Condition.count()\n",
    "print(str(sum_inc_weather) + ' is the sum of crashes during inclimate weather conditions.')"
   ]
  },
  {
   "cell_type": "code",
   "execution_count": 34,
   "metadata": {
    "slideshow": {
     "slide_type": "slide"
    }
   },
   "outputs": [
    {
     "name": "stdout",
     "output_type": "stream",
     "text": [
      "7.8% of all crashes happened during some form of inclimate weather.\n"
     ]
    }
   ],
   "source": [
    "# Calculated percent of inclimate weather crashes.\n",
    "perc_inc_weather = sum_inc_weather / tx_crashes * 100\n",
    "print(str(round(perc_inc_weather, 3)) + '% of all crashes happened during some form of inclimate weather.')"
   ]
  },
  {
   "cell_type": "code",
   "execution_count": 35,
   "metadata": {
    "scrolled": false,
    "slideshow": {
     "slide_type": "slide"
    }
   },
   "outputs": [
    {
     "name": "stdout",
     "output_type": "stream",
     "text": [
      "3    8446\n",
      "4     322\n",
      "Name: Severity, dtype: int64\n",
      "8768 is the sum of severe crashes that occurred during inclimate weather.\n",
      "13.08% of all severe crashes occurred during inclimate weather conditions.\n"
     ]
    },
    {
     "data": {
      "image/png": "[encoded data removed]",
      "text/plain": [
       "<Figure size 432x288 with 1 Axes>"
      ]
     },
     "metadata": {
      "needs_background": "light"
     },
     "output_type": "display_data"
    }
   ],
   "source": [
    "# Created variable that cross references inclimate weather and elevated severity.\n",
    "sev_weather_crashes = df_tx[(~df_tx['Weather_Condition'].isin(['Clear', 'Overcast', 'Mostly Cloudy', 'Partly Cloudy', 'Scattered Clouds']))&(df_tx['Severity'].isin([3, 4]))]\n",
    "print(sev_weather_crashes.Severity.value_counts())\n",
    "\n",
    "sum_sev_weather_crashes = sev_weather_crashes.Severity.count()\n",
    "print(str(sum_sev_weather_crashes) + ' is the sum of severe crashes that occurred during inclimate weather.')\n",
    "\n",
    "perc_sev_weather_crashes = (sum_sev_weather_crashes / sum_sev_crashes) * 100\n",
    "print(str(round(perc_sev_weather_crashes, 2)) + '% of all severe crashes occurred during inclimate weather conditions.')\n",
    "\n",
    "sev_weather_crashes.Weather_Condition.value_counts().plot(kind='bar')\n",
    "plt.title('Inclimate Weather Conditions with Elevated Severity')\n",
    "plt.show()"
   ]
  },
  {
   "cell_type": "markdown",
   "metadata": {
    "slideshow": {
     "slide_type": "slide"
    }
   },
   "source": [
    "# <font color = 'blue'>Answer to question 2: How often is bad weather reported when crashes severely impact traffic?\n",
    "## <font color = 'blue'>8,768 out of 67,044 severe crashes occurred during inclimate weather. <br> 13.08% of all severe crashes occurred during inclimate weather events.<br> Light rain was the most common inclimate weather condition for severe crashes."
   ]
  },
  {
   "cell_type": "markdown",
   "metadata": {
    "slideshow": {
     "slide_type": "slide"
    }
   },
   "source": [
    "# <center><font color = 'red'>-----------------------------------------------------------------------------------------------------------------</center>"
   ]
  },
  {
   "cell_type": "markdown",
   "metadata": {
    "slideshow": {
     "slide_type": "slide"
    }
   },
   "source": [
    "# Section 4 - Question 3\n",
    "## By this point, we've explored enough of the dataset to jump in to the answer. We can even use some of the information we've generated earlier."
   ]
  },
  {
   "cell_type": "code",
   "execution_count": 36,
   "metadata": {
    "slideshow": {
     "slide_type": "slide"
    }
   },
   "outputs": [
    {
     "name": "stdout",
     "output_type": "stream",
     "text": [
      "3    32377\n",
      "4      886\n",
      "Name: Severity, dtype: int64\n",
      "33263 is the sum of severe crashes that occurred during rush hour.\n",
      "49.61% of all severe crashes occurred during rush hour.\n"
     ]
    },
    {
     "data": {
      "image/png": "[encoded data removed]",
      "text/plain": [
       "<Figure size 432x288 with 1 Axes>"
      ]
     },
     "metadata": {
      "needs_background": "light"
     },
     "output_type": "display_data"
    }
   ],
   "source": [
    "# How many severe crashes occurred during rush hour?\n",
    "sev_commute_crashes = df_tx[(df_tx['Crash_Time_Hour'].isin([7,8,9,10,16,17,18]))&(df_tx['Severity'].isin([3, 4]))]\n",
    "print(sev_commute_crashes.Severity.value_counts())\n",
    "\n",
    "# Sum events.\n",
    "sum_sev_commute_crashes = sev_commute_crashes.Severity.count()\n",
    "print(str(sum_sev_commute_crashes) + ' is the sum of severe crashes that occurred during rush hour.')\n",
    "\n",
    "# What percentage of crashes occurred during rush hour?\n",
    "perc_sev_commute_crashes = (sum_sev_commute_crashes / sum_sev_crashes) * 100\n",
    "print(str(round(perc_sev_commute_crashes, 2)) + '% of all severe crashes occurred during rush hour.')\n",
    "\n",
    "# Plot\n",
    "sev_commute_crashes.Crash_Time_Hour.value_counts().plot(kind='bar')\n",
    "plt.xlabel('Commuting Hours')\n",
    "plt.ylabel('Number of Severe Crashes')\n",
    "plt.title('Sum of Severe Crashes During Rush Hours')\n",
    "plt.show()"
   ]
  },
  {
   "cell_type": "code",
   "execution_count": 37,
   "metadata": {
    "slideshow": {
     "slide_type": "slide"
    }
   },
   "outputs": [
    {
     "name": "stdout",
     "output_type": "stream",
     "text": [
      "3    31978\n",
      "4     1803\n",
      "Name: Severity, dtype: int64\n",
      "33781 is the sum of severe crashes that occurred outside of rush hour.\n",
      "50.39% of all severe crashes occurred outside of rush hour.\n"
     ]
    },
    {
     "data": {
      "image/png": "[encoded data removed]",
      "text/plain": [
       "<Figure size 432x288 with 1 Axes>"
      ]
     },
     "metadata": {
      "needs_background": "light"
     },
     "output_type": "display_data"
    }
   ],
   "source": [
    "# How many severe crashes occurred outside of rush hour?\n",
    "sev_not_commute_crashes = df_tx[~(df_tx['Crash_Time_Hour'].isin([7,8,9,10,16,17,18]))&(df_tx['Severity'].isin([3, 4]))]\n",
    "print(sev_not_commute_crashes.Severity.value_counts())\n",
    "\n",
    "# Sum events.\n",
    "sum_sev_not_commute_crashes = sev_not_commute_crashes.Severity.count()\n",
    "print(str(sum_sev_not_commute_crashes) + ' is the sum of severe crashes that occurred outside of rush hour.')\n",
    "\n",
    "# What percentage of crashes occurred outside of rush hour?\n",
    "perc_sev_not_commute_crashes = (sum_sev_not_commute_crashes / sum_sev_crashes) * 100\n",
    "print(str(round(perc_sev_not_commute_crashes, 2)) + '% of all severe crashes occurred outside of rush hour.')\n",
    "\n",
    "# Plot\n",
    "sev_not_commute_crashes.Crash_Time_Hour.value_counts().plot(kind='bar')\n",
    "plt.xlabel('Non-Commuting Hours')\n",
    "plt.ylabel('Number of Severe Crashes')\n",
    "plt.title('Sum of Severe Crashes Outside of Rush Hours')\n",
    "plt.show()"
   ]
  },
  {
   "cell_type": "code",
   "execution_count": 38,
   "metadata": {
    "slideshow": {
     "slide_type": "slide"
    }
   },
   "outputs": [
    {
     "name": "stdout",
     "output_type": "stream",
     "text": [
      "On avereage, 4751.86 crashes occur every rush hour.\n",
      "On avereage, 1987.12 crashes occur every non-rush hour.\n",
      "The rate of severe crashes during rush hour is about 2.39 times more than those outside of rush hour.\n"
     ]
    }
   ],
   "source": [
    "# Rate of severe crashes per rush hour?\n",
    "rate_sev_commute_crashes = sum_sev_commute_crashes / 7\n",
    "print('On avereage, ' + str(round(rate_sev_commute_crashes, 2)) + ' crashes occur every rush hour.')\n",
    "\n",
    "# Rate of severe crashes per non-rush hour?\n",
    "rate_sev_not_commute_crashes = sum_sev_not_commute_crashes / 17\n",
    "print('On avereage, ' + str(round(rate_sev_not_commute_crashes, 2)) + ' crashes occur every non-rush hour.')\n",
    "\n",
    "# Ratio of severe crashes\n",
    "print('The rate of severe crashes during rush hour is about ' + str(round(rate_sev_commute_crashes/rate_sev_not_commute_crashes, 2))\n",
    "      + ' times more than those outside of rush hour.')"
   ]
  },
  {
   "cell_type": "markdown",
   "metadata": {
    "slideshow": {
     "slide_type": "slide"
    }
   },
   "source": [
    "# <font color = 'blue'>Answer to question 3: Are drivers more likely to be impacted by severe crashes during rush hour or outside of rush hour?\n",
    "## <font color = 'blue'>- 49.61% of all severe crashes occurred during rush hour. <br> - 5:00pm (hour 17) was the most common rush hour with severe crashes. <br> - On average, the rate of severe crashes that occur during rush hour is over 2 times more than the rate of severe crashes that occur outside of rush hour. <br> - This sounds like a broken record but don't forget that \"Severity\" is based on impact to traffic, not damage or injuries. However, we can make an interpretation that traffic is impacted more by crashes during rush hour than those that occur outside of rush hour. Simply reworded, crash impact on traffic (severity) may be correlated with the volume of drivers at a given time of day."
   ]
  },
  {
   "cell_type": "markdown",
   "metadata": {
    "slideshow": {
     "slide_type": "slide"
    }
   },
   "source": [
    "# <center><font color = 'red'>-----------------------------------------------------------------------------------------------------------------</center>"
   ]
  },
  {
   "cell_type": "markdown",
   "metadata": {
    "slideshow": {
     "slide_type": "slide"
    }
   },
   "source": [
    "# Section 5: Conclusions/Future Proposed Work"
   ]
  },
  {
   "cell_type": "markdown",
   "metadata": {
    "slideshow": {
     "slide_type": "slide"
    }
   },
   "source": [
    "## - It appears that inclimate weather events don't make up much of the crashes in general and only account for about 13% of severe impacts on traffic. <br> - Frequency of crashes seem to be elevated during week days and rush hours. <br> - About 51% of crashes occurred during the morning and evening commutes. <br> - Crashes that occurred during morning and evening rush hours had over twice the rate of severe impacts to traffic than crashes outside of rush hours.\n",
    "## Bottom line, commuters should review weather and traffic conditions before getting on the road. If there's risk or evidence of slow downs, then it would be advised to research alternate routes and maybe adjust their schedules. The goal is to arrive safely at their destination.\n",
    "\n",
    "# Future Project Ideas: \n",
    "## The data would benefit from additional cleaning, like that example of \"Total_Crash_Time\" outliers at the beginning of this presentation. Converting day numbers to days of the week might benefit the study by filtering directly by non-holiday work days. <br> Analyzing cities or counties might bring out unique trends specific to those areas. <br> We could reintroduce all the columns and compare road infrastructure trends. \n",
    "\n",
    "## Thinking big picture, we could collect other information that might give more details behind each crash (wider timeframe, estimated vehicle population, damage, speed, type of collision, vehicles involved, injuries, etc...). Dealing with additional variables, simple analytics won't be the preferred method. A data scientist might choose to evaluate the data using multivariate models/machine learning algorithms to determine contributing factors and potentially provide predictions. These methods and models could ultimately be applied to the rest of the U.S.A."
   ]
  },
  {
   "cell_type": "markdown",
   "metadata": {
    "slideshow": {
     "slide_type": "slide"
    }
   },
   "source": [
    "# <center><font color = 'blue'>Thank you!</center>"
   ]
  },
  {
   "cell_type": "code",
   "execution_count": null,
   "metadata": {},
   "outputs": [],
   "source": []
  }
 ],
 "metadata": {
  "kernelspec": {
   "display_name": "Python 3",
   "language": "python",
   "name": "python3"
  },
  "language_info": {
   "codemirror_mode": {
    "name": "ipython",
    "version": 3
   },
   "file_extension": ".py",
   "mimetype": "text/x-python",
   "name": "python",
   "nbconvert_exporter": "python",
   "pygments_lexer": "ipython3",
   "version": "3.7.3"
  }
 },
 "nbformat": 4,
 "nbformat_minor": 2
}
