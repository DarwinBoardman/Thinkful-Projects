{
 "cells": [
  {
   "cell_type": "code",
   "execution_count": 64,
   "metadata": {},
   "outputs": [],
   "source": [
    "import matplotlib.pyplot as plt\n",
    "import numpy as np\n",
    "import pandas as pd\n",
    "import seaborn as sns\n",
    "import scipy.stats as stats\n",
    "from scipy.stats.stats import ttest_ind\n",
    "from scipy.stats.mstats import winsorize\n",
    "from sqlalchemy import create_engine\n",
    "from scipy.stats import boxcox\n",
    "import warnings"
   ]
  },
  {
   "cell_type": "code",
   "execution_count": null,
   "metadata": {},
   "outputs": [],
   "source": [
    "# Database credentials\n",
    "postgres_user = 'dsbc_student'\n",
    "postgres_pw = '7*.8G9QH21'\n",
    "postgres_host = '142.93.121.174'\n",
    "postgres_port = '5432'\n",
    "postgres_db = 'studentsperformance'\n",
    "\n",
    "# use credentials to start a connection\n",
    "engine = create_engine('postgresql://{}:{}@{}:{}/{}'.format(postgres_user, \n",
    "    postgres_pw, postgres_host, postgres_port, postgres_db))\n",
    "\n",
    "df_studentsperformance = pd.read_sql_query('select * from studentsperformance',con=engine)\n",
    "engine.dispose()"
   ]
  },
  {
   "cell_type": "markdown",
   "metadata": {},
   "source": [
    "THIS WAS NEEDED AS BACKUP WHEN INTERNET WENT DOWN.\n",
    "df_studentsperformance = pd.read_csv(\"StudentsPerformance.csv\") "
   ]
  },
  {
   "cell_type": "markdown",
   "metadata": {},
   "source": [
    "1. Are the exam score variables normally distributed? If not, apply a Box-Cox transformation. Does anything change?\n",
    "2. Say we want to use a single variable for the exam scores as our target. For this purpose, create a new variable by taking a weighted average of the exam scores. Check whether this new variable is normally distributed. If it's not normally distributed, apply a Box-Cox transformation and check whether or not the transformed variable is normally distributed.\n",
    "3. Which variables seem related to the target variable (the newly created variable in the previous question)? If our goal is to explain the determinants of success in exams, which variables in our dataset might be useful?"
   ]
  },
  {
   "cell_type": "markdown",
   "metadata": {},
   "source": [
    "### 1. Are the exam score variables normally distributed? If not, apply a Box-Cox transformation. Does anything change?"
   ]
  },
  {
   "cell_type": "code",
   "execution_count": 66,
   "metadata": {},
   "outputs": [
    {
     "data": {
      "text/html": [
       "<div>\n",
       "<style scoped>\n",
       "    .dataframe tbody tr th:only-of-type {\n",
       "        vertical-align: middle;\n",
       "    }\n",
       "\n",
       "    .dataframe tbody tr th {\n",
       "        vertical-align: top;\n",
       "    }\n",
       "\n",
       "    .dataframe thead th {\n",
       "        text-align: right;\n",
       "    }\n",
       "</style>\n",
       "<table border=\"1\" class=\"dataframe\">\n",
       "  <thead>\n",
       "    <tr style=\"text-align: right;\">\n",
       "      <th></th>\n",
       "      <th>gender</th>\n",
       "      <th>race/ethnicity</th>\n",
       "      <th>parental level of education</th>\n",
       "      <th>lunch</th>\n",
       "      <th>test preparation course</th>\n",
       "      <th>math score</th>\n",
       "      <th>reading score</th>\n",
       "      <th>writing score</th>\n",
       "    </tr>\n",
       "  </thead>\n",
       "  <tbody>\n",
       "    <tr>\n",
       "      <th>0</th>\n",
       "      <td>female</td>\n",
       "      <td>group B</td>\n",
       "      <td>bachelor's degree</td>\n",
       "      <td>standard</td>\n",
       "      <td>none</td>\n",
       "      <td>72</td>\n",
       "      <td>72</td>\n",
       "      <td>74</td>\n",
       "    </tr>\n",
       "    <tr>\n",
       "      <th>1</th>\n",
       "      <td>female</td>\n",
       "      <td>group C</td>\n",
       "      <td>some college</td>\n",
       "      <td>standard</td>\n",
       "      <td>completed</td>\n",
       "      <td>69</td>\n",
       "      <td>90</td>\n",
       "      <td>88</td>\n",
       "    </tr>\n",
       "    <tr>\n",
       "      <th>2</th>\n",
       "      <td>female</td>\n",
       "      <td>group B</td>\n",
       "      <td>master's degree</td>\n",
       "      <td>standard</td>\n",
       "      <td>none</td>\n",
       "      <td>90</td>\n",
       "      <td>95</td>\n",
       "      <td>93</td>\n",
       "    </tr>\n",
       "    <tr>\n",
       "      <th>3</th>\n",
       "      <td>male</td>\n",
       "      <td>group A</td>\n",
       "      <td>associate's degree</td>\n",
       "      <td>free/reduced</td>\n",
       "      <td>none</td>\n",
       "      <td>47</td>\n",
       "      <td>57</td>\n",
       "      <td>44</td>\n",
       "    </tr>\n",
       "    <tr>\n",
       "      <th>4</th>\n",
       "      <td>male</td>\n",
       "      <td>group C</td>\n",
       "      <td>some college</td>\n",
       "      <td>standard</td>\n",
       "      <td>none</td>\n",
       "      <td>76</td>\n",
       "      <td>78</td>\n",
       "      <td>75</td>\n",
       "    </tr>\n",
       "  </tbody>\n",
       "</table>\n",
       "</div>"
      ],
      "text/plain": [
       "   gender race/ethnicity parental level of education         lunch  \\\n",
       "0  female        group B           bachelor's degree      standard   \n",
       "1  female        group C                some college      standard   \n",
       "2  female        group B             master's degree      standard   \n",
       "3    male        group A          associate's degree  free/reduced   \n",
       "4    male        group C                some college      standard   \n",
       "\n",
       "  test preparation course  math score  reading score  writing score  \n",
       "0                    none          72             72             74  \n",
       "1               completed          69             90             88  \n",
       "2                    none          90             95             93  \n",
       "3                    none          47             57             44  \n",
       "4                    none          76             78             75  "
      ]
     },
     "execution_count": 66,
     "metadata": {},
     "output_type": "execute_result"
    }
   ],
   "source": [
    "df_studentsperformance.head()"
   ]
  },
  {
   "cell_type": "code",
   "execution_count": 67,
   "metadata": {},
   "outputs": [
    {
     "data": {
      "text/html": [
       "<div>\n",
       "<style scoped>\n",
       "    .dataframe tbody tr th:only-of-type {\n",
       "        vertical-align: middle;\n",
       "    }\n",
       "\n",
       "    .dataframe tbody tr th {\n",
       "        vertical-align: top;\n",
       "    }\n",
       "\n",
       "    .dataframe thead th {\n",
       "        text-align: right;\n",
       "    }\n",
       "</style>\n",
       "<table border=\"1\" class=\"dataframe\">\n",
       "  <thead>\n",
       "    <tr style=\"text-align: right;\">\n",
       "      <th></th>\n",
       "      <th>math score</th>\n",
       "      <th>reading score</th>\n",
       "      <th>writing score</th>\n",
       "    </tr>\n",
       "  </thead>\n",
       "  <tbody>\n",
       "    <tr>\n",
       "      <th>count</th>\n",
       "      <td>1000.00000</td>\n",
       "      <td>1000.000000</td>\n",
       "      <td>1000.000000</td>\n",
       "    </tr>\n",
       "    <tr>\n",
       "      <th>mean</th>\n",
       "      <td>66.08900</td>\n",
       "      <td>69.169000</td>\n",
       "      <td>68.054000</td>\n",
       "    </tr>\n",
       "    <tr>\n",
       "      <th>std</th>\n",
       "      <td>15.16308</td>\n",
       "      <td>14.600192</td>\n",
       "      <td>15.195657</td>\n",
       "    </tr>\n",
       "    <tr>\n",
       "      <th>min</th>\n",
       "      <td>0.00000</td>\n",
       "      <td>17.000000</td>\n",
       "      <td>10.000000</td>\n",
       "    </tr>\n",
       "    <tr>\n",
       "      <th>25%</th>\n",
       "      <td>57.00000</td>\n",
       "      <td>59.000000</td>\n",
       "      <td>57.750000</td>\n",
       "    </tr>\n",
       "    <tr>\n",
       "      <th>50%</th>\n",
       "      <td>66.00000</td>\n",
       "      <td>70.000000</td>\n",
       "      <td>69.000000</td>\n",
       "    </tr>\n",
       "    <tr>\n",
       "      <th>75%</th>\n",
       "      <td>77.00000</td>\n",
       "      <td>79.000000</td>\n",
       "      <td>79.000000</td>\n",
       "    </tr>\n",
       "    <tr>\n",
       "      <th>max</th>\n",
       "      <td>100.00000</td>\n",
       "      <td>100.000000</td>\n",
       "      <td>100.000000</td>\n",
       "    </tr>\n",
       "  </tbody>\n",
       "</table>\n",
       "</div>"
      ],
      "text/plain": [
       "       math score  reading score  writing score\n",
       "count  1000.00000    1000.000000    1000.000000\n",
       "mean     66.08900      69.169000      68.054000\n",
       "std      15.16308      14.600192      15.195657\n",
       "min       0.00000      17.000000      10.000000\n",
       "25%      57.00000      59.000000      57.750000\n",
       "50%      66.00000      70.000000      69.000000\n",
       "75%      77.00000      79.000000      79.000000\n",
       "max     100.00000     100.000000     100.000000"
      ]
     },
     "execution_count": 67,
     "metadata": {},
     "output_type": "execute_result"
    }
   ],
   "source": [
    "df_studentsperformance.describe()"
   ]
  },
  {
   "cell_type": "code",
   "execution_count": 68,
   "metadata": {},
   "outputs": [
    {
     "data": {
      "text/plain": [
       "gender                         0\n",
       "race/ethnicity                 0\n",
       "parental level of education    0\n",
       "lunch                          0\n",
       "test preparation course        0\n",
       "math score                     0\n",
       "reading score                  0\n",
       "writing score                  0\n",
       "dtype: int64"
      ]
     },
     "execution_count": 68,
     "metadata": {},
     "output_type": "execute_result"
    }
   ],
   "source": [
    "# Checking to see if there's missing data\n",
    "\n",
    "# No missing data, so no need to apply any null stripping\n",
    "df_studentsperformance.isna().sum()"
   ]
  },
  {
   "cell_type": "code",
   "execution_count": 82,
   "metadata": {},
   "outputs": [
    {
     "name": "stdout",
     "output_type": "stream",
     "text": [
      "Jarque-Bera test statistics is 15.912256686712709 and p value is 0.0003505075386818213\n",
      "Normality test statistics is 15.408960513931822 and p value is 0.00045080293869937836\n",
      "Jarque-Bera test statistics is 11.383300575987892 and p value is 0.0033740202672214448\n",
      "Normality test statistics is 11.11741279628622 and p value is 0.003853758403576582\n",
      "Jarque-Bera test statistics is 13.98509448257235 and p value is 0.0009187033894586527\n",
      "Normality test statistics is 13.606450837263859 and p value is 0.0011101885439899974\n"
     ]
    },
    {
     "data": {
      "image/png": "[encoded data removed]",
      "text/plain": [
       "<Figure size 1296x1080 with 3 Axes>"
      ]
     },
     "metadata": {},
     "output_type": "display_data"
    }
   ],
   "source": [
    "from scipy.stats import jarque_bera\n",
    "from scipy.stats import normaltest\n",
    "\n",
    "# checking to determine if the test scores are normally distributed\n",
    "plt.figure(figsize=(18,15))\n",
    "\n",
    "# histograms of the original data\n",
    "plt.subplot(3, 3, 1)\n",
    "plt.hist(df_studentsperformance['math score'])\n",
    "plt.title('histogram of math scores')\n",
    "\n",
    "plt.subplot(3, 3, 2)\n",
    "plt.hist(df_studentsperformance['reading score'])\n",
    "plt.title('histogram of reading scores')\n",
    "\n",
    "plt.subplot(3, 3, 3)\n",
    "plt.hist(df_studentsperformance['writing score'])\n",
    "plt.title('histogram of writing scores')\n",
    "\n",
    "\n",
    "# statistically test the data with jarque-bera and normaltest\n",
    "jb_stats = jarque_bera(df_studentsperformance['math score'])\n",
    "norm_stats = normaltest(df_studentsperformance['math score'])\n",
    "\n",
    "print(\"Jarque-Bera test statistics is {0} and p value is {1}\".format(jb_stats[0], jb_stats[1]))\n",
    "print(\"Normality test statistics is {0} and p value is {1}\".format(norm_stats[0], norm_stats[1]))\n",
    "\n",
    "jb_stats = jarque_bera(df_studentsperformance['reading score'])\n",
    "norm_stats = normaltest(df_studentsperformance['reading score'])\n",
    "\n",
    "print(\"Jarque-Bera test statistics is {0} and p value is {1}\".format(jb_stats[0], jb_stats[1]))\n",
    "print(\"Normality test statistics is {0} and p value is {1}\".format(norm_stats[0], norm_stats[1]))\n",
    "\n",
    "jb_stats = jarque_bera(df_studentsperformance['writing score'])\n",
    "norm_stats = normaltest(df_studentsperformance['writing score'])\n",
    "\n",
    "print(\"Jarque-Bera test statistics is {0} and p value is {1}\".format(jb_stats[0], jb_stats[1]))\n",
    "print(\"Normality test statistics is {0} and p value is {1}\".format(norm_stats[0], norm_stats[1]))"
   ]
  },
  {
   "cell_type": "markdown",
   "metadata": {},
   "source": [
    "Visually, the scores look relatively normal, however, the jarque_bera and normaltest to confirmed, statistically, that the raw data isn't very normal. Apply Box-Cox to attempt to normalize data."
   ]
  },
  {
   "cell_type": "code",
   "execution_count": 83,
   "metadata": {},
   "outputs": [
    {
     "data": {
      "image/png": "[encoded data removed]",
      "text/plain": [
       "<Figure size 1296x360 with 3 Axes>"
      ]
     },
     "metadata": {},
     "output_type": "display_data"
    },
    {
     "name": "stdout",
     "output_type": "stream",
     "text": [
      "Jarque-Bera test statistics is 1.7200980667409385 and p value is 0.4231413337632879\n",
      "Normality test statistics is 1.8323072783414356 and p value is 0.40005484084042864\n",
      "Jarque-Bera test statistics is 4.119778575331906 and p value is 0.1274680814024559\n",
      "Normality test statistics is 5.282274611852865 and p value is 0.07128015609575467\n",
      "Jarque-Bera test statistics is 4.746478090040098 and p value is 0.09317842784055597\n",
      "Normality test statistics is 6.267311355043339 and p value is 0.04355827085023795\n"
     ]
    }
   ],
   "source": [
    "math_score_boxcox,_ = boxcox(df_studentsperformance[df_studentsperformance['math score'] > 0]['math score'])\n",
    "reading_score_boxcox,_ = boxcox(df_studentsperformance['reading score'])\n",
    "writing_score_boxcox,_ = boxcox(df_studentsperformance['writing score'])\n",
    "\n",
    "plt.figure(figsize=(18,5))\n",
    "\n",
    "# histograms of the box-cox transformed data\n",
    "plt.subplot(1, 3, 1)\n",
    "plt.hist(math_score_boxcox)\n",
    "plt.title(\"histogram of math scores (box-cox transformed)\")\n",
    "\n",
    "plt.subplot(1, 3, 2)\n",
    "plt.hist(reading_score_boxcox)\n",
    "plt.title(\"histogram of reading scores (box-cox transformed)\")\n",
    "\n",
    "plt.subplot(1, 3, 3)\n",
    "plt.hist(writing_score_boxcox)\n",
    "plt.title(\"histogram of writing scores (box-cox transformed)\")\n",
    "\n",
    "plt.show()\n",
    "\n",
    "\n",
    "# statistically test the data with jarque-bera and normaltest\n",
    "jb_stats = jarque_bera(math_score_boxcox)\n",
    "norm_stats = normaltest(math_score_boxcox)\n",
    "\n",
    "print(\"Jarque-Bera test statistics is {0} and p value is {1}\".format(jb_stats[0], jb_stats[1]))\n",
    "print(\"Normality test statistics is {0} and p value is {1}\".format(norm_stats[0], norm_stats[1]))\n",
    "\n",
    "jb_stats = jarque_bera(reading_score_boxcox)\n",
    "norm_stats = normaltest(reading_score_boxcox)\n",
    "\n",
    "print(\"Jarque-Bera test statistics is {0} and p value is {1}\".format(jb_stats[0], jb_stats[1]))\n",
    "print(\"Normality test statistics is {0} and p value is {1}\".format(norm_stats[0], norm_stats[1]))\n",
    "\n",
    "jb_stats = jarque_bera(writing_score_boxcox)\n",
    "norm_stats = normaltest(writing_score_boxcox)\n",
    "\n",
    "print(\"Jarque-Bera test statistics is {0} and p value is {1}\".format(jb_stats[0], jb_stats[1]))\n",
    "print(\"Normality test statistics is {0} and p value is {1}\".format(norm_stats[0], norm_stats[1]))"
   ]
  },
  {
   "cell_type": "markdown",
   "metadata": {},
   "source": [
    "The Box-Cox method improved the normality of the distribution. However, the data no longer goes from 0-100 as would reflect typical grading systems. Statistically test normality with jarque-bera and normaltest."
   ]
  },
  {
   "cell_type": "markdown",
   "metadata": {},
   "source": [
    "Tests support normality is improved and still within the 0.05 threshold of significance."
   ]
  },
  {
   "cell_type": "markdown",
   "metadata": {},
   "source": [
    "### 2. Say we want to use a single variable for the exam scores as our target. For this purpose, create a new variable by taking a weighted average of the exam scores. Check whether this new variable is normally distributed. If it's not normally distributed, apply a Box-Cox transformation and check whether or not the transformed variable is normally distributed."
   ]
  },
  {
   "cell_type": "code",
   "execution_count": 73,
   "metadata": {},
   "outputs": [
    {
     "data": {
      "image/png": "[encoded data removed]",
      "text/plain": [
       "<Figure size 432x288 with 1 Axes>"
      ]
     },
     "metadata": {},
     "output_type": "display_data"
    },
    {
     "name": "stdout",
     "output_type": "stream",
     "text": [
      "Jarque-Bera test statistics is 15.453387913085164 and p value is 0.00044089934264401887\n",
      "Normality test statistics is 15.186721327231322 and p value is 0.0005037851534494478\n"
     ]
    }
   ],
   "source": [
    "wt_avg_scores = (df_studentsperformance['math score'] +\n",
    "              df_studentsperformance['reading score'] + df_studentsperformance['writing score'])/3\n",
    "\n",
    "plt.hist(wt_avg_scores)\n",
    "plt.title(\"histogram of weighted avg of test scores\")\n",
    "plt.show()\n",
    "\n",
    "jb_stats = jarque_bera(wt_avg_scores)\n",
    "norm_stats = normaltest(wt_avg_scores)\n",
    "\n",
    "print(\"Jarque-Bera test statistics is {0} and p value is {1}\".format(jb_stats[0], jb_stats[1]))\n",
    "print(\"Normality test statistics is {0} and p value is {1}\".format(norm_stats[0], norm_stats[1]))"
   ]
  },
  {
   "cell_type": "markdown",
   "metadata": {},
   "source": [
    "This new featuer(variable) seems to look normal but statistically, can be improved. Point is to learn from statistical analysis over visual in cases like this."
   ]
  },
  {
   "cell_type": "code",
   "execution_count": 74,
   "metadata": {},
   "outputs": [
    {
     "name": "stdout",
     "output_type": "stream",
     "text": [
      "Jarque-Bera test statistics is 2.4353987431906026 and p value is 0.29591016374203183\n",
      "Normality test statistics is 2.779857245981238 and p value is 0.2490930835165177\n"
     ]
    },
    {
     "data": {
      "image/png": "[encoded data removed]",
      "text/plain": [
       "<Figure size 1296x360 with 1 Axes>"
      ]
     },
     "metadata": {},
     "output_type": "display_data"
    }
   ],
   "source": [
    "wt_avg_scores_boxcox,_ = boxcox(wt_avg_scores)\n",
    "\n",
    "plt.figure(figsize=(18,5))\n",
    "\n",
    "# histograms of the box-cox transformed data\n",
    "plt.subplot(1, 3, 1)\n",
    "plt.hist(wt_avg_scores_boxcox)\n",
    "plt.title('histogram of test scores (box-cox transformed)')\n",
    "          \n",
    "jb_stats = jarque_bera(wt_avg_scores_boxcox)\n",
    "norm_stats = normaltest(wt_avg_scores_boxcox)\n",
    "\n",
    "print(\"Jarque-Bera test statistics is {0} and p value is {1}\".format(jb_stats[0], jb_stats[1]))\n",
    "print(\"Normality test statistics is {0} and p value is {1}\".format(norm_stats[0], norm_stats[1]))"
   ]
  },
  {
   "cell_type": "markdown",
   "metadata": {},
   "source": [
    "The jarque-bera and ttest and histogram of the Box-Cox transformation confirm the data is now relatively normalized compared to the raw data version."
   ]
  },
  {
   "cell_type": "markdown",
   "metadata": {},
   "source": [
    "### 3. Which variables seem related to the target variable (the newly created variable in the previous question)? If our goal is to explain the determinants of success in exams, which variables in our dataset might be useful?"
   ]
  },
  {
   "cell_type": "code",
   "execution_count": 75,
   "metadata": {},
   "outputs": [
    {
     "data": {
      "text/html": [
       "<div>\n",
       "<style scoped>\n",
       "    .dataframe tbody tr th:only-of-type {\n",
       "        vertical-align: middle;\n",
       "    }\n",
       "\n",
       "    .dataframe tbody tr th {\n",
       "        vertical-align: top;\n",
       "    }\n",
       "\n",
       "    .dataframe thead th {\n",
       "        text-align: right;\n",
       "    }\n",
       "</style>\n",
       "<table border=\"1\" class=\"dataframe\">\n",
       "  <thead>\n",
       "    <tr style=\"text-align: right;\">\n",
       "      <th></th>\n",
       "      <th>gender</th>\n",
       "      <th>race/ethnicity</th>\n",
       "      <th>parental level of education</th>\n",
       "      <th>lunch</th>\n",
       "      <th>test preparation course</th>\n",
       "      <th>math score</th>\n",
       "      <th>reading score</th>\n",
       "      <th>writing score</th>\n",
       "      <th>wt_avg_scores</th>\n",
       "    </tr>\n",
       "  </thead>\n",
       "  <tbody>\n",
       "    <tr>\n",
       "      <th>0</th>\n",
       "      <td>female</td>\n",
       "      <td>group B</td>\n",
       "      <td>bachelor's degree</td>\n",
       "      <td>standard</td>\n",
       "      <td>none</td>\n",
       "      <td>72</td>\n",
       "      <td>72</td>\n",
       "      <td>74</td>\n",
       "      <td>72.666667</td>\n",
       "    </tr>\n",
       "    <tr>\n",
       "      <th>1</th>\n",
       "      <td>female</td>\n",
       "      <td>group C</td>\n",
       "      <td>some college</td>\n",
       "      <td>standard</td>\n",
       "      <td>completed</td>\n",
       "      <td>69</td>\n",
       "      <td>90</td>\n",
       "      <td>88</td>\n",
       "      <td>82.333333</td>\n",
       "    </tr>\n",
       "    <tr>\n",
       "      <th>2</th>\n",
       "      <td>female</td>\n",
       "      <td>group B</td>\n",
       "      <td>master's degree</td>\n",
       "      <td>standard</td>\n",
       "      <td>none</td>\n",
       "      <td>90</td>\n",
       "      <td>95</td>\n",
       "      <td>93</td>\n",
       "      <td>92.666667</td>\n",
       "    </tr>\n",
       "    <tr>\n",
       "      <th>3</th>\n",
       "      <td>male</td>\n",
       "      <td>group A</td>\n",
       "      <td>associate's degree</td>\n",
       "      <td>free/reduced</td>\n",
       "      <td>none</td>\n",
       "      <td>47</td>\n",
       "      <td>57</td>\n",
       "      <td>44</td>\n",
       "      <td>49.333333</td>\n",
       "    </tr>\n",
       "    <tr>\n",
       "      <th>4</th>\n",
       "      <td>male</td>\n",
       "      <td>group C</td>\n",
       "      <td>some college</td>\n",
       "      <td>standard</td>\n",
       "      <td>none</td>\n",
       "      <td>76</td>\n",
       "      <td>78</td>\n",
       "      <td>75</td>\n",
       "      <td>76.333333</td>\n",
       "    </tr>\n",
       "  </tbody>\n",
       "</table>\n",
       "</div>"
      ],
      "text/plain": [
       "   gender race/ethnicity parental level of education         lunch  \\\n",
       "0  female        group B           bachelor's degree      standard   \n",
       "1  female        group C                some college      standard   \n",
       "2  female        group B             master's degree      standard   \n",
       "3    male        group A          associate's degree  free/reduced   \n",
       "4    male        group C                some college      standard   \n",
       "\n",
       "  test preparation course  math score  reading score  writing score  \\\n",
       "0                    none          72             72             74   \n",
       "1               completed          69             90             88   \n",
       "2                    none          90             95             93   \n",
       "3                    none          47             57             44   \n",
       "4                    none          76             78             75   \n",
       "\n",
       "   wt_avg_scores  \n",
       "0      72.666667  \n",
       "1      82.333333  \n",
       "2      92.666667  \n",
       "3      49.333333  \n",
       "4      76.333333  "
      ]
     },
     "execution_count": 75,
     "metadata": {},
     "output_type": "execute_result"
    }
   ],
   "source": [
    "df_studentsperformance['wt_avg_scores'] = wt_avg_scores\n",
    "df_studentsperformance.head()"
   ]
  },
  {
   "cell_type": "code",
   "execution_count": 76,
   "metadata": {},
   "outputs": [
    {
     "name": "stdout",
     "output_type": "stream",
     "text": [
      "gender\n",
      "female    69.569498\n",
      "male      65.837483\n",
      "Name: wt_avg_scores, dtype: float64\n"
     ]
    },
    {
     "data": {
      "text/plain": [
       "Ttest_indResult(statistic=array([4.16991353]), pvalue=array([3.31197364e-05]))"
      ]
     },
     "execution_count": 76,
     "metadata": {},
     "output_type": "execute_result"
    }
   ],
   "source": [
    "# Statistically evaluate correlations of above variables with the weighted average of all exam scores.\n",
    "\n",
    "wt_avg_gender_perform = df_studentsperformance.groupby('gender').mean()['wt_avg_scores']\n",
    "print(wt_avg_gender_perform)\n",
    "\n",
    "ttest_ind(df_studentsperformance[df_studentsperformance.gender == \"female\"][['wt_avg_scores']],\n",
    "          df_studentsperformance[df_studentsperformance.gender == \"male\"][['wt_avg_scores']])"
   ]
  },
  {
   "cell_type": "code",
   "execution_count": 77,
   "metadata": {},
   "outputs": [
    {
     "name": "stdout",
     "output_type": "stream",
     "text": [
      "race/ethnicity\n",
      "group A    62.992509\n",
      "group B    65.468421\n",
      "group C    67.131661\n",
      "group D    69.179389\n",
      "group E    72.752381\n",
      "Name: wt_avg_scores, dtype: float64\n",
      "------------------------------------------------\n",
      "Comparisons for performance: wt_avg_scores\n",
      "------------------------------------------------\n",
      "t-test between groups group B and group C:\n",
      "Ttest_indResult(statistic=-1.2782467415831538, pvalue=0.20174731227733955)\n",
      "t-test between groups group B and group A:\n",
      "Ttest_indResult(statistic=1.3165043669633527, pvalue=0.1890930589509443)\n",
      "t-test between groups group B and group D:\n",
      "Ttest_indResult(statistic=-2.8031083992077255, pvalue=0.005279949204374891)\n",
      "t-test between groups group B and group E:\n",
      "Ttest_indResult(statistic=-4.46037807261396, pvalue=1.1254806793764281e-05)\n",
      "t-test between groups group C and group A:\n",
      "Ttest_indResult(statistic=2.4665932040951084, pvalue=0.01405260483160102)\n",
      "t-test between groups group C and group D:\n",
      "Ttest_indResult(statistic=-1.8063576953600955, pvalue=0.07138158673813609)\n",
      "t-test between groups group C and group E:\n",
      "Ttest_indResult(statistic=-3.9358689466045482, pvalue=9.580199335080225e-05)\n",
      "t-test between groups group A and group D:\n",
      "Ttest_indResult(statistic=-3.7179415923386636, pvalue=0.00023390416748799778)\n",
      "t-test between groups group A and group E:\n",
      "Ttest_indResult(statistic=-4.958668289961606, pvalue=1.389791046951768e-06)\n",
      "t-test between groups group D and group E:\n",
      "Ttest_indResult(statistic=-2.4870480585806196, pvalue=0.013287580176112115)\n"
     ]
    }
   ],
   "source": [
    "wt_avg_ethnicity_perform = df_studentsperformance.groupby('race/ethnicity').mean()['wt_avg_scores']\n",
    "print(wt_avg_ethnicity_perform)\n",
    "\n",
    "ethnicities = df_studentsperformance[\"race/ethnicity\"].unique()\n",
    "df_grp_ethnicities = df_studentsperformance.groupby(\"race/ethnicity\")\n",
    "for var in ['wt_avg_scores']:\n",
    "    print(\"------------------------------------------------\")\n",
    "    print(\"Comparisons for performance: {}\".format(var))\n",
    "    print(\"------------------------------------------------\")\n",
    "    for i in range(0, len(ethnicities)):\n",
    "        for j in range(i+1, len(ethnicities)):\n",
    "            print(\n",
    "                \"t-test between groups {0} and {1}:\".format(ethnicities[i], ethnicities[j]))\n",
    "            print(ttest_ind(\n",
    "                df_studentsperformance[df_studentsperformance[\"race/ethnicity\"]\n",
    "                           == ethnicities[i]][var],\n",
    "                df_studentsperformance[df_studentsperformance[\"race/ethnicity\"] == ethnicities[j]][var]\n",
    "            ))"
   ]
  },
  {
   "cell_type": "code",
   "execution_count": 78,
   "metadata": {},
   "outputs": [
    {
     "name": "stdout",
     "output_type": "stream",
     "text": [
      "parental level of education\n",
      "associate's degree    69.569069\n",
      "bachelor's degree     71.923729\n",
      "high school           63.096939\n",
      "master's degree       73.598870\n",
      "some college          68.476401\n",
      "some high school      65.108007\n",
      "Name: wt_avg_scores, dtype: float64\n",
      "------------------------------------------------\n",
      "Comparisons for performance: wt_avg_scores\n",
      "------------------------------------------------\n",
      "t-test between groups bachelor's degree and some college:\n",
      "Ttest_indResult(statistic=2.200746866670862, pvalue=0.028421853941795295)\n",
      "t-test between groups bachelor's degree and master's degree:\n",
      "Ttest_indResult(statistic=-0.7594769500339048, pvalue=0.4485891321202008)\n",
      "t-test between groups bachelor's degree and associate's degree:\n",
      "Ttest_indResult(statistic=1.5013009645983189, pvalue=0.13421131516223408)\n",
      "t-test between groups bachelor's degree and high school:\n",
      "Ttest_indResult(statistic=5.539323736236874, pvalue=6.457780161976827e-08)\n",
      "t-test between groups bachelor's degree and some high school:\n",
      "Ttest_indResult(statistic=3.941854876966818, pvalue=0.00010103335958568066)\n",
      "t-test between groups some college and master's degree:\n",
      "Ttest_indResult(statistic=-2.5596520690466438, pvalue=0.010997532204148747)\n",
      "t-test between groups some college and associate's degree:\n",
      "Ttest_indResult(statistic=-0.8445790843436104, pvalue=0.3987986989245852)\n",
      "t-test between groups some college and high school:\n",
      "Ttest_indResult(statistic=4.047081496222537, pvalue=6.174004426350981e-05)\n",
      "t-test between groups some college and some high school:\n",
      "Ttest_indResult(statistic=2.356277575721359, pvalue=0.018937067340475434)\n",
      "t-test between groups master's degree and associate's degree:\n",
      "Ttest_indResult(statistic=2.0146345761094264, pvalue=0.044902247757124626)\n",
      "t-test between groups master's degree and high school:\n",
      "Ttest_indResult(statistic=5.226505457467739, pvalue=3.615968596010533e-07)\n",
      "t-test between groups master's degree and some high school:\n",
      "Ttest_indResult(statistic=3.859155347095061, pvalue=0.00014689256269948114)\n",
      "t-test between groups associate's degree and high school:\n",
      "Ttest_indResult(statistic=4.8568272185010555, pvalue=1.6916651763781133e-06)\n",
      "t-test between groups associate's degree and some high school:\n",
      "Ttest_indResult(statistic=3.1116745225162394, pvalue=0.0019941146059025677)\n",
      "t-test between groups high school and some high school:\n",
      "Ttest_indResult(statistic=-1.36670774310701, pvalue=0.17254014007827484)\n"
     ]
    }
   ],
   "source": [
    "wt_avg_parent_ed_perform = df_studentsperformance.groupby('parental level of education').mean()['wt_avg_scores']\n",
    "print(wt_avg_parent_ed_perform)\n",
    "\n",
    "# Test whether group differences are significant.\n",
    "df_parental_edu = df_studentsperformance['parental level of education'].unique()\n",
    "df_grp_parental_edu = df_studentsperformance.groupby('parental level of education')\n",
    "for var in ['wt_avg_scores']:\n",
    "    print(\"------------------------------------------------\")\n",
    "    print(\"Comparisons for performance: {}\".format(var))\n",
    "    print(\"------------------------------------------------\")\n",
    "    for i in range(0, len(df_parental_edu)):\n",
    "        for j in range(i+1, len(df_parental_edu)):\n",
    "            print(\n",
    "                \"t-test between groups {0} and {1}:\".format(df_parental_edu[i], df_parental_edu[j]))\n",
    "            print(ttest_ind(\n",
    "                df_studentsperformance[df_studentsperformance['parental level of education']\n",
    "                           == df_parental_edu[i]][var],\n",
    "                df_studentsperformance[df_studentsperformance['parental level of education'] == df_parental_edu[j]][var]\n",
    "            ))"
   ]
  },
  {
   "cell_type": "code",
   "execution_count": 79,
   "metadata": {},
   "outputs": [
    {
     "data": {
      "image/png": "[encoded data removed]",
      "text/plain": [
       "<Figure size 1296x720 with 5 Axes>"
      ]
     },
     "metadata": {},
     "output_type": "display_data"
    }
   ],
   "source": [
    "# plot for visual aid\n",
    "\n",
    "\n",
    "plt.figure(figsize=(18, 10))\n",
    "\n",
    "plt.subplot(2, 3, 1)\n",
    "plt.bar(df_studentsperformance.groupby('race/ethnicity')\n",
    "        ['wt_avg_scores'].mean().index, df_studentsperformance.groupby('race/ethnicity')['wt_avg_scores'].mean())\n",
    "\n",
    "plt.title('weighted avg test scores vs race/ethnicity')\n",
    "plt.xticks(rotation=\"vertical\")\n",
    "\n",
    "plt.subplot(2, 3, 2)\n",
    "plt.bar(df_studentsperformance.groupby('gender')\n",
    "        ['wt_avg_scores'].mean().index, df_studentsperformance.groupby('gender')['wt_avg_scores'].mean())\n",
    "\n",
    "plt.title('weighted avg test scores vs gender')\n",
    "plt.xticks(rotation=\"vertical\")\n",
    "\n",
    "plt.subplot(2, 3, 3)\n",
    "plt.bar(df_studentsperformance.groupby(\"parental level of education\")\n",
    "        ['wt_avg_scores'].mean().index, df_studentsperformance.groupby(\"parental level of education\")['wt_avg_scores'].mean())\n",
    "\n",
    "plt.title('weighted avg test scores vs parental level of education')\n",
    "plt.xticks(rotation=\"vertical\")\n",
    "\n",
    "plt.subplot(2, 3, 4)\n",
    "plt.bar(df_studentsperformance.groupby(\"lunch\")\n",
    "        ['wt_avg_scores'].mean().index, df_studentsperformance.groupby(\"lunch\")['wt_avg_scores'].mean())\n",
    "\n",
    "plt.title('weighted avg test scores vs lunch')\n",
    "plt.xticks(rotation=\"vertical\")\n",
    "\n",
    "plt.subplot(2, 3, 5)\n",
    "plt.bar(df_studentsperformance.groupby(\"test preparation course\")\n",
    "        ['wt_avg_scores'].mean().index, df_studentsperformance.groupby(\"test preparation course\")['wt_avg_scores'].mean())\n",
    "\n",
    "plt.title('weighted avg test scores vs test preparation course')\n",
    "plt.xticks(rotation=\"vertical\")\n",
    "\n",
    "plt.tight_layout()\n",
    "plt.show()"
   ]
  },
  {
   "cell_type": "markdown",
   "metadata": {},
   "source": [
    "- Group E seems to outperform all the other groups\n",
    "- Females tend to perform better than males\n",
    "- In general, parents with any college education results in broad improvement in student test scores for these subjects. The extreme differences are high school diploma vs masters degree (lowest to highest scores). One question to raise is that \"some high school\" is outperforming \"high school\". This can be interpreted as student's where parents didn't graduate high shcool outperformed students with parents that graduated high school. Since this data is pre-Box-Cox, this could be artifact; or there could be another study to go after. All-in-all, the average test scores are within ~10 percentage points, with no category in the failing range...commentarily, this is a low bar.\n",
    "- Standard lunch schedules tend to benefit students more than the free/reduced style.\n",
    "- Students who prepared for the tests seemed to do better in genera. Also, this seems to be one of the largest deltas in the results."
   ]
  },
  {
   "cell_type": "code",
   "execution_count": null,
   "metadata": {},
   "outputs": [],
   "source": []
  }
 ],
 "metadata": {
  "kernelspec": {
   "display_name": "Python 3",
   "language": "python",
   "name": "python3"
  },
  "language_info": {
   "codemirror_mode": {
    "name": "ipython",
    "version": 3
   },
   "file_extension": ".py",
   "mimetype": "text/x-python",
   "name": "python",
   "nbconvert_exporter": "python",
   "pygments_lexer": "ipython3",
   "version": "3.6.5"
  }
 },
 "nbformat": 4,
 "nbformat_minor": 2
}
