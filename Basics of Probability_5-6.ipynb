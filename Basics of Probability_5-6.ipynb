{
 "cells": [
  {
   "cell_type": "code",
   "execution_count": 1,
   "metadata": {
    "scrolled": true
   },
   "outputs": [
    {
     "ename": "SyntaxError",
     "evalue": "can't assign to function call (<ipython-input-1-ca82ab8a19a3>, line 9)",
     "output_type": "error",
     "traceback": [
      "\u001b[1;36m  File \u001b[1;32m\"<ipython-input-1-ca82ab8a19a3>\"\u001b[1;36m, line \u001b[1;32m9\u001b[0m\n\u001b[1;33m    P(h) = 1/2\u001b[0m\n\u001b[1;37m              ^\u001b[0m\n\u001b[1;31mSyntaxError\u001b[0m\u001b[1;31m:\u001b[0m can't assign to function call\n"
     ]
    }
   ],
   "source": [
    "#Calculate probability of coin flips in specific orders\n",
    "\n",
    "#import packages\n",
    "import numpy as np\n",
    "import random\n",
    "\n",
    "#define probability of heads and tails\n",
    "\n",
    "P(h) = 1/2\n",
    "P(t) = 1/2\n",
    "\n",
    "#find probaility of coin flip in this order (HTTH, HHHH, TTHH)\n",
    "# HTTH\n",
    "p = (1/2) * (1/2) * (1/2) * (1/2)\n",
    "\n",
    "# HHHH\n",
    "p = (1/2) * (1/2) * (1/2) * (1/2)\n",
    "\n",
    "# TTHH\n",
    "p = (1/2) * (1/2) * (1/2) * (1/2)"
   ]
  },
  {
   "cell_type": "code",
   "execution_count": 6,
   "metadata": {},
   "outputs": [
    {
     "name": "stdout",
     "output_type": "stream",
     "text": [
      "0.5333333333333333\n",
      "0.4666666666666667\n"
     ]
    }
   ],
   "source": [
    "#probability of choosing woman vs man\n",
    "\n",
    "#import packages\n",
    "import numpy as np\n",
    "import random\n",
    "\n",
    "women = 24\n",
    "men = 21\n",
    "total = 45\n",
    "\n",
    "print(women/total)\n",
    "print(men/total)\n"
   ]
  },
  {
   "cell_type": "code",
   "execution_count": 5,
   "metadata": {},
   "outputs": [
    {
     "name": "stdout",
     "output_type": "stream",
     "text": [
      "5e-06\n"
     ]
    }
   ],
   "source": [
    "#import packages\n",
    "import numpy as np\n",
    "import random\n",
    "\n",
    "#The probability that Bernice will travel by plane sometime in the next year is 10%. \n",
    "#The probability of a plane crash at any time is .005%. \n",
    "#What is the probability that Bernice will be in a plane crash sometime in the next year?\n",
    "\n",
    "p_travel = .10\n",
    "p_crash = .00005\n",
    "\n",
    "print(p_travel * p_crash)"
   ]
  },
  {
   "cell_type": "code",
   "execution_count": null,
   "metadata": {},
   "outputs": [],
   "source": [
    "#A data scientist wants to study the behavior of users on the company website. \n",
    "#Each time a user clicks on a link on the website, there is a 5% chance that the user will be asked to complete\n",
    "# a short survey about their behavior on the website. \n",
    "#The data scientist uses the survey data to conclude that, on average, users spend 15 minutes \n",
    "#surfing the company website before moving on to other things. \n",
    "#What is wrong with this conclusion?\n",
    "\n",
    "# There could be multiple answers from the same user(s), or responses may only be grabbing info from highly-interested users...\n",
    "# and that might not be representative of everyone who visits the site."
   ]
  },
  {
   "cell_type": "code",
   "execution_count": 8,
   "metadata": {},
   "outputs": [
    {
     "name": "stdout",
     "output_type": "stream",
     "text": [
      "0.1044\n"
     ]
    }
   ],
   "source": [
    "#A diagnostic test has a 98% probability of giving a positive result when applied to a person suffering from Thripshaw's Disease,\n",
    "# and 10% probability of giving a (false) positive when applied to a non-sufferer. \n",
    "# It is estimated that 0.5 % of the population are sufferers. \n",
    "# Suppose that the test is now administered to a person whose disease status is unknown. \n",
    "# Calculate the probability that the test will: \n",
    "\n",
    "# Be Positive\n",
    "\n",
    "#import packages\n",
    "import numpy as np\n",
    "import random\n",
    "\n",
    "pos_test = .98\n",
    "false_pos = .1\n",
    "pop_suffer = .005\n",
    "pop_non_suffer = .995\n",
    "\n",
    "positive = .98 * .005 + .1 * .995\n",
    "print(positive)\n"
   ]
  },
  {
   "cell_type": "code",
   "execution_count": null,
   "metadata": {},
   "outputs": [],
   "source": [
    "# Correctly diagnose a sufferer of Thripshaw's\n",
    ".98"
   ]
  },
  {
   "cell_type": "code",
   "execution_count": 9,
   "metadata": {},
   "outputs": [
    {
     "name": "stdout",
     "output_type": "stream",
     "text": [
      "0.8955\n"
     ]
    }
   ],
   "source": [
    "# Correctly identify a non-sufferer of Thripshaw's\n",
    "#import packages\n",
    "import numpy as np\n",
    "import random\n",
    "\n",
    "test_neg = .9\n",
    "pop_non_suffer = .995\n",
    "\n",
    "non_suffer = .9 * .995\n",
    "print(non_suffer)"
   ]
  },
  {
   "cell_type": "code",
   "execution_count": 10,
   "metadata": {},
   "outputs": [
    {
     "name": "stdout",
     "output_type": "stream",
     "text": [
      "0.09960000000000001\n"
     ]
    }
   ],
   "source": [
    "# Misclassify the person\n",
    "\n",
    "#import packages\n",
    "import numpy as np\n",
    "import random\n",
    "\n",
    "false_pos = .1\n",
    "false_neg = .02\n",
    "pop_suffer = .005\n",
    "pop_non_sufer = .995\n",
    "\n",
    "misdiagnose = .1 * .995 + .02 * .005\n",
    "print(misdiagnose)"
   ]
  },
  {
   "cell_type": "code",
   "execution_count": null,
   "metadata": {},
   "outputs": [],
   "source": []
  }
 ],
 "metadata": {
  "kernelspec": {
   "display_name": "Python 3",
   "language": "python",
   "name": "python3"
  },
  "language_info": {
   "codemirror_mode": {
    "name": "ipython",
    "version": 3
   },
   "file_extension": ".py",
   "mimetype": "text/x-python",
   "name": "python",
   "nbconvert_exporter": "python",
   "pygments_lexer": "ipython3",
   "version": "3.7.3"
  }
 },
 "nbformat": 4,
 "nbformat_minor": 2
}
