{
 "cells": [
  {
   "cell_type": "code",
   "execution_count": 83,
   "metadata": {},
   "outputs": [],
   "source": [
    "# Reproduce the pop1 and pop2 populations and samples using numpy's binomial function. Specifically, \n",
    "# create two binomially distributed populations with n equal to 10 and size equal to 10000. \n",
    "# The p-value of pop1 should be 0.2 and the p-value of pop2 should be 0.5. \n",
    "# Using a sample size of 100, calculate the means and standard deviations of your samples."
   ]
  },
  {
   "cell_type": "code",
   "execution_count": 84,
   "metadata": {},
   "outputs": [],
   "source": [
    "# Import necessary packages for population, sampling, ttest, pvalue\n",
    "import numpy as np\n",
    "import pandas as pd\n",
    "import scipy\n",
    "import matplotlib.pyplot as plt\n",
    "%matplotlib inline"
   ]
  },
  {
   "cell_type": "code",
   "execution_count": 100,
   "metadata": {
    "scrolled": true
   },
   "outputs": [
    {
     "name": "stdout",
     "output_type": "stream",
     "text": [
      "1.2465106337292113\n",
      "1.5628604416261869\n"
     ]
    },
    {
     "data": {
      "image/png": "[encoded data removed]",
      "text/plain": [
       "<Figure size 432x288 with 1 Axes>"
      ]
     },
     "metadata": {
      "needs_background": "light"
     },
     "output_type": "display_data"
    }
   ],
   "source": [
    "# create 2 populations with n = 10, and size equal to 10000. \n",
    "# The p-value value of pop1 should be 0.2 and the p-value of pop2 should be 0.5.\n",
    "\n",
    "pop = 10000\n",
    "pval_1 = 0.2\n",
    "n = 10\n",
    "\n",
    "pval_2 = 0.5\n",
    "\n",
    "pop1 = np.random.binomial(n, pval_1, pop)\n",
    "pop2 = np.random.binomial(n, pval_2, pop)\n",
    "\n",
    "#create std for binomial for input into normal distribution example to \n",
    "# compare apples/apples\n",
    "print(pop1.std())\n",
    "print(pop2.std())\n",
    "\n",
    "#plot\n",
    "plt.hist(pop1, alpha=0.5, label='pop_1') \n",
    "plt.hist(pop2, alpha=0.5, label='pop_2') \n",
    "plt.legend(loc='upper right') \n",
    "plt.show()"
   ]
  },
  {
   "cell_type": "code",
   "execution_count": 111,
   "metadata": {},
   "outputs": [
    {
     "name": "stdout",
     "output_type": "stream",
     "text": [
      "1.2457662869273982\n",
      "1.557010951960579\n",
      "0.18721262912803396\n",
      "0.49500452345482765\n"
     ]
    },
    {
     "data": {
      "image/png": "[encoded data removed]",
      "text/plain": [
       "<Figure size 432x288 with 1 Axes>"
      ]
     },
     "metadata": {
      "needs_background": "light"
     },
     "output_type": "display_data"
    }
   ],
   "source": [
    "# Creating normal distribution for question #3\n",
    "\n",
    "pop = 10000\n",
    "pval_1 = 0.2\n",
    "\n",
    "#use std from binomial distribution for better comparison\n",
    "# swap pval and n values when switching from normal to binomial\n",
    "n1 = 1.2465106337292113\n",
    "n2 = 1.5628604416261869\n",
    "\n",
    "pval_2 = 0.5\n",
    "\n",
    "pop1 = np.random.normal(pval_1, n1, pop)\n",
    "pop2 = np.random.normal(pval_2, n2, pop)\n",
    "\n",
    "print(pop1.std())\n",
    "print(pop2.std())\n",
    "print(pop1.mean())\n",
    "print(pop2.mean())\n",
    "\n",
    "plt.hist(pop1, alpha=0.5, label='pop_1') \n",
    "plt.hist(pop2, alpha=0.5, label='pop_2') \n",
    "plt.legend(loc='upper right') \n",
    "plt.show()"
   ]
  },
  {
   "cell_type": "code",
   "execution_count": 102,
   "metadata": {},
   "outputs": [],
   "source": [
    "#help(pop1)"
   ]
  },
  {
   "cell_type": "code",
   "execution_count": 103,
   "metadata": {},
   "outputs": [
    {
     "name": "stdout",
     "output_type": "stream",
     "text": [
      "0.15825895133744802\n",
      "1.3385129116266368\n",
      "0.6751579493845179\n",
      "1.4937254071746415\n"
     ]
    },
    {
     "data": {
      "image/png": "[encoded data removed]",
      "text/plain": [
       "<Figure size 432x288 with 1 Axes>"
      ]
     },
     "metadata": {
      "needs_background": "light"
     },
     "output_type": "display_data"
    }
   ],
   "source": [
    "# Using a sample size of 100, calculate the means and standard deviations of your samples.\n",
    "\n",
    "sample = 100\n",
    "sample1 = np.random.choice(pop1, sample, replace=True)\n",
    "sample2 = np.random.choice(pop2, sample, replace=True)\n",
    "\n",
    "print(sample1.mean())\n",
    "print(sample1.std())\n",
    "print(sample2.mean())\n",
    "print(sample2.std())\n",
    "\n",
    "plt.hist(sample1, alpha=0.5, label='sample 1') \n",
    "plt.hist(sample2, alpha=0.5, label='sample 2') \n",
    "plt.legend(loc='upper right') \n",
    "plt.show()"
   ]
  },
  {
   "cell_type": "code",
   "execution_count": 104,
   "metadata": {},
   "outputs": [],
   "source": [
    "# Change the probability value (p in the NumPy documentation) for pop1 to 0.3, \n",
    "# then take new samples and compute the t-statistic and p-value. \n",
    "# Then change the probability value p for group 1 to 0.4, and do it again. What changes, and why?"
   ]
  },
  {
   "cell_type": "code",
   "execution_count": 106,
   "metadata": {},
   "outputs": [],
   "source": [
    "pval_1 = 0.3\n",
    "pop1 = np.random.normal(pval_1, n1,  pop)"
   ]
  },
  {
   "cell_type": "code",
   "execution_count": 107,
   "metadata": {},
   "outputs": [
    {
     "name": "stdout",
     "output_type": "stream",
     "text": [
      "0.478109404285365\n",
      "2.646380937436533\n"
     ]
    },
    {
     "data": {
      "image/png": "[encoded data removed]",
      "text/plain": [
       "<Figure size 432x288 with 1 Axes>"
      ]
     },
     "metadata": {
      "needs_background": "light"
     },
     "output_type": "display_data"
    }
   ],
   "source": [
    "sample = 100\n",
    "sample1 = np.random.choice(pop1, sample, replace=True)\n",
    "\n",
    "# this calculuates difference of the 2 sample means.\n",
    "# Needed to calc t-value later\n",
    "diff = sample2.mean() - sample1.mean()\n",
    "print(diff)\n",
    "\n",
    "# take new samples and compute the t-statistic and p-value. \n",
    "size = np.array([len(sample1), len(sample2)])\n",
    "sd = np.array([sample1.std(), sample2.std()])\n",
    "\n",
    "# this calculuates standard error, needed to calc t-value\n",
    "diff_se = (sum(sd ** 2 / size)) ** 0.5\n",
    "\n",
    "# t-value\n",
    "print(diff/diff_se)\n",
    "\n",
    "plt.hist(sample1, alpha=0.5, label='sample 1') \n",
    "plt.hist(sample2, alpha=0.5, label='sample 2') \n",
    "plt.legend(loc='upper right') \n",
    "plt.show()"
   ]
  },
  {
   "cell_type": "code",
   "execution_count": 90,
   "metadata": {},
   "outputs": [
    {
     "name": "stdout",
     "output_type": "stream",
     "text": [
      "Ttest_indResult(statistic=1.406701703539166, pvalue=0.16150254069142275)\n"
     ]
    }
   ],
   "source": [
    "from scipy.stats import ttest_ind\n",
    "print(ttest_ind(sample2, sample1, equal_var = False))"
   ]
  },
  {
   "cell_type": "code",
   "execution_count": 110,
   "metadata": {},
   "outputs": [
    {
     "name": "stdout",
     "output_type": "stream",
     "text": [
      "-0.6415816554389036\n",
      "-4.145317754221549\n"
     ]
    },
    {
     "data": {
      "image/png": "[encoded data removed]",
      "text/plain": [
       "<Figure size 432x288 with 1 Axes>"
      ]
     },
     "metadata": {
      "needs_background": "light"
     },
     "output_type": "display_data"
    }
   ],
   "source": [
    "# Then change the probability value p for group 1 to 0.4, and do it again. \n",
    "# What changes, and why?\n",
    "\n",
    "pval_1 = 0.4\n",
    "pop1 = np.random.normal(n1, pval_1, pop)\n",
    "\n",
    "sample = 100\n",
    "sample1 = np.random.choice(pop1, sample, replace=True)\n",
    "\n",
    "# this calculuates difference of the 2 sample means.\n",
    "# Needed to calc t-value later\n",
    "diff = sample2.mean() - sample1.mean()\n",
    "print(diff)\n",
    "\n",
    "# take new samples and compute the t-statistic and p-value. \n",
    "size = np.array([len(sample1), len(sample2)])\n",
    "sd = np.array([sample1.std(), sample2.std()])\n",
    "\n",
    "# this calculuates standard error, needed to calc t-value\n",
    "diff_se = (sum(sd ** 2 / size)) ** 0.5\n",
    "\n",
    "# t-value\n",
    "print(diff/diff_se)\n",
    "\n",
    "plt.hist(sample1, alpha=0.5, label='sample 1') \n",
    "plt.hist(sample2, alpha=0.5, label='sample 2') \n",
    "plt.legend(loc='upper right') \n",
    "plt.show()"
   ]
  },
  {
   "cell_type": "code",
   "execution_count": 109,
   "metadata": {},
   "outputs": [
    {
     "name": "stdout",
     "output_type": "stream",
     "text": [
      "Ttest_indResult(statistic=-3.5108133166538824, pvalue=0.0006441539919430149)\n"
     ]
    }
   ],
   "source": [
    "from scipy.stats import ttest_ind\n",
    "print(ttest_ind(sample2, sample1, equal_var = False))"
   ]
  },
  {
   "cell_type": "code",
   "execution_count": 93,
   "metadata": {},
   "outputs": [],
   "source": [
    "# the pvalue increases and the tvalue decreases.\n",
    "# this is because as we changed the probability of sample1, we were actually\n",
    "# making it look more like sample2. \n",
    "# this decreased the difference of the means and ultimately stated that\n",
    "# the likelihood that we're dealing with 2 separate populates goes down and\n",
    "# the chances of dealing with noise goes up."
   ]
  },
  {
   "cell_type": "code",
   "execution_count": 94,
   "metadata": {},
   "outputs": [],
   "source": [
    "# Change the distribution of your populations from binomial to a \n",
    "# distribution of your choice. \n",
    "# Do the sample mean values still accurately represent the population values?\n",
    "\n",
    "# (Darwin's note: changed distribution type at beginning to save time.\n",
    "# Changed distribution type to normal)\n",
    "\n",
    "# The sample mean values appear to be similar to the population values"
   ]
  }
 ],
 "metadata": {
  "kernelspec": {
   "display_name": "Python 3",
   "language": "python",
   "name": "python3"
  },
  "language_info": {
   "codemirror_mode": {
    "name": "ipython",
    "version": 3
   },
   "file_extension": ".py",
   "mimetype": "text/x-python",
   "name": "python",
   "nbconvert_exporter": "python",
   "pygments_lexer": "ipython3",
   "version": "3.7.3"
  }
 },
 "nbformat": 4,
 "nbformat_minor": 2
}
