{
 "cells": [
  {
   "cell_type": "markdown",
   "metadata": {},
   "source": [
    "# Trees\n",
    "The last data structure that you'll learn about in this module is the tree. Trees are a bit different than the other data structures that you've seen so far, but they present a useful way to store information that has a hierarchical structure or that needs to be rapidly searchable. But the most distinguishing trait of trees is their sheer flexibility. You'll explore what that means below.\n",
    "\n",
    "## What is a tree?\n",
    "Here, you're going to focus on the most common variety of tree: the binary tree. You'll use that example to go over the vocabulary of trees.\n",
    "\n",
    "All trees are a set of nodes connected in a hierarchy. Each node is a value. That node can connect to nodes below it, which are called its children. The node linked above it, if there is one, is called a parent. The top node is called the root. If the node has no children, it's called a leaf. Every tree is a combination or permutation of these elements.\n",
    "\n",
    "Next, look at a simple tree and review those definitions, because they'll be relatively fundamental to what's to follow. You'll rely on them whenever trees are mentioned. And although they're similar to how you've learned about decision trees as a model, you cannot conflate the two types of trees. This is because the terms will vary and may have subtle differences in meaning.\n",
    "\n",
    "Binary Tree\n",
    "\n",
    "In the image above, A is your root. B and C are children of A. A is therefore a parent of B and a parent of C. B, in turn, is a parent of D and E, while C is a parent of F and G. D, E, F, and G are your leaves.\n",
    "\n",
    "A tree is binary if each nonleaf node has no more than two children. By this definition, a tree can still be binary even if the leaves aren't all in pairs. The example above is a special type of binary tree called a full binary tree; this is where all parent nodes have two children. More specifically, this example is a perfect binary tree, because it is a complete tree with all leaves on the same level.\n",
    "\n",
    "### A simple Python implementation\n",
    "So, how do you make a binary tree of your own?\n",
    "\n",
    "You can do it in two steps. First, you must create a node class:"
   ]
  },
  {
   "cell_type": "code",
   "execution_count": null,
   "metadata": {},
   "outputs": [],
   "source": [
    "class Node:\n",
    "    def __init__(self, val):\n",
    "        self.left = None\n",
    "        self.right = None\n",
    "        self.val = val"
   ]
  },
  {
   "cell_type": "markdown",
   "metadata": {},
   "source": [
    "The code above creates the framework for nodes. A node will take a value, which gives you the value at that point. It also lets you establish a left and right value, which are the two children of this node. To create a binary tree, simply populate those children with their own nodes.\n",
    "\n",
    "So to reconstruct the tree from above, you'd do this:"
   ]
  },
  {
   "cell_type": "code",
   "execution_count": null,
   "metadata": {},
   "outputs": [],
   "source": [
    "# Establish the initial root node and children\n",
    "root = Node('A')\n",
    "root.left = Node('B')\n",
    "root.right = Node('C')\n",
    "\n",
    "# Add the appropriate children for 'B' and 'C'\n",
    "root.left.left = Node('D')\n",
    "root.left.right = Node('E')\n",
    "root.right.left = Node('F')\n",
    "root.right.right = Node('G')\n"
   ]
  },
  {
   "cell_type": "markdown",
   "metadata": {},
   "source": [
    "And there you have it. You've now successfully implemented your example tree in Python. Note that this tree can easily grow by adding further children to leaf nodes. That's an important feature of trees that can be valuable if you need your tree to dynamically grow and prune.\n",
    "\n",
    "## Flexibility and use cases\n",
    "One of the main features of trees as a data structure should be apparent. For arrays and linked lists, there's a pretty clear order to things—and that order was very clearly specified when you were building a list. That order also creates rigidity.\n",
    "\n",
    "Trees, however, are much more flexible. You can put data into them in a variety of different ways, leading to a variety of differently shaped trees. Trees can have three children per node. They can increase as you move down from node to children. They can do almost anything that you could imagine in that structure of nodes and children. Now, naturally, some will be more suited to certain datasets than others, and efficiencies of various operations will likewise vary. But the sheer flexibility is a key advantage.\n",
    "\n",
    "So, what are these kinds of trees good for? The most obvious answer is hierarchical data. If you think of your data in layers, then trees can represent that. Academic courses (broken down into department, level, and then course) are a classic example. Machine-learning models (broken down as supervised or unsupervised, then by class, then down to specific kinds of implementations) could also work.\n",
    "\n",
    "## Traversing a tree\n",
    "Traversing a tree means seeing the value of all of the nodes in a tree and discerning its structure. If you are simply given a tree, you have to traverse it to know what its structure is and what its values are. This is another point where trees offer serious flexibility and a great deal of choice for the user. For an array or a linked list, there is a single best way to read the data (though you could argue that arrays could also be read backward). Trees have many, many more options.\n",
    "\n",
    "The simplest way is probably breadth first. In a breadth-first traversal, you try to explore the full breadth of a layer, one layer at a time, starting from the root. For all traversal algorithms, it's more common to work from left to right. So for this example, a breadth-first traversal would look like this:\n",
    "\n",
    "A, B, C, D, E, F, G\n",
    "\n",
    "You can also read a tree in a preorder fashion. This moves all the way through the left side of the tree. Then it moves back one layer at a time to move to the right before proceeding down the left side of the tree. So this would read your tree as follows:\n",
    "\n",
    "A, B, D, E, C, F, G\n",
    "\n",
    "This is called a depth-first traversal, because it first aims to find the depth of a tree, in direct contrast to the breadth-first method.\n",
    "\n",
    "Binary heaps\n",
    "Binary heaps are a particular variety of binary tree. They have two defining features. First, they must be complete binary trees. Second, the values within the heap either always increase or always decrease as you move from layer to layer. This means that every parent must either be greater or less than all children. This property must hold for the whole tree. A minimum binary heap sees the parent as always less than the children, and a maximum binary heap sees it as always greater than the children.\n",
    "\n",
    "Take a look at an example.\n",
    "\n",
    "Binary heap\n",
    "\n",
    "This is a maximum binary heap. Each parent is greater than its subsequent children. Now, obviously, to have this greater than or less than property, the heap has to be used to store numeric data.\n",
    "\n",
    "Why do this? Well, this gives you some advantages in searching for data. For example, when you look to the second layer, you know that the only place that an 8 could be is as the child of a 9. You gain that information without having to look through the children of 7. Data scientists use this for times when they want to quickly find and use subsets of a dataset, so the tree will need to have logic that a data scientist can use.\n",
    "\n",
    "You can see a broader Python implementation of the binary heap [here](https://www.geeksforgeeks.org/binary-heap/).\n",
    "\n",
    "Drill\n",
    "Implement a binary tree that is filled with 15 pieces of random data. Then write a program to traverse the tree using a breadth-first traversal. If you want additional practice, try other forms of traversal."
   ]
  },
  {
   "cell_type": "code",
   "execution_count": 15,
   "metadata": {},
   "outputs": [
    {
     "name": "stdout",
     "output_type": "stream",
     "text": [
      "Generating random array with 15 values...\n",
      "Done. Took 0.000278600000001461 seconds\n",
      "\n",
      "Filling the tree with 15 nodes...\n",
      "Done. Took 0.00022519999993164674 seconds\n",
      "\n",
      "Traversing all 15 nodes in tree...\n",
      "Done. Took 0.00017259999958696426 seconds\n",
      "\n"
     ]
    },
    {
     "name": "stderr",
     "output_type": "stream",
     "text": [
      "C:\\Users\\User\\Anaconda3\\lib\\site-packages\\ipykernel_launcher.py:38: DeprecationWarning: time.clock has been deprecated in Python 3.3 and will be removed from Python 3.8: use time.perf_counter or time.process_time instead\n",
      "C:\\Users\\User\\Anaconda3\\lib\\site-packages\\ipykernel_launcher.py:43: DeprecationWarning: time.clock has been deprecated in Python 3.3 and will be removed from Python 3.8: use time.perf_counter or time.process_time instead\n",
      "C:\\Users\\User\\Anaconda3\\lib\\site-packages\\ipykernel_launcher.py:48: DeprecationWarning: time.clock has been deprecated in Python 3.3 and will be removed from Python 3.8: use time.perf_counter or time.process_time instead\n",
      "C:\\Users\\User\\Anaconda3\\lib\\site-packages\\ipykernel_launcher.py:53: DeprecationWarning: time.clock has been deprecated in Python 3.3 and will be removed from Python 3.8: use time.perf_counter or time.process_time instead\n",
      "C:\\Users\\User\\Anaconda3\\lib\\site-packages\\ipykernel_launcher.py:58: DeprecationWarning: time.clock has been deprecated in Python 3.3 and will be removed from Python 3.8: use time.perf_counter or time.process_time instead\n",
      "C:\\Users\\User\\Anaconda3\\lib\\site-packages\\ipykernel_launcher.py:62: DeprecationWarning: time.clock has been deprecated in Python 3.3 and will be removed from Python 3.8: use time.perf_counter or time.process_time instead\n"
     ]
    }
   ],
   "source": [
    "import time\n",
    "import random\n",
    "\n",
    "\n",
    "class Node:\n",
    "    def __init__(self, value, left, right):\n",
    "        self.value = value\n",
    "        self.left = left\n",
    "        self.right = right\n",
    "\n",
    "\n",
    "def insert(root, v):\n",
    "    if root is None:\n",
    "        root = Node(v, None, None)\n",
    "    elif v < root.value:\n",
    "        root.left = insert(root.left, v)\n",
    "    else:\n",
    "        root.right = insert(root.right, v)\n",
    "\n",
    "    return root\n",
    "\n",
    "\n",
    "def traverse(root):\n",
    "    if root is None:\n",
    "        return\n",
    "\n",
    "    traverse(root.left)\n",
    "    traverse(root.right)\n",
    "\n",
    "\n",
    "if __name__ == \"__main__\":\n",
    "    root = None\n",
    "    SIZE = 15\n",
    "    a = []\n",
    "\n",
    "    print(\"Generating random array with %s values...\" % SIZE)\n",
    "\n",
    "    start = time.clock()\n",
    "\n",
    "    for i in range(SIZE):\n",
    "        a.append(random.randint(1, 10000))\n",
    "\n",
    "    end = time.clock() - start\n",
    "\n",
    "    print(\"Done. Took %s seconds\\n\" % end)\n",
    "    print(\"Filling the tree with %s nodes...\" % SIZE)\n",
    "\n",
    "    start = time.clock()\n",
    "\n",
    "    for i in range(SIZE):\n",
    "        root = insert(root, a[i])\n",
    "\n",
    "    end = time.clock() - start\n",
    "\n",
    "    print(\"Done. Took %s seconds\\n\" % end)\n",
    "    print(\"Traversing all %s nodes in tree...\" % SIZE)\n",
    "\n",
    "    start = time.clock()\n",
    "\n",
    "    traverse(root)\n",
    "\n",
    "    end = time.clock() - start\n",
    "\n",
    "    print(\"Done. Took %s seconds\\n\" % end)"
   ]
  },
  {
   "cell_type": "code",
   "execution_count": null,
   "metadata": {},
   "outputs": [],
   "source": []
  }
 ],
 "metadata": {
  "kernelspec": {
   "display_name": "Python 3",
   "language": "python",
   "name": "python3"
  },
  "language_info": {
   "codemirror_mode": {
    "name": "ipython",
    "version": 3
   },
   "file_extension": ".py",
   "mimetype": "text/x-python",
   "name": "python",
   "nbconvert_exporter": "python",
   "pygments_lexer": "ipython3",
   "version": "3.7.3"
  }
 },
 "nbformat": 4,
 "nbformat_minor": 4
}
