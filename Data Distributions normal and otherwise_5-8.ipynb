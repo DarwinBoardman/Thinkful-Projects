{
 "cells": [
  {
   "cell_type": "code",
   "execution_count": null,
   "metadata": {},
   "outputs": [],
   "source": [
    "#Choose 6 distributions from the list of random distributions available in NumPy, called “Distributions”\n",
    "\n",
    "#For each distribution:\n",
    "\n",
    "# 1. Generate a random variable with 100 datapoints using the code \n",
    "#distributionvar = np.random.distributionname([arguments], 100), \n",
    "#replacing distributionvar with an appropriate variable name and distributionname with the name of the distribution \n",
    "#you’ve chosen, and filling in the empty space in the parentheses with your chosen values for the appropriate parameters. \n",
    "#If you feel uncertain about how to do this, go back to the “Other Distributions” assignment for examples of code to\n",
    "#use as a starting point.\n",
    "\n"
   ]
  },
  {
   "cell_type": "code",
   "execution_count": 1,
   "metadata": {},
   "outputs": [],
   "source": [
    "import pandas as pd\n",
    "import numpy as np\n",
    "import matplotlib.pyplot as plt\n",
    "%matplotlib inline"
   ]
  },
  {
   "cell_type": "code",
   "execution_count": 2,
   "metadata": {},
   "outputs": [],
   "source": [
    "#1 Bernoulli distribution\n",
    "p = .05 \n",
    "sd = 1\n",
    "n = 100\n",
    "\n",
    "bernoulli = np.random.binomial(sd, p, n)"
   ]
  },
  {
   "cell_type": "code",
   "execution_count": 8,
   "metadata": {},
   "outputs": [
    {
     "data": {
      "image/png": "[encoded data removed]",
      "text/plain": [
       "<Figure size 432x288 with 1 Axes>"
      ]
     },
     "metadata": {},
     "output_type": "display_data"
    }
   ],
   "source": [
    "# Graph the variable using a histogram.\n",
    "plt.hist(bernoulli)\n",
    "plt.show()"
   ]
  },
  {
   "cell_type": "code",
   "execution_count": 9,
   "metadata": {},
   "outputs": [
    {
     "name": "stdout",
     "output_type": "stream",
     "text": [
      "0.06\n",
      "0.23748684174075835\n"
     ]
    }
   ],
   "source": [
    "# Compute the mean and standard deviation and plot them as vertical lines \n",
    "#on the histogram.\n",
    "\n",
    "print(bernoulli.mean())\n",
    "print(bernoulli.std())"
   ]
  },
  {
   "cell_type": "code",
   "execution_count": 10,
   "metadata": {},
   "outputs": [],
   "source": [
    "# This specific Bernoulli distribution doesn't really benefit from standard deviation. However, one could summize that the \n",
    "# average of 0.08 suggests the majority of the data is scewed towards zero."
   ]
  },
  {
   "cell_type": "code",
   "execution_count": 13,
   "metadata": {},
   "outputs": [],
   "source": [
    "# 2 Binomial distribution\n",
    "\n",
    "p = 0.5 \n",
    "sd = 20\n",
    "n = 100\n",
    "\n",
    "binomial = np.random.binomial(sd, p, n)"
   ]
  },
  {
   "cell_type": "code",
   "execution_count": 14,
   "metadata": {},
   "outputs": [
    {
     "data": {
      "image/png": "[encoded data removed]",
      "text/plain": [
       "<Figure size 432x288 with 1 Axes>"
      ]
     },
     "metadata": {},
     "output_type": "display_data"
    }
   ],
   "source": [
    "# Graph the variable using a histogram.\n",
    "plt.hist(binomial)\n",
    "plt.show()"
   ]
  },
  {
   "cell_type": "code",
   "execution_count": 15,
   "metadata": {},
   "outputs": [
    {
     "name": "stdout",
     "output_type": "stream",
     "text": [
      "9.99\n",
      "2.286897461627871\n"
     ]
    }
   ],
   "source": [
    "# Compute the mean and standard deviation and plot them as vertical lines \n",
    "#on the histogram.\n",
    "\n",
    "print(binomial.mean())\n",
    "print(binomial.std())"
   ]
  },
  {
   "cell_type": "code",
   "execution_count": null,
   "metadata": {},
   "outputs": [],
   "source": [
    "# The std and mean of the binomial distribution seems to provide some insight into the center tendancy of the data and\n",
    "# what the general distribution differences in the values."
   ]
  },
  {
   "cell_type": "code",
   "execution_count": 24,
   "metadata": {},
   "outputs": [],
   "source": [
    "# 3 Gamma distribution \n",
    "\n",
    "shape = 20 \n",
    "scale = 5\n",
    "n = 100\n",
    "\n",
    "gamma = np.random.gamma(shape, scale, n)"
   ]
  },
  {
   "cell_type": "code",
   "execution_count": 25,
   "metadata": {},
   "outputs": [
    {
     "data": {
      "image/png": "[encoded data removed]",
      "text/plain": [
       "<Figure size 432x288 with 1 Axes>"
      ]
     },
     "metadata": {},
     "output_type": "display_data"
    }
   ],
   "source": [
    "# Graph the variable using a histogram.\n",
    "\n",
    "plt.hist(gamma)\n",
    "plt.show()"
   ]
  },
  {
   "cell_type": "code",
   "execution_count": 21,
   "metadata": {},
   "outputs": [
    {
     "name": "stdout",
     "output_type": "stream",
     "text": [
      "19.803048813925773\n",
      "5.8088943098593395\n"
     ]
    }
   ],
   "source": [
    "# Compute the mean and standard deviation and plot them as vertical lines \n",
    "#on the histogram.\n",
    "\n",
    "print(gamma.mean())\n",
    "print(gamma.std())"
   ]
  },
  {
   "cell_type": "code",
   "execution_count": null,
   "metadata": {},
   "outputs": [],
   "source": [
    "# Gamma distribution appears to have a left or lower x axis value tendancy/bias. \n",
    "# Mean should still represent the bulk of the data concentration but might not give much insight into the full spread of the data\n",
    "# Std might be able to give insight into the variance of the data points."
   ]
  },
  {
   "cell_type": "code",
   "execution_count": 34,
   "metadata": {},
   "outputs": [],
   "source": [
    "# 4 Poisson distribution\n",
    "# uses lambda (l) as an argument\n",
    "\n",
    "l = 3\n",
    "n = 100\n",
    "\n",
    "poisson = np.random.poisson(l, n)"
   ]
  },
  {
   "cell_type": "code",
   "execution_count": 35,
   "metadata": {},
   "outputs": [
    {
     "data": {
      "image/png": "[encoded data removed]",
      "text/plain": [
       "<Figure size 432x288 with 1 Axes>"
      ]
     },
     "metadata": {},
     "output_type": "display_data"
    }
   ],
   "source": [
    "# Graph the variable using a histogram.\n",
    "\n",
    "plt.hist(poisson)\n",
    "plt.show()"
   ]
  },
  {
   "cell_type": "code",
   "execution_count": 36,
   "metadata": {},
   "outputs": [
    {
     "name": "stdout",
     "output_type": "stream",
     "text": [
      "3.08\n",
      "2.14326853193901\n"
     ]
    }
   ],
   "source": [
    "print(poisson.mean())\n",
    "print(poisson.std())"
   ]
  },
  {
   "cell_type": "code",
   "execution_count": null,
   "metadata": {},
   "outputs": [],
   "source": [
    "# Poisson distribution appears to have a left or lower x axis value tendancy/bias. \n",
    "# Mean should still represent the bulk of the data concentration but might not give much insight into the full spread of the data\n",
    "# Std might be able to give insight into the variance of the data points."
   ]
  },
  {
   "cell_type": "code",
   "execution_count": 78,
   "metadata": {},
   "outputs": [],
   "source": [
    "#5 Conditional Distribution\n",
    "# uses mean (m), std (sd) and number of occurrances (n)\n",
    "\n",
    "m = 75\n",
    "sd = 25\n",
    "n = 100\n",
    "\n",
    "cars = pd.DataFrame()\n",
    "cars['sold'] = np.random.normal(m, sd, n)"
   ]
  },
  {
   "cell_type": "code",
   "execution_count": 79,
   "metadata": {},
   "outputs": [
    {
     "data": {
      "image/png": "[encoded data removed]",
      "text/plain": [
       "<Figure size 432x288 with 1 Axes>"
      ]
     },
     "metadata": {},
     "output_type": "display_data"
    }
   ],
   "source": [
    "plt.hist(cars['sold'])\n",
    "plt.show()"
   ]
  },
  {
   "cell_type": "code",
   "execution_count": 80,
   "metadata": {},
   "outputs": [
    {
     "name": "stdout",
     "output_type": "stream",
     "text": [
      "75.8617595205489\n",
      "27.641907937219194\n"
     ]
    }
   ],
   "source": [
    "print(cars['sold'].mean())\n",
    "print(cars['sold'].std())"
   ]
  },
  {
   "cell_type": "code",
   "execution_count": 81,
   "metadata": {},
   "outputs": [],
   "source": [
    "# Conditional distribution seems to make good use of both mean and std."
   ]
  },
  {
   "cell_type": "code",
   "execution_count": 84,
   "metadata": {
    "scrolled": false
   },
   "outputs": [
    {
     "data": {
      "image/png": "[encoded data removed]",
      "text/plain": [
       "<Figure size 432x288 with 1 Axes>"
      ]
     },
     "metadata": {},
     "output_type": "display_data"
    }
   ],
   "source": [
    "#6 Subset of conditional distribution\n",
    "\n",
    "cars['sedan_cost'] = np.random.randint(0, 5, 100)\n",
    "\n",
    "plt.hist(cars[cars['sedan_cost'] > 2]['sold'])\n",
    "plt.show()"
   ]
  },
  {
   "cell_type": "code",
   "execution_count": 85,
   "metadata": {},
   "outputs": [
    {
     "name": "stdout",
     "output_type": "stream",
     "text": [
      "70.17867370377161\n",
      "23.258071150000713\n"
     ]
    }
   ],
   "source": [
    "print(cars[cars['sedan_cost'] > 2]['sold'].mean())\n",
    "print(cars[cars['sedan_cost'] > 2]['sold'].std())"
   ]
  },
  {
   "cell_type": "code",
   "execution_count": null,
   "metadata": {},
   "outputs": [],
   "source": [
    "# Subset of Conditional distribution seems to make good use of both mean and std.\n",
    "# In this case, mean might not capture outlier values very well."
   ]
  },
  {
   "cell_type": "code",
   "execution_count": null,
   "metadata": {},
   "outputs": [],
   "source": [
    "# The distributions with more sampling and closer to normal order are easier to use mean and std stats.\n",
    "# When there was significant gaps in the values (such as in the bernoulli example), the stat summary was harder to be useful.\n",
    "# In these cases, I would recommend changing the stats, look for more complete data sets, and/or change the graphical modeling."
   ]
  },
  {
   "cell_type": "code",
   "execution_count": 99,
   "metadata": {},
   "outputs": [],
   "source": [
    "# Additionally\n",
    "# 1. Generate two normally-distributed variables, one with a mean (m) of 5 and standard deviation (sd) of 0.5,\n",
    "# and the other with a mean of 10 and standard deviation of 1.\n",
    "\n",
    "m1 = 5\n",
    "sd1 = 0.5\n",
    "n1 = 100\n",
    "\n",
    "rand1 = np.random.normal(m1, sd1, n1)"
   ]
  },
  {
   "cell_type": "code",
   "execution_count": 100,
   "metadata": {},
   "outputs": [],
   "source": [
    "m2 = 10\n",
    "sd2 = 1\n",
    "n2 = 100\n",
    "\n",
    "rand2 = np.random.normal(m2, sd2, n2)"
   ]
  },
  {
   "cell_type": "code",
   "execution_count": 101,
   "metadata": {},
   "outputs": [],
   "source": [
    "# 2. Add them together to create a third variable.\n",
    "rand3 = rand1 + rand2"
   ]
  },
  {
   "cell_type": "code",
   "execution_count": 102,
   "metadata": {},
   "outputs": [
    {
     "data": {
      "image/png": "[encoded data removed]",
      "text/plain": [
       "<Figure size 432x288 with 1 Axes>"
      ]
     },
     "metadata": {},
     "output_type": "display_data"
    }
   ],
   "source": [
    "# 3. Graph the third variable using a histogram.\n",
    "plt.hist(rand3)\n",
    "plt.show()"
   ]
  },
  {
   "cell_type": "code",
   "execution_count": 103,
   "metadata": {},
   "outputs": [
    {
     "data": {
      "image/png": "[encoded data removed]",
      "text/plain": [
       "<Figure size 432x288 with 1 Axes>"
      ]
     },
     "metadata": {},
     "output_type": "display_data"
    },
    {
     "name": "stdout",
     "output_type": "stream",
     "text": [
      "14.970170538572177\n",
      "1.0033659583773817\n"
     ]
    }
   ],
   "source": [
    "# 4 Compute the mean and standard deviation and plot them as vertical lines on the histogram.\n",
    "\n",
    "plt.hist(rand3)\n",
    "\n",
    "plt.axvline(rand3.mean(), color = 'c', linestyle = 'solid', linewidth = 2)\n",
    "\n",
    "plt.axvline(rand3.mean() + rand3.std(), color = 'c', linestyle = 'dashed', linewidth = 2)\n",
    "\n",
    "plt.axvline(rand3.mean() - rand3.std(), color = 'c', linestyle = 'dashed', linewidth = 2)\n",
    "\n",
    "plt.show()\n",
    "\n",
    "print(rand3.mean())\n",
    "print(rand3.std())"
   ]
  },
  {
   "cell_type": "code",
   "execution_count": 104,
   "metadata": {},
   "outputs": [],
   "source": [
    "# 5.  Evaluate the descriptive statistics against the data.\n",
    "\n",
    "# The mean of the data is about 15 with a std of about 1. \n",
    "# The mean is identified on the graph by the solid line, which also happens to be close to the center tendency of the data.\n",
    "# Each dashed line represents 1 unit greater (right) and less (left) than average. \n",
    "# The bulk of data is within 1 standard deviation from mean."
   ]
  }
 ],
 "metadata": {
  "kernelspec": {
   "display_name": "Python 3",
   "language": "python",
   "name": "python3"
  },
  "language_info": {
   "codemirror_mode": {
    "name": "ipython",
    "version": 3
   },
   "file_extension": ".py",
   "mimetype": "text/x-python",
   "name": "python",
   "nbconvert_exporter": "python",
   "pygments_lexer": "ipython3",
   "version": "3.6.5"
  }
 },
 "nbformat": 4,
 "nbformat_minor": 2
}
