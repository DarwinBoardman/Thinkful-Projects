{
 "cells": [
  {
   "cell_type": "markdown",
   "metadata": {},
   "source": [
    "## DRILL:\n",
    "\n",
    "Let's say we work at a credit card company and we're trying to figure out if people are going to pay their bills on time. We have everyone's purchases, split into four main categories: groceries, dining out, utilities, and entertainment. What are some ways you might use KNN to create this model? What aspects of KNN would be useful? Write up your thoughts in submit a link below."
   ]
  },
  {
   "cell_type": "markdown",
   "metadata": {},
   "source": [
    "- First off, I don't think we have enough information to accurately determine whether someone will pay their bills on time. \n",
    "- I would recommend looking into credit or payment history of the customer in addition to spending habits.\n",
    "\n",
    "Working with what we have.\n",
    "- Sum of money spent can be misleading. Some might spend more because they also make more money. Groceries and utilities might help better understand their overall budget.\n",
    "- Instead of looking at each category seperately, it might be helpful to make each column represent a percentage of a total out of 100% or 1. That way, the percentage of money they spend in each category can be better diagnosed.\n",
    "- After we normalize the columns, we could use a weighting factor for commonality shared among people with similar spending habits. This might not catch everything due to unknown variations of income but this could help organize populations that are more similar than others.\n",
    "- Intuitively, those who spend more on entertainment and eating could indicate thoughtless spending. Conversely, it could also indicate those who have money to spend vs those who can only afford the basics. \n",
    "- If budgets are tight, then there could a trend on low utility and grocery spending with minimal entertainment and eating out.\n",
    "- If people are acting irresponsbily, then the percentage of dining out and entertainment could make up for the lion share of spending.\n",
    "- Deciding a $k$ will be tricky since we don't know how the data looks. A modest 3 or 5 might be good places to start. However, plotting a grid of values for $k$ and review the accuracies might be the best approach.\n",
    "- Selecting the best $k$ and weighting factor is likely an iterative process."
   ]
  },
  {
   "cell_type": "code",
   "execution_count": null,
   "metadata": {},
   "outputs": [],
   "source": []
  }
 ],
 "metadata": {
  "kernelspec": {
   "display_name": "Python 3",
   "language": "python",
   "name": "python3"
  },
  "language_info": {
   "codemirror_mode": {
    "name": "ipython",
    "version": 3
   },
   "file_extension": ".py",
   "mimetype": "text/x-python",
   "name": "python",
   "nbconvert_exporter": "python",
   "pygments_lexer": "ipython3",
   "version": "3.7.3"
  }
 },
 "nbformat": 4,
 "nbformat_minor": 2
}
