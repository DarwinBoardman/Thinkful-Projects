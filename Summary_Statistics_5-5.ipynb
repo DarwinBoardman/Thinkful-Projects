{
 "cells": [
  {
   "cell_type": "code",
   "execution_count": 2,
   "metadata": {},
   "outputs": [],
   "source": [
    "# importing necessary packages\n",
    "\n",
    "import pandas as pd\n",
    "import matplotlib.pyplot as plt\n",
    "#%matplotlib inline  ...  new update makes this obsolete\n",
    "import numpy as np\n",
    "import datetime as dt\n",
    "import statistics"
   ]
  },
  {
   "cell_type": "code",
   "execution_count": 3,
   "metadata": {
    "scrolled": true
   },
   "outputs": [
    {
     "name": "stdout",
     "output_type": "stream",
     "text": [
      "     Name  Age\n",
      "0    Greg   14\n",
      "1  Marcia   12\n",
      "2   Peter   11\n",
      "3     Jan   10\n",
      "4   Bobby    8\n",
      "5   Cindy    6\n",
      "6  Oliver    8\n"
     ]
    }
   ],
   "source": [
    "# Greg was 14, Marcia was 12, Peter was 11, Jan was 10, Bobby was 8, and Cindy was 6 when \n",
    "# they started playing the Brady kids on The Brady Bunch. Cousin Oliver was 8 years old when he joined the show. \n",
    "# What are the mean, median, and mode of the kids' ages when they first appeared on the show? What are the variance, \n",
    "# standard deviation, and standard error?\n",
    "\n",
    "# Setting up manual dataframe\n",
    "data = [['Greg', 14], ['Marcia', 12], ['Peter', 11], ['Jan', 10], ['Bobby', 8], ['Cindy', 6], ['Oliver', 8]]\n",
    "df = pd.DataFrame(data, columns = ['Name', 'Age'])\n",
    "print(df)"
   ]
  },
  {
   "cell_type": "code",
   "execution_count": 4,
   "metadata": {},
   "outputs": [
    {
     "name": "stdout",
     "output_type": "stream",
     "text": [
      "The average age is 9.857142857142858\n",
      "The median age is 10.0\n",
      "The mode age is 0    8\n",
      "dtype: int64\n",
      "The standard deviation of age is 2.531435020952764\n",
      "The variance of age is 6.408163265306121\n",
      "The standard error of age is 0.9567925036515135\n"
     ]
    }
   ],
   "source": [
    "# Create summmary statistics\n",
    "\n",
    "print(\"The average age is \" + str(df.Age.mean()))\n",
    "print(\"The median age is \" + str(df.Age.median()))\n",
    "print(\"The mode age is \" + str(df.Age.mode()))\n",
    "print(\"The standard deviation of age is \" + str(np.std(df['Age'])))\n",
    "print(\"The variance of age is \" + str((np.std(df['Age']))**2))\n",
    "print(\"The standard error of age is \" + str(np.std(df['Age']) / np.sqrt(len(df['Age']))))"
   ]
  },
  {
   "cell_type": "code",
   "execution_count": 5,
   "metadata": {},
   "outputs": [],
   "source": [
    "# Using these estimates, if you had to choose only one estimate of central tendency and one estimate of \n",
    "# variance to describe the data, which would you pick and why?\n",
    "\n",
    "# I would use the Average and Standard Deviation in this case. \n",
    "# These methods tell me that the average age is about 10, and they're roughly 2 years apart in age. \n",
    "# Based on the size of population (7 kids) and their relative ages, \n",
    "# the other central tendency methods don't really provide much context for the distribution of ages. \n",
    "# Standard error and variance would be more useful if the population was larger, as would the other central tendency methods."
   ]
  },
  {
   "cell_type": "code",
   "execution_count": 6,
   "metadata": {},
   "outputs": [
    {
     "name": "stdout",
     "output_type": "stream",
     "text": [
      "     Name  Age\n",
      "0    Greg   14\n",
      "1  Marcia   12\n",
      "2   Peter   11\n",
      "3     Jan   10\n",
      "4   Bobby    8\n",
      "5   Cindy    7\n",
      "6  Oliver    8\n"
     ]
    }
   ],
   "source": [
    "# Next, Cindy has a birthday. Update your estimates- what changed, and what didn't?\n",
    "df2 = df\n",
    "df2.at[5,'Age'] += 1\n",
    "print(df2)"
   ]
  },
  {
   "cell_type": "code",
   "execution_count": 7,
   "metadata": {},
   "outputs": [
    {
     "name": "stdout",
     "output_type": "stream",
     "text": [
      "The average age is 10.0\n",
      "The median age is 10.0\n",
      "The mode age is 0    8\n",
      "dtype: int64\n",
      "The standard deviation of age is 2.32992949004287\n",
      "The variance of age is 5.428571428571429\n",
      "The standard error of age is 0.8806305718527109\n"
     ]
    }
   ],
   "source": [
    "print(\"The average age is \" + str(df2.Age.mean()))\n",
    "print(\"The median age is \" + str(df2.Age.median()))\n",
    "print(\"The mode age is \" + str(df2.Age.mode()))\n",
    "print(\"The standard deviation of age is \" + str(np.std(df2['Age'])))\n",
    "print(\"The variance of age is \" + str((np.std(df2['Age']))**2))\n",
    "print(\"The standard error of age is \" + str(np.std(df2['Age']) / np.sqrt(len(df2['Age']))))"
   ]
  },
  {
   "cell_type": "code",
   "execution_count": 8,
   "metadata": {},
   "outputs": [],
   "source": [
    "# The only major change to the stats was the variance of age. \n",
    "# The other stats updated within a rounding error (like average age), or not at all (like mode of age)."
   ]
  },
  {
   "cell_type": "code",
   "execution_count": 9,
   "metadata": {},
   "outputs": [
    {
     "name": "stdout",
     "output_type": "stream",
     "text": [
      "      Name  Age\n",
      "0     Greg   14\n",
      "1   Marcia   12\n",
      "2    Peter   11\n",
      "3      Jan   10\n",
      "4    Bobby    8\n",
      "5    Cindy    7\n",
      "6  Jessica    1\n"
     ]
    }
   ],
   "source": [
    "# Nobody likes Cousin Oliver. Maybe the network should have used an even younger actor. \n",
    "# Replace Cousin Oliver with 1-year-old Jessica, then recalculate again. \n",
    "# Does this change your choice of central tendency or variance estimation methods?\n",
    "\n",
    "# Assuming Cindy is still 7 years old.\n",
    "df3 = df2\n",
    "df3.at[6,'Age'] = 1\n",
    "df3.at[6, 'Name'] = 'Jessica'\n",
    "\n",
    "print(df3)"
   ]
  },
  {
   "cell_type": "code",
   "execution_count": 10,
   "metadata": {},
   "outputs": [
    {
     "name": "stdout",
     "output_type": "stream",
     "text": [
      "The average age is 9.0\n",
      "The median age is 10.0\n",
      "The mode age is 0     1\n",
      "1     7\n",
      "2     8\n",
      "3    10\n",
      "4    11\n",
      "5    12\n",
      "6    14\n",
      "dtype: int64\n",
      "The standard deviation of age is 3.927922024247863\n",
      "The variance of age is 15.428571428571429\n",
      "The standard error of age is 1.4846149779161806\n"
     ]
    }
   ],
   "source": [
    "print(\"The average age is \" + str(df3.Age.mean()))\n",
    "print(\"The median age is \" + str(df3.Age.median()))\n",
    "print(\"The mode age is \" + str(df3.Age.mode()))\n",
    "print(\"The standard deviation of age is \" + str(np.std(df3['Age'])))\n",
    "print(\"The variance of age is \" + str((np.std(df3['Age']))**2))\n",
    "print(\"The standard error of age is \" + str(np.std(df3['Age']) / np.sqrt(len(df3['Age']))))"
   ]
  },
  {
   "cell_type": "code",
   "execution_count": 11,
   "metadata": {},
   "outputs": [],
   "source": [
    "# Everything except average and median age drastically changed because replacing an 8-year-old with a 1-year-old significantly \n",
    "# altered the age distribution but not enough change the overall average or mid-range of the ages."
   ]
  },
  {
   "cell_type": "code",
   "execution_count": 12,
   "metadata": {},
   "outputs": [
    {
     "name": "stdout",
     "output_type": "stream",
     "text": [
      "               Magazine  Fans\n",
      "0              TV Guide    20\n",
      "1  Entertainment Weekly    23\n",
      "2     Pop Culture Today    17\n",
      "3       SciPhi Phanatic     5\n"
     ]
    }
   ],
   "source": [
    "# On the 50th anniversary of The Brady Bunch, four different magazines asked their readers whether they were fans of the show. \n",
    "# The answers were: TV Guide 20% fans Entertainment Weekly 23% fans Pop Culture Today 17% fans SciPhi Phanatic 5% fans\n",
    "\n",
    "# Based on these numbers, what percentage of adult Americans would you estimate were Brady Bunch fans on the \n",
    "# 50th anniversary of the show?\n",
    "\n",
    "fans = [['TV Guide', 20], ['Entertainment Weekly', 23], ['Pop Culture Today', 17], ['SciPhi Phanatic', 5]]\n",
    "df4 = pd.DataFrame(fans, columns = ['Magazine', 'Fans'])\n",
    "print(df4)"
   ]
  },
  {
   "cell_type": "code",
   "execution_count": 13,
   "metadata": {},
   "outputs": [
    {
     "name": "stdout",
     "output_type": "stream",
     "text": [
      "The average percent of adult fans is 16.25%\n"
     ]
    }
   ],
   "source": [
    "print(\"The average percent of adult fans is \" + str(df4.Fans.mean()) + \"%\")"
   ]
  },
  {
   "cell_type": "code",
   "execution_count": null,
   "metadata": {},
   "outputs": [],
   "source": []
  }
 ],
 "metadata": {
  "kernelspec": {
   "display_name": "Python 3",
   "language": "python",
   "name": "python3"
  },
  "language_info": {
   "codemirror_mode": {
    "name": "ipython",
    "version": 3
   },
   "file_extension": ".py",
   "mimetype": "text/x-python",
   "name": "python",
   "nbconvert_exporter": "python",
   "pygments_lexer": "ipython3",
   "version": "3.7.3"
  }
 },
 "nbformat": 4,
 "nbformat_minor": 2
}
